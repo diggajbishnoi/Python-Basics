{
  "nbformat": 4,
  "nbformat_minor": 0,
  "metadata": {
    "colab": {
      "provenance": [],
      "authorship_tag": "ABX9TyPgnJI8ruOS7Iugv8jPWvOp",
      "include_colab_link": true
    },
    "kernelspec": {
      "name": "python3",
      "display_name": "Python 3"
    },
    "language_info": {
      "name": "python"
    }
  },
  "cells": [
    {
      "cell_type": "markdown",
      "metadata": {
        "id": "view-in-github",
        "colab_type": "text"
      },
      "source": [
        "<a href=\"https://colab.research.google.com/github/diggajbishnoi/Python-Basics/blob/main/CWH_Python.ipynb\" target=\"_parent\"><img src=\"https://colab.research.google.com/assets/colab-badge.svg\" alt=\"Open In Colab\"/></a>"
      ]
    },
    {
      "cell_type": "code",
      "source": [
        "import numpy as np\n",
        "import pandas as pd\n",
        "import seaborn as sns\n",
        "import matplotlib.pyplot as plt\n",
        "import hashlib\n",
        "import tensorflow"
      ],
      "metadata": {
        "id": "56nWwJYo567W"
      },
      "execution_count": null,
      "outputs": []
    },
    {
      "cell_type": "markdown",
      "source": [
        "### **Day 1**:- Hello World!"
      ],
      "metadata": {
        "id": "q7sKnGnq5Jbh"
      }
    },
    {
      "cell_type": "code",
      "source": [
        "print(\"Hello World!\")\n",
        "print(5)\n",
        "print(\"Bye\")\n",
        "print(17*23)"
      ],
      "metadata": {
        "colab": {
          "base_uri": "https://localhost:8080/"
        },
        "id": "BAtUt_kf6rb4",
        "outputId": "b1858f41-259f-448e-c6c0-a78fa285e159"
      },
      "execution_count": null,
      "outputs": [
        {
          "output_type": "stream",
          "name": "stdout",
          "text": [
            "Hello World!\n",
            "5\n",
            "Bye\n",
            "391\n"
          ]
        }
      ]
    },
    {
      "cell_type": "code",
      "source": [
        "print(\"78\")\n",
        "print(78)"
      ],
      "metadata": {
        "id": "s2xYKbat6t-V",
        "colab": {
          "base_uri": "https://localhost:8080/"
        },
        "outputId": "811c2a7e-7721-45a1-94ca-584af4eae84f"
      },
      "execution_count": null,
      "outputs": [
        {
          "output_type": "stream",
          "name": "stdout",
          "text": [
            "78\n",
            "78\n"
          ]
        }
      ]
    },
    {
      "cell_type": "markdown",
      "source": [
        "### **Day 2:-** Comments, Escape sequence & Print in python."
      ],
      "metadata": {
        "id": "vKCaQvqP6jB1"
      }
    },
    {
      "cell_type": "code",
      "source": [
        "#  this hashtag is used for adding comments. and shrtcut is cmd+/\n",
        "print(\"Hey I am a good boy \\nand this viewer is also a good person.\")"
      ],
      "metadata": {
        "colab": {
          "base_uri": "https://localhost:8080/"
        },
        "id": "0QDz9I5M6K4Q",
        "outputId": "2aa614c7-e186-4870-f529-44cc656f9f2c"
      },
      "execution_count": null,
      "outputs": [
        {
          "output_type": "stream",
          "name": "stdout",
          "text": [
            "Hey I am a good boy \n",
            "and this viewer is also a good person.\n"
          ]
        }
      ]
    },
    {
      "cell_type": "code",
      "source": [
        "# Multiline comments:- either use cmd+/ or use '''_____''' .\n",
        "\n",
        "'''\n",
        "hey Diggaj, please don't remove this line\n",
        "Author: Diggaj\n",
        "Place: Chandigarh\n",
        "Course: Python\n",
        "'''\n",
        "print(\"Welcome to the course and hope you enjoy it.\")"
      ],
      "metadata": {
        "colab": {
          "base_uri": "https://localhost:8080/"
        },
        "id": "px8p7YxZ6-Q2",
        "outputId": "a7d3e14e-d16c-4faa-a9af-8c50a5a71b51"
      },
      "execution_count": null,
      "outputs": [
        {
          "output_type": "stream",
          "name": "stdout",
          "text": [
            "Welcome to the course and hope you enjoy it.\n"
          ]
        }
      ]
    },
    {
      "cell_type": "code",
      "source": [
        "## ESCAPE Sequence :- use \\n.\n",
        "\n",
        "print(\"Hii Welocme to the course \\nHope you will enjoy the course\\nAll the Best!\")"
      ],
      "metadata": {
        "colab": {
          "base_uri": "https://localhost:8080/"
        },
        "id": "wjX755Rc80He",
        "outputId": "eb1d8b3a-d686-4946-8aa4-88f1ab0a79f6"
      },
      "execution_count": null,
      "outputs": [
        {
          "output_type": "stream",
          "name": "stdout",
          "text": [
            "Hii Welocme to the course \n",
            "Hope you will enjoy the course\n",
            "All the Best!\n"
          ]
        }
      ]
    },
    {
      "cell_type": "code",
      "source": [
        "# Print statement:-\n",
        "\n",
        "print(\"hey\",6,7)\n",
        "print(\"hey\",6,7,\"diggaj\", sep=\"--\",end=\"008\")"
      ],
      "metadata": {
        "colab": {
          "base_uri": "https://localhost:8080/"
        },
        "id": "Rm6qPnnL9y0x",
        "outputId": "18ecd1ab-82b1-41a7-d6cc-e999676c5f87"
      },
      "execution_count": null,
      "outputs": [
        {
          "output_type": "stream",
          "name": "stdout",
          "text": [
            "hey 6 7\n",
            "hey--6--7--diggaj008"
          ]
        }
      ]
    },
    {
      "cell_type": "markdown",
      "source": [
        "### **Day 3:- Variable and Data types**\n",
        "\n",
        "Variables:- They are the containers for storing the data.\n",
        "\n",
        "Data Types:- It specifies the type of the value that a variable holds."
      ],
      "metadata": {
        "id": "EIEMjQo1hsJC"
      }
    },
    {
      "cell_type": "code",
      "source": [
        "a = 12467    ## here a is the variable which stores a number.\n",
        "print(a)\n",
        "\n",
        "b=\"diggaj\"\n",
        "print(b)\n",
        "\n",
        "# print(a+b).  ## this is not possible and generate error bcoz both them are not same data types.\n",
        "\n",
        "print(str(a)+b)"
      ],
      "metadata": {
        "id": "7HrIXmgS-UIe",
        "colab": {
          "base_uri": "https://localhost:8080/"
        },
        "outputId": "478c97cc-99ae-458a-b109-3109b209e12f"
      },
      "execution_count": null,
      "outputs": [
        {
          "output_type": "stream",
          "name": "stdout",
          "text": [
            "12467\n",
            "diggaj\n",
            "12467diggaj\n"
          ]
        }
      ]
    },
    {
      "cell_type": "code",
      "source": [
        "a = 67\n",
        "print(\"the type of data type in a is \",type(a))\n",
        "\n",
        "b=56\n",
        "print(type(b))\n",
        "\n",
        "c=\"Diggaj\"\n",
        "print(type(c))\n",
        "\n",
        "d=True\n",
        "print(type(d))\n",
        "\n",
        "e=None\n",
        "print(type(e))"
      ],
      "metadata": {
        "colab": {
          "base_uri": "https://localhost:8080/"
        },
        "id": "yQRtQwt5iWxk",
        "outputId": "4afce2c4-3f2c-438a-da37-48133c96ce74"
      },
      "execution_count": null,
      "outputs": [
        {
          "output_type": "stream",
          "name": "stdout",
          "text": [
            "the type of data type in a is  <class 'int'>\n",
            "<class 'int'>\n",
            "<class 'str'>\n",
            "<class 'bool'>\n",
            "<class 'NoneType'>\n"
          ]
        }
      ]
    },
    {
      "cell_type": "code",
      "source": [
        "a=67.76\n",
        "print(type(a))\n",
        "\n",
        "b=-3\n",
        "print(type(b))\n",
        "\n",
        "c=complex(1,5)\n",
        "print(c)\n",
        "type(c)"
      ],
      "metadata": {
        "colab": {
          "base_uri": "https://localhost:8080/"
        },
        "id": "UeZ87LcIkQv_",
        "outputId": "e24bcb3b-ef21-4720-f304-22a1c43d4021"
      },
      "execution_count": null,
      "outputs": [
        {
          "output_type": "stream",
          "name": "stdout",
          "text": [
            "<class 'float'>\n",
            "<class 'int'>\n",
            "(1+5j)\n"
          ]
        },
        {
          "output_type": "execute_result",
          "data": {
            "text/plain": [
              "complex"
            ]
          },
          "metadata": {},
          "execution_count": 9
        }
      ]
    },
    {
      "cell_type": "code",
      "source": [
        " # Operators:- +,_,/,*,//,%,**\n",
        "\n",
        "print(15//6)   # it will provide th quotient as answer.\n",
        "\n",
        "print(8%3)   # it will provide the remainder as answer.\n",
        "\n",
        "print(9%2)\n",
        "\n",
        "print(5**2) # it will return its own multiplited value.\n",
        "print(2**0)"
      ],
      "metadata": {
        "colab": {
          "base_uri": "https://localhost:8080/"
        },
        "id": "7xW-enLj7EE6",
        "outputId": "08c742ec-943c-49f6-8ac0-9488d740ebc7"
      },
      "execution_count": null,
      "outputs": [
        {
          "output_type": "stream",
          "name": "stdout",
          "text": [
            "2\n",
            "2\n",
            "1\n",
            "25\n",
            "1\n"
          ]
        }
      ]
    },
    {
      "cell_type": "code",
      "source": [
        "# SWAPCASE of NUMBERS:-\n",
        "\n",
        "a=7\n",
        "b=6\n",
        "\n",
        "a,b=b,a\n",
        "\n",
        "print(a)\n",
        "print(b)"
      ],
      "metadata": {
        "colab": {
          "base_uri": "https://localhost:8080/"
        },
        "id": "Dl140UvkmoHm",
        "outputId": "07f1cfcd-6a8d-4b79-d401-5bf81fbcf872"
      },
      "execution_count": null,
      "outputs": [
        {
          "output_type": "stream",
          "name": "stdout",
          "text": [
            "6\n",
            "7\n"
          ]
        }
      ]
    },
    {
      "cell_type": "markdown",
      "source": [
        "### **Calculator using Python:-**"
      ],
      "metadata": {
        "id": "IY3DJNOiAl_Q"
      }
    },
    {
      "cell_type": "code",
      "source": [
        "# operator=input(\"(+,-,/,*)\")\n",
        "\n",
        "a=float(input(\"Enter the first number:\"))\n",
        "\n",
        "operator=input(\"+,-,/,*\")\n",
        "\n",
        "\n",
        "b=float(input(\"Enter the second number:\"))\n",
        "\n",
        "if (operator == \"+\"):\n",
        "  print(a+b)\n",
        "\n",
        "elif (operator == \"-\"):\n",
        "  print(a-b)\n",
        "\n",
        "elif (operator == \"/\"):\n",
        "  print(a/b)\n",
        "\n",
        "elif (operator == '*'):\n",
        "  print(a*b)\n"
      ],
      "metadata": {
        "colab": {
          "base_uri": "https://localhost:8080/"
        },
        "id": "hQeu4xStAlef",
        "outputId": "44d3a570-3700-4a1a-ddcd-434f645b62e2"
      },
      "execution_count": null,
      "outputs": [
        {
          "output_type": "stream",
          "name": "stdout",
          "text": [
            "Enter the first number:54\n",
            "+,-,/,**\n",
            "Enter the second number:66\n",
            "3564.0\n"
          ]
        }
      ]
    },
    {
      "cell_type": "markdown",
      "source": [
        "### **Day 4:-** Typecasting:- conversion of one data type into another."
      ],
      "metadata": {
        "id": "ldc_kH7XFBjG"
      }
    },
    {
      "cell_type": "code",
      "source": [
        "a=\"3\"\n",
        "b=\"2\"\n",
        "print(a+b)\n",
        "print(int(a)+int(b))\n",
        "print(float(a)+float(b))\n"
      ],
      "metadata": {
        "colab": {
          "base_uri": "https://localhost:8080/"
        },
        "id": "AujIJxt8Ajje",
        "outputId": "2daa3d1e-b9b4-468e-e073-0d29d78b48f7"
      },
      "execution_count": null,
      "outputs": [
        {
          "output_type": "stream",
          "name": "stdout",
          "text": [
            "32\n",
            "5\n",
            "5.0\n"
          ]
        }
      ]
    },
    {
      "cell_type": "code",
      "source": [
        "a=7\n",
        "b=10.0\n",
        "c=a+b\n",
        "print(c)     # this is Implicit Type casting:- one data type gets converted into other data type.\n",
        "\n",
        "print(type(a))\n",
        "print(type(b))\n",
        "print(type(c))"
      ],
      "metadata": {
        "colab": {
          "base_uri": "https://localhost:8080/"
        },
        "id": "UkFcxNG8FdbN",
        "outputId": "d3b06a0a-fe06-45f7-ab61-119974b23524"
      },
      "execution_count": null,
      "outputs": [
        {
          "output_type": "stream",
          "name": "stdout",
          "text": [
            "17.0\n",
            "<class 'int'>\n",
            "<class 'float'>\n",
            "<class 'float'>\n"
          ]
        }
      ]
    },
    {
      "cell_type": "markdown",
      "source": [
        "### Day 5:- User Input"
      ],
      "metadata": {
        "id": "jjtnTdftZU4v"
      }
    },
    {
      "cell_type": "code",
      "source": [
        "a=input(\"Enter your first name: \")\n",
        "b=input(\"Enter your second name: \")\n",
        "\n",
        "print(a+\" \"+b)"
      ],
      "metadata": {
        "colab": {
          "base_uri": "https://localhost:8080/"
        },
        "id": "OnVD3jAYV0-N",
        "outputId": "f0b73f35-0db1-4a8e-8c4e-ab101a1e028f"
      },
      "execution_count": null,
      "outputs": [
        {
          "output_type": "stream",
          "name": "stdout",
          "text": [
            "Enter your first name: Diggaj\n",
            "Enter your second name: Bishnoi\n",
            "Diggaj Bishnoi\n"
          ]
        }
      ]
    },
    {
      "cell_type": "code",
      "source": [
        "a=input()\n",
        "print(\"My name is\",a)"
      ],
      "metadata": {
        "colab": {
          "base_uri": "https://localhost:8080/"
        },
        "id": "6WFEJcWeZtUv",
        "outputId": "82035c8f-1a66-4d0f-8d01-8f08b9402ffc"
      },
      "execution_count": null,
      "outputs": [
        {
          "output_type": "stream",
          "name": "stdout",
          "text": [
            "Diggaj\n",
            "My name is Diggaj\n"
          ]
        }
      ]
    },
    {
      "cell_type": "code",
      "source": [
        "x=input(\"enter your first number: \")\n",
        "y=input(\"enter your second number: \")\n",
        "print(x+y)\n",
        "\n",
        "print(float(x)+float(y))\n",
        "\n",
        "print(int(x)+int(y))"
      ],
      "metadata": {
        "colab": {
          "base_uri": "https://localhost:8080/"
        },
        "id": "VDqYc_aMavpL",
        "outputId": "23c6578a-75a3-46c5-b466-f5445535277f"
      },
      "execution_count": null,
      "outputs": [
        {
          "output_type": "stream",
          "name": "stdout",
          "text": [
            "enter your first number: 100\n",
            "enter your second number: 12\n",
            "10012\n",
            "112.0\n",
            "112\n"
          ]
        }
      ]
    },
    {
      "cell_type": "markdown",
      "source": [
        "### Day 6:- Strings \" \" or ' '\n",
        "\n",
        "''' ____''' :- is for multiline string used to print multiple lines."
      ],
      "metadata": {
        "id": "FYQjaiWicxfZ"
      }
    },
    {
      "cell_type": "code",
      "source": [
        "name=\"Diggaj\"\n",
        "print(\"Hello\"+\" \"+name)"
      ],
      "metadata": {
        "colab": {
          "base_uri": "https://localhost:8080/"
        },
        "id": "xm3AKdbsbUfX",
        "outputId": "b8df22bb-3d16-477f-f409-4d5111f17a4d"
      },
      "execution_count": null,
      "outputs": [
        {
          "output_type": "stream",
          "name": "stdout",
          "text": [
            "Hello Diggaj\n"
          ]
        }
      ]
    },
    {
      "cell_type": "code",
      "source": [
        "name=\"diggaj\"\n",
        "apple='''hi there\n",
        "how r u?\n",
        "hope u are fine?'''\n",
        "\n",
        "print(name+\" \"+apple)\n",
        "\n",
        "print(len(apple))"
      ],
      "metadata": {
        "colab": {
          "base_uri": "https://localhost:8080/"
        },
        "id": "tCIDWFD2te0t",
        "outputId": "c144f438-7cf5-403a-c7bf-e38f6a2cbb1f"
      },
      "execution_count": null,
      "outputs": [
        {
          "output_type": "stream",
          "name": "stdout",
          "text": [
            "diggaj hi there\n",
            "how r u?\n",
            "hope u are fine?\n",
            "34\n"
          ]
        }
      ]
    },
    {
      "cell_type": "markdown",
      "source": [
        "### Day 7:- String slicing & accesing special characters in string."
      ],
      "metadata": {
        "id": "-O744zliwMGd"
      }
    },
    {
      "cell_type": "code",
      "source": [
        "a=\"diggaj\"\n",
        "print(a[0])\n",
        "print(a[2])\n",
        "print(a[4])\n",
        "print(len(a))"
      ],
      "metadata": {
        "colab": {
          "base_uri": "https://localhost:8080/"
        },
        "id": "O-sJ2xjGw2qs",
        "outputId": "5691ea52-0120-4f79-f6d6-ff0ce79f6d93"
      },
      "execution_count": null,
      "outputs": [
        {
          "output_type": "stream",
          "name": "stdout",
          "text": [
            "d\n",
            "g\n",
            "a\n",
            "6\n"
          ]
        }
      ]
    },
    {
      "cell_type": "code",
      "source": [
        "a=\"Diggaj,Luke\"\n",
        "b=\"Diggaj\",\"luke\"\n",
        "print(len(a))         # len() function is used to find the length of the string.\n",
        "print(len(b))"
      ],
      "metadata": {
        "id": "qzFFyMppxYef",
        "colab": {
          "base_uri": "https://localhost:8080/"
        },
        "outputId": "94bb948e-7652-4cdf-e1c4-bfb2297974a8"
      },
      "execution_count": null,
      "outputs": [
        {
          "output_type": "stream",
          "name": "stdout",
          "text": [
            "11\n",
            "2\n"
          ]
        }
      ]
    },
    {
      "cell_type": "code",
      "source": [
        "fruit=\"Mango\"\n",
        "print(len(fruit))\n",
        "print(fruit[0:5])     # including 0 but not 5\n",
        "print(fruit[0:4])     # including 0 but not 4\n",
        "print(fruit[:4])      # including 0 but not 4\n",
        "print(fruit[0:3])     # including 0 but not 3\n",
        "print(fruit[1:])      # including 1 to ending\n",
        "print(fruit[:])       # includes all the letters"
      ],
      "metadata": {
        "colab": {
          "base_uri": "https://localhost:8080/"
        },
        "id": "1HIU19sCFFQ9",
        "outputId": "b8fe656c-f35a-4843-a9f5-a9390737d311"
      },
      "execution_count": null,
      "outputs": [
        {
          "output_type": "stream",
          "name": "stdout",
          "text": [
            "5\n",
            "Mango\n",
            "Mang\n",
            "Mang\n",
            "Man\n",
            "ango\n",
            "Mango\n"
          ]
        }
      ]
    },
    {
      "cell_type": "code",
      "source": [
        "## Negative slicing\n",
        "\n",
        "fruit=\"Mango\"\n",
        "print(len(fruit))\n",
        "print(fruit[-1])\n",
        "print(fruit[-3])\n",
        "print(fruit[0:-3])    # total=5,   5-3=2 i.e. 0:2 it is Ma\n",
        "print(fruit[:-3])\n",
        "print(fruit[-3:-1])   # 5-3=2 and 5-1=4 i.e. 2:4 it is ng\n"
      ],
      "metadata": {
        "id": "PDimhOqgGKce",
        "colab": {
          "base_uri": "https://localhost:8080/"
        },
        "outputId": "b52979fe-7c0d-472c-cf85-4f1bbf9ab4d5"
      },
      "execution_count": null,
      "outputs": [
        {
          "output_type": "stream",
          "name": "stdout",
          "text": [
            "5\n",
            "o\n",
            "n\n",
            "Ma\n",
            "Ma\n",
            "ng\n"
          ]
        }
      ]
    },
    {
      "cell_type": "code",
      "source": [
        "## Quick Quiz\n",
        "\n",
        "nm=\"harry\"\n",
        "print(nm[-4:-2])"
      ],
      "metadata": {
        "id": "wcu0TPraIv5R",
        "colab": {
          "base_uri": "https://localhost:8080/"
        },
        "outputId": "dbee743e-1d11-4c50-831e-07126523a44a"
      },
      "execution_count": null,
      "outputs": [
        {
          "output_type": "stream",
          "name": "stdout",
          "text": [
            "ar\n"
          ]
        }
      ]
    },
    {
      "cell_type": "markdown",
      "source": [
        "## Day 8:- String Methods          :-   (yahan pe  existing strings pe koi    operations nhi lagega ye sab ek new string bana denge bcoz strings are immutable.)\n",
        "\n",
        "1. **upper()**:- converts a string to the upper case.\n",
        "2. **lower()**:- converts a string to the lower case.\n",
        "3. **strip()**:- removes any white spaces before and after the string.\n",
        "4. **rstrip()**:-removes any trailing characters.\n",
        "5. **replace()**:- replaces all occurence of the string with another.\n",
        "6. **split()**:-splits the given string  at the specified instance and returns the separated strings as list items.\n",
        "7. **Capitalize()**:- method turns the    first character to uppercase and rest other characters of the string to the lower case. The string has no effect if the first character is already uppercase.\n",
        "8. **Center()**:- This method aligns the string to the center as per the parameters given by the user.\n",
        "9. **Count()**:- methid returns the number of time a given value has occured within the given string\n",
        "10. **endswith()**:- methods checks if the string ends with the given value. if yes then return True else False.\n",
        "11. **find()**:- searches the first appearance if the given value and returns the index where it is present. If the given value is absent from the string it will return -1.\n",
        "12. **index()**:-The index() method searches for the first occurrence of the given value and returns the index where it is present. If given value is absent from the string then raise an exception.\n",
        "13. **isalnum()**:- it will return True if the string has A-Z,a-z,0-9. If any other characters or punctuations are present it will return False.\n",
        "14. **isalpha()**:- it will return True if th string has characters like A-Z,a-z. and will return False if it has special characters and 0-9.\n",
        "15. **islower()**:- method returns True if all the characters in the string are lower case, else it returns False.\n",
        "16. **isspace()**:- method returns True only and only if there are white spaces else retrun false.\n",
        "17. **istitle**():- method will return True if the first letter of each word is capitalize else will return False.\n",
        "18. **isupper()**:- method will return True if all the characters are in upper cas else will return lower.\n",
        "19.  **is lower()**:- method will return True if all the characters in a string are lower case else will return False.\n",
        "20. **startswith()**:- method will return True if the string starts with the given value else will return False.\n",
        "21. **swapcase()**:- changes the character casing of the string. upper case are converted to lower case and lower case to upper case.\n",
        "22. **title()**:- it will return the first letter o every word in capital form.\n",
        "\n"
      ],
      "metadata": {
        "id": "AdgK3IjmPO5P"
      }
    },
    {
      "cell_type": "code",
      "source": [
        " a=\"Harry\"\n",
        "print(a.upper())    ## returns all the letters in uppercase.\n",
        "print(a.lower())    ## returns all the letters in lowercase."
      ],
      "metadata": {
        "colab": {
          "base_uri": "https://localhost:8080/"
        },
        "id": "NixdnG0HO93r",
        "outputId": "9981849f-96ee-46b4-b28f-8a7309aea1e8"
      },
      "execution_count": null,
      "outputs": [
        {
          "output_type": "stream",
          "name": "stdout",
          "text": [
            "HARRY\n",
            "harry\n"
          ]
        }
      ]
    },
    {
      "cell_type": "code",
      "source": [
        "b=\"Diggaj\"\n",
        "print(b.upper())"
      ],
      "metadata": {
        "colab": {
          "base_uri": "https://localhost:8080/"
        },
        "id": "2U56Esit4iEB",
        "outputId": "a7b0a997-d147-4fb7-ddac-81e8c1c1f91f"
      },
      "execution_count": null,
      "outputs": [
        {
          "output_type": "stream",
          "name": "stdout",
          "text": [
            "DIGGAJ\n"
          ]
        }
      ]
    },
    {
      "cell_type": "code",
      "source": [
        "a=\"ABnPfhMihda\"\n",
        "print(a.upper())\n",
        "print(a.lower())"
      ],
      "metadata": {
        "colab": {
          "base_uri": "https://localhost:8080/"
        },
        "id": "ozdinNeVx34X",
        "outputId": "829d5658-af3b-4cb3-cda9-a8e2360edc06"
      },
      "execution_count": null,
      "outputs": [
        {
          "output_type": "stream",
          "name": "stdout",
          "text": [
            "ABNPFHMIHDA\n",
            "abnpfhmihda\n"
          ]
        }
      ]
    },
    {
      "cell_type": "code",
      "source": [
        "## strip()\n",
        "\n",
        "a=\" SNOW WHITE  \"  ## removes the white spaces before and after the string.\n",
        "print(a.strip())"
      ],
      "metadata": {
        "colab": {
          "base_uri": "https://localhost:8080/"
        },
        "id": "4ItoEio8zE9q",
        "outputId": "94ad865f-d902-4c99-db27-2b02ae47dc13"
      },
      "execution_count": null,
      "outputs": [
        {
          "output_type": "stream",
          "name": "stdout",
          "text": [
            "SNOW WHITE\n"
          ]
        }
      ]
    },
    {
      "cell_type": "code",
      "source": [
        "## rstrip()\n",
        "\n",
        "a=\"Harry!!!\"\n",
        "print(a.rstrip(\"!\"))\n",
        "\n",
        "b=\"!!@@Digaj!!!\"\n",
        "print(b.rstrip(\"!\"))    ## only removes the trailing characters not the starting ones."
      ],
      "metadata": {
        "colab": {
          "base_uri": "https://localhost:8080/"
        },
        "id": "ionTw7G_0SYS",
        "outputId": "3da61386-e689-42c8-aed5-c877840b1797"
      },
      "execution_count": null,
      "outputs": [
        {
          "output_type": "stream",
          "name": "stdout",
          "text": [
            "Harry\n",
            "!!@@Digaj\n"
          ]
        }
      ]
    },
    {
      "cell_type": "code",
      "source": [
        "a=\"&&&@#Harry$%^&\"\n",
        "print(a.rstrip(\"$,%,^,&\"))     ## only removes the trailing characters not the starting ones."
      ],
      "metadata": {
        "colab": {
          "base_uri": "https://localhost:8080/"
        },
        "id": "M54FAoqJ4w0-",
        "outputId": "ec032d45-4c5f-47fb-d450-6b4269cd7b1c"
      },
      "execution_count": null,
      "outputs": [
        {
          "output_type": "stream",
          "name": "stdout",
          "text": [
            "&&&@#Harry\n"
          ]
        }
      ]
    },
    {
      "cell_type": "code",
      "source": [
        "## replace()\n",
        "\n",
        "a=\"Harry\"\n",
        "print(a.replace(\"Harry\",\"John\"))    ## replace all the occurence of the string with another.\n",
        "\n",
        "b=\"Silver spoon\"\n",
        "print(b.replace(\"sp\",\"M\"))"
      ],
      "metadata": {
        "colab": {
          "base_uri": "https://localhost:8080/"
        },
        "id": "rS-uj1mx0loG",
        "outputId": "a521e6a0-0135-414b-98f2-9f1337b77e45"
      },
      "execution_count": null,
      "outputs": [
        {
          "output_type": "stream",
          "name": "stdout",
          "text": [
            "John\n",
            "Silver Moon\n"
          ]
        }
      ]
    },
    {
      "cell_type": "code",
      "source": [
        "a=\"Diggaj\"\n",
        "print(a.replace(\"aj\",\"u\"))\n",
        "\n",
        "b=\"isha\"\n",
        "print(b.replace(\"a\",\"u\"))"
      ],
      "metadata": {
        "colab": {
          "base_uri": "https://localhost:8080/"
        },
        "id": "I_48Nipc5H-7",
        "outputId": "dace2fcc-5895-4b88-c705-04fa3d5bf9f7"
      },
      "execution_count": null,
      "outputs": [
        {
          "output_type": "stream",
          "name": "stdout",
          "text": [
            "Diggu\n",
            "ishu\n"
          ]
        }
      ]
    },
    {
      "cell_type": "code",
      "source": [
        "## split()\n",
        "\n",
        "a=\"!!! Harry Diggaj @@DiggajHere!!!\"      ##\n",
        "print(a.split())"
      ],
      "metadata": {
        "id": "pqWpcWUd9Guc",
        "colab": {
          "base_uri": "https://localhost:8080/"
        },
        "outputId": "95f0d7a4-3b12-4ecb-b16c-f998ebdcf724"
      },
      "execution_count": null,
      "outputs": [
        {
          "output_type": "stream",
          "name": "stdout",
          "text": [
            "['!!!', 'Harry', 'Diggaj', '@@DiggajHere!!!']\n"
          ]
        }
      ]
    },
    {
      "cell_type": "code",
      "source": [
        "## capitlize()\n",
        "\n",
        "a=\"diggaj\"\n",
        "print(a.capitalize())        ## replace the first letter to uppercase.\n",
        "\n",
        "Blog_heading=\"introduction to python\"\n",
        "print(Blog_heading.capitalize())"
      ],
      "metadata": {
        "colab": {
          "base_uri": "https://localhost:8080/"
        },
        "id": "R6a5xz1Dwr9n",
        "outputId": "de9e6067-971a-4e54-dc4a-27820d55ac40"
      },
      "execution_count": null,
      "outputs": [
        {
          "output_type": "stream",
          "name": "stdout",
          "text": [
            "Diggaj\n",
            "Introduction to python\n"
          ]
        }
      ]
    },
    {
      "cell_type": "code",
      "source": [
        "## Capitalize\n",
        "\n",
        "Blog=\"Hii There! WELCOME to My first Page of the COlLAb\"\n",
        "\n",
        "print(Blog.capitalize())   ## in this the first letter is already in uppercase but the other are also. so this function puts the other chacters to lowercase."
      ],
      "metadata": {
        "colab": {
          "base_uri": "https://localhost:8080/"
        },
        "id": "lIn91DEMw7C8",
        "outputId": "57271912-5b82-4a93-f982-0fd1f5eb9a4a"
      },
      "execution_count": null,
      "outputs": [
        {
          "output_type": "stream",
          "name": "stdout",
          "text": [
            "Hii there! welcome to my first page of the collab\n"
          ]
        }
      ]
    },
    {
      "cell_type": "code",
      "source": [
        "## Center()\n",
        "\n",
        "a=\"Welcome to My first page of the Collab\"\n",
        "print(a.center(50))                       ## put the string in center as per the parameter given.\n",
        "\n",
        "print(\"\\n\")\n",
        "\n",
        "b=\"Welcome to the Console\"\n",
        "print(b.center(75))"
      ],
      "metadata": {
        "colab": {
          "base_uri": "https://localhost:8080/"
        },
        "id": "0-DwWgFsx5oe",
        "outputId": "6bfcd0cc-74b6-45bb-af62-e6fd167740d3"
      },
      "execution_count": null,
      "outputs": [
        {
          "output_type": "stream",
          "name": "stdout",
          "text": [
            "      Welcome to My first page of the Collab      \n",
            "\n",
            "\n",
            "                           Welcome to the Console                          \n"
          ]
        }
      ]
    },
    {
      "cell_type": "code",
      "source": [
        "## Count()\n",
        "\n",
        "a=\"abracadabraaabhddde\"\n",
        "print(a.count(\"a\"))             ## count the specified given letter.\n",
        "\n",
        "b=\"Diggaj\"\n",
        "print(b.count(\"g\"))"
      ],
      "metadata": {
        "colab": {
          "base_uri": "https://localhost:8080/"
        },
        "id": "dNyR9qi5ycFA",
        "outputId": "c3a837d5-a5bd-4b6c-86e8-8eb86fdc53c5"
      },
      "execution_count": null,
      "outputs": [
        {
          "output_type": "stream",
          "name": "stdout",
          "text": [
            "7\n",
            "2\n"
          ]
        }
      ]
    },
    {
      "cell_type": "code",
      "source": [
        "# count\n",
        "a=\"immediately\"\n",
        "print(a.count('i'))\n",
        "\n",
        "b=\"heeeeeeeegfryh\"\n",
        "print(b.count('e'))"
      ],
      "metadata": {
        "colab": {
          "base_uri": "https://localhost:8080/"
        },
        "id": "LYSe4YMbLz5y",
        "outputId": "5eb564a8-8b24-417d-caad-d0e29c09d064"
      },
      "execution_count": null,
      "outputs": [
        {
          "output_type": "stream",
          "name": "stdout",
          "text": [
            "2\n",
            "8\n"
          ]
        }
      ]
    },
    {
      "cell_type": "code",
      "source": [
        "## endswith()\n",
        "\n",
        "a=\"Hi this is Diggaj Bishnoi. Hope you all are good !!!!\"\n",
        "print(a.endswith(\"!\"))                             ##checks if the string ends with the given value. if yes then return True else False.\n",
        "\n",
        "b=\"Hi this is Diggaj\"\n",
        "print(a.endswith(\"John\"))"
      ],
      "metadata": {
        "colab": {
          "base_uri": "https://localhost:8080/"
        },
        "id": "HnIpcD1E0BGW",
        "outputId": "ae013c6b-6446-44fa-a98f-aafd0343a185"
      },
      "execution_count": null,
      "outputs": [
        {
          "output_type": "stream",
          "name": "stdout",
          "text": [
            "True\n",
            "False\n"
          ]
        }
      ]
    },
    {
      "cell_type": "code",
      "source": [
        "## endswith()\n",
        "\n",
        "str=\"Welcome to the console!!!\"\n",
        "print(a.endswith(\"to\",4,10))     ## 4,10 is the slicing in which to check if the \"to\" is present or not."
      ],
      "metadata": {
        "colab": {
          "base_uri": "https://localhost:8080/"
        },
        "id": "-aOtkKgZ3eIh",
        "outputId": "9cb4ca19-88ee-43ee-ebb4-142537daf78f"
      },
      "execution_count": null,
      "outputs": [
        {
          "output_type": "stream",
          "name": "stdout",
          "text": [
            "False\n"
          ]
        }
      ]
    },
    {
      "cell_type": "code",
      "source": [
        "## find()\n",
        "\n",
        "a=\"Hii welcome to the console!!! hope u all enjoy it.\"\n",
        "print(a.find(\"hope\"))                # searches the first appearance if the given value and returns the index where it is present.\n",
        "\n",
        "b=\"Hii Dan! He is a very inteeligent person.\"\n",
        "print(b.find(\"Daniel\"))     ## the output is -1 which means that the given value is absent in the string."
      ],
      "metadata": {
        "colab": {
          "base_uri": "https://localhost:8080/"
        },
        "id": "fr3Z7OPJ4LgJ",
        "outputId": "d26cb536-3abd-445a-c1dc-a7fb466e6893"
      },
      "execution_count": null,
      "outputs": [
        {
          "output_type": "stream",
          "name": "stdout",
          "text": [
            "30\n",
            "-1\n"
          ]
        }
      ]
    },
    {
      "cell_type": "code",
      "source": [
        "## index()\n",
        "\n",
        "str1 = \"He's name is Dan. Dan is an honest man.\"\n",
        "print(str1.index(\"Dan\"))\n",
        "\n",
        "str2=\"He's name is Dan. Dan is an honest man.\"\n",
        "print(str2.index(\"dis\"))    ## since \"dis\" is not present it will return exception error."
      ],
      "metadata": {
        "colab": {
          "base_uri": "https://localhost:8080/",
          "height": 224
        },
        "id": "SVU1sleo4ty9",
        "outputId": "7d6f8696-29db-4ea0-c669-f5ce66d1bc70"
      },
      "execution_count": null,
      "outputs": [
        {
          "output_type": "stream",
          "name": "stdout",
          "text": [
            "13\n"
          ]
        },
        {
          "output_type": "error",
          "ename": "ValueError",
          "evalue": "substring not found",
          "traceback": [
            "\u001b[0;31m---------------------------------------------------------------------------\u001b[0m",
            "\u001b[0;31mValueError\u001b[0m                                Traceback (most recent call last)",
            "\u001b[0;32m<ipython-input-23-2942ac4d5fa5>\u001b[0m in \u001b[0;36m<cell line: 7>\u001b[0;34m()\u001b[0m\n\u001b[1;32m      5\u001b[0m \u001b[0;34m\u001b[0m\u001b[0m\n\u001b[1;32m      6\u001b[0m \u001b[0mstr2\u001b[0m\u001b[0;34m=\u001b[0m\u001b[0;34m\"He's name is Dan. Dan is an honest man.\"\u001b[0m\u001b[0;34m\u001b[0m\u001b[0;34m\u001b[0m\u001b[0m\n\u001b[0;32m----> 7\u001b[0;31m \u001b[0mprint\u001b[0m\u001b[0;34m(\u001b[0m\u001b[0mstr2\u001b[0m\u001b[0;34m.\u001b[0m\u001b[0mindex\u001b[0m\u001b[0;34m(\u001b[0m\u001b[0;34m\"dis\"\u001b[0m\u001b[0;34m)\u001b[0m\u001b[0;34m)\u001b[0m\u001b[0;34m\u001b[0m\u001b[0;34m\u001b[0m\u001b[0m\n\u001b[0m",
            "\u001b[0;31mValueError\u001b[0m: substring not found"
          ]
        }
      ]
    },
    {
      "cell_type": "code",
      "source": [
        "## isalnum()\n",
        "\n",
        "a=\"Welcometotheconsole\"\n",
        "print(a.isalnum())          ##it will return True if the string has A-Z,a-z,0-9. If any other characters or punctuations are present it will return False.\n",
        "\n",
        "b=\"welcome to the console!!!\"\n",
        "print(a.isalnum())"
      ],
      "metadata": {
        "colab": {
          "base_uri": "https://localhost:8080/"
        },
        "id": "rUDr0QAC9iou",
        "outputId": "8f9980bc-c52b-4362-a1ab-d4be8acfe222"
      },
      "execution_count": null,
      "outputs": [
        {
          "output_type": "stream",
          "name": "stdout",
          "text": [
            "True\n",
            "True\n"
          ]
        }
      ]
    },
    {
      "cell_type": "code",
      "source": [
        "## isalum()\n",
        "\n",
        "a=\"@@Lovnish_12\"\n",
        "print(a.isalnum())   ## it has other charcters than A-Z,a-z,0,9.\n",
        "\n",
        "b=\"$$$*()\"\n",
        "print(a.isalnum())"
      ],
      "metadata": {
        "colab": {
          "base_uri": "https://localhost:8080/"
        },
        "id": "TBKNYPQH-KuH",
        "outputId": "3ba7dc47-5edc-463d-b211-1826b775f9b3"
      },
      "execution_count": null,
      "outputs": [
        {
          "output_type": "stream",
          "name": "stdout",
          "text": [
            "False\n",
            "False\n"
          ]
        }
      ]
    },
    {
      "cell_type": "code",
      "source": [
        "## isalpha()\n",
        "\n",
        "a=\"Welcometotheconsole\"\n",
        "print(a.isalpha())   ## only A-Z,a-z not 0-9\n",
        "\n",
        "b=\"We1locme6969\"\n",
        "print(b.isalpha())"
      ],
      "metadata": {
        "colab": {
          "base_uri": "https://localhost:8080/"
        },
        "id": "oJmo3m_s-szS",
        "outputId": "eae7d3d6-8e3a-4bb5-bac9-0e358ea16c98"
      },
      "execution_count": null,
      "outputs": [
        {
          "output_type": "stream",
          "name": "stdout",
          "text": [
            "True\n",
            "False\n"
          ]
        }
      ]
    },
    {
      "cell_type": "code",
      "source": [
        "## islower()\n",
        "a=\"hello world\"\n",
        "print(a.islower())     ## check if the given string is lower or not. if yes then return True or else False.\n",
        "\n",
        "b=\"HELLO DIGGAJ\"\n",
        "print(b.islower())"
      ],
      "metadata": {
        "colab": {
          "base_uri": "https://localhost:8080/"
        },
        "id": "OA-iczA2GV3g",
        "outputId": "bcf3dead-b117-4d01-ba8f-d35ff55e0bfd"
      },
      "execution_count": null,
      "outputs": [
        {
          "output_type": "stream",
          "name": "stdout",
          "text": [
            "True\n",
            "False\n"
          ]
        }
      ]
    },
    {
      "cell_type": "code",
      "source": [
        "# islower()\n",
        "\n",
        "a=\"Diggaj\"\n",
        "a.islower()"
      ],
      "metadata": {
        "colab": {
          "base_uri": "https://localhost:8080/"
        },
        "id": "8AtZ42LVPgiM",
        "outputId": "fdf7b883-cc78-48ff-cd87-eb2ca16fede9"
      },
      "execution_count": null,
      "outputs": [
        {
          "output_type": "execute_result",
          "data": {
            "text/plain": [
              "False"
            ]
          },
          "metadata": {},
          "execution_count": 2
        }
      ]
    },
    {
      "cell_type": "code",
      "source": [
        "## isspace()\n",
        "a=\"   \"\n",
        "print(a.isspace())"
      ],
      "metadata": {
        "colab": {
          "base_uri": "https://localhost:8080/"
        },
        "id": "fb6iSktLHZ1Z",
        "outputId": "f017748c-ec1b-4795-b2c3-cea19f636e0f"
      },
      "execution_count": null,
      "outputs": [
        {
          "output_type": "stream",
          "name": "stdout",
          "text": [
            "True\n"
          ]
        }
      ]
    },
    {
      "cell_type": "code",
      "source": [
        "## istitle()\n",
        "\n",
        "a=\"Welcome To The World Health Organization\"\n",
        "print(a.istitle())                 ## check if the first letter of every word is uppercase or not.\n",
        "\n",
        "b=\"WELCOME TO THE WORLD HEALTH ORGANIZATION\"\n",
        "print(b.istitle())\n",
        "\n",
        "c=\"welcome To  the World Health Oragnization\"\n",
        "print(c.istitle())"
      ],
      "metadata": {
        "colab": {
          "base_uri": "https://localhost:8080/"
        },
        "id": "KzCFJT_GID-r",
        "outputId": "ff9968ca-4274-4af2-c448-215e0137783a"
      },
      "execution_count": null,
      "outputs": [
        {
          "output_type": "stream",
          "name": "stdout",
          "text": [
            "True\n",
            "False\n",
            "False\n"
          ]
        }
      ]
    },
    {
      "cell_type": "code",
      "source": [
        "## isupper\n",
        "\n",
        "a=\"WELCOME WELCOME TO THE WORLD HEALTH ORGANIZATION \"\n",
        "print(a.isupper())                   ## check if all the characters are uppercase or not, if yes then return True else False.\n",
        "\n",
        "b=\"diggaj is a good boy\"\n",
        "print(b.isupper())"
      ],
      "metadata": {
        "colab": {
          "base_uri": "https://localhost:8080/"
        },
        "id": "hbbz_2yGIVpG",
        "outputId": "9d39be89-ea03-4efa-d1e0-26a6a5b7c442"
      },
      "execution_count": null,
      "outputs": [
        {
          "output_type": "stream",
          "name": "stdout",
          "text": [
            "True\n",
            "False\n"
          ]
        }
      ]
    },
    {
      "cell_type": "code",
      "source": [
        "## islower\n",
        "\n",
        "a=\"diggaj is a good boy\"\n",
        "print(a.islower())              ## check if all the characters are in lowercase or not, if yes then return True else False."
      ],
      "metadata": {
        "colab": {
          "base_uri": "https://localhost:8080/"
        },
        "id": "AJItzdQ3JTR7",
        "outputId": "618d907c-df63-424c-a789-6cb65084ef41"
      },
      "execution_count": null,
      "outputs": [
        {
          "output_type": "stream",
          "name": "stdout",
          "text": [
            "True\n"
          ]
        }
      ]
    },
    {
      "cell_type": "code",
      "source": [
        "##startswith()\n",
        "\n",
        "a=\"Python is a Interpreted language\"\n",
        "print(a.startswith(\"Python\"))    ## checks if the first letter starts with the given value or not, if yes then returns True else False.\n",
        "\n",
        "b=\"Diggaj is a good boy\"\n",
        "print(b.startswith(\"harry\"))"
      ],
      "metadata": {
        "colab": {
          "base_uri": "https://localhost:8080/"
        },
        "id": "G_YThhGgJgar",
        "outputId": "1d701298-12a5-41dc-9fe4-a542a4c75106"
      },
      "execution_count": null,
      "outputs": [
        {
          "output_type": "stream",
          "name": "stdout",
          "text": [
            "True\n",
            "False\n"
          ]
        }
      ]
    },
    {
      "cell_type": "code",
      "source": [
        "## swapcase()\n",
        "\n",
        "a=\"pyhton is a interpreted language\"\n",
        "print(a.swapcase())       ## in this the uppercase is converted to lowercase or vise-versa.\n",
        "\n",
        "b=\"WELCOME TO UNITED STATES\"\n",
        "print(b.swapcase())\n",
        "\n",
        "c=\"HII this is DiGgAj BiShNoI\"\n",
        "print(c.swapcase())"
      ],
      "metadata": {
        "colab": {
          "base_uri": "https://localhost:8080/"
        },
        "id": "UrDF86HaK5h8",
        "outputId": "0ad332f7-0a84-4cb3-efea-1dd8e52a5c87"
      },
      "execution_count": null,
      "outputs": [
        {
          "output_type": "stream",
          "name": "stdout",
          "text": [
            "PYHTON IS A INTERPRETED LANGUAGE\n",
            "welcome to united states\n",
            "hii THIS IS dIgGaJ bIsHnOi\n"
          ]
        }
      ]
    },
    {
      "cell_type": "code",
      "source": [
        "## title()\n",
        "\n",
        "\n",
        "a=\"pyhton is a high level language!\"    ## Converts the first letter of every word in capital format & rest in the smaller case format.\n",
        "print(a.title())\n",
        "\n",
        "b='mahatama gandhi ji -- the father of nation'\n",
        "print(b.title())"
      ],
      "metadata": {
        "colab": {
          "base_uri": "https://localhost:8080/"
        },
        "id": "24YShzdsPyTE",
        "outputId": "2bc7e695-3c0a-498a-a668-9506d863e613"
      },
      "execution_count": null,
      "outputs": [
        {
          "output_type": "stream",
          "name": "stdout",
          "text": [
            "Pyhton Is A High Level Language!\n",
            "Mahatama Gandhi Ji -- The Father Of Nation\n"
          ]
        }
      ]
    },
    {
      "cell_type": "code",
      "source": [
        "s=\"Hii WelCOME TO the conSole\"       ## Converts the first letter of every word in capital format & rest in the smaller case format.\n",
        "s.title()"
      ],
      "metadata": {
        "colab": {
          "base_uri": "https://localhost:8080/",
          "height": 35
        },
        "id": "TgeL7NgMQRVL",
        "outputId": "fb694642-81bf-4adb-9433-a9c09d3b84a2"
      },
      "execution_count": null,
      "outputs": [
        {
          "output_type": "execute_result",
          "data": {
            "text/plain": [
              "'Hii Welcome To The Console'"
            ],
            "application/vnd.google.colaboratory.intrinsic+json": {
              "type": "string"
            }
          },
          "metadata": {},
          "execution_count": 7
        }
      ]
    },
    {
      "cell_type": "markdown",
      "source": [
        "### Day 9:- If else statement"
      ],
      "metadata": {
        "id": "P3usjz1SLt7j"
      }
    },
    {
      "cell_type": "markdown",
      "source": [
        "### 1. **if-else statements:-** only for one tyoe of conditional statements."
      ],
      "metadata": {
        "id": "VUrNFc3WcrEG"
      }
    },
    {
      "cell_type": "code",
      "source": [
        "## if budget>== price then buy product\n",
        "\n",
        "apple_price=200\n",
        "wallet=float(input(\"Enter the budget: \"))\n",
        "\n",
        "if wallet>=apple_price:\n",
        "  print(\"Alexa, add 1 kg apple to the cart!\")\n",
        "else:\n",
        "  print(\"Alexa, do not add apple to the cart!\")"
      ],
      "metadata": {
        "id": "i5tQw1guLOc7",
        "colab": {
          "base_uri": "https://localhost:8080/"
        },
        "outputId": "753d58a4-660f-4b89-c4bf-8be3299b4326"
      },
      "execution_count": null,
      "outputs": [
        {
          "output_type": "stream",
          "name": "stdout",
          "text": [
            "Enter the budget: 300\n",
            "Alexa, add 1 kg apple to the cart!\n"
          ]
        }
      ]
    },
    {
      "cell_type": "code",
      "source": [
        "## driving license.\n",
        "\n",
        "age=int(input(\"Enter your age: \"))\n",
        "\n",
        "if age>=18:\n",
        "  print(\"Yes you can have driving license!!\")\n",
        "else:\n",
        "  print(\"Sorry you are underage you can't hav driving license.!!\")"
      ],
      "metadata": {
        "colab": {
          "base_uri": "https://localhost:8080/"
        },
        "id": "nIFbUHgjdszB",
        "outputId": "72d05b3b-9917-4715-a0c3-a3dae368b8cb"
      },
      "execution_count": null,
      "outputs": [
        {
          "output_type": "stream",
          "name": "stdout",
          "text": [
            "Enter your age: 14\n",
            "Sorry you are underage you can't hav driving license.!!\n"
          ]
        }
      ]
    },
    {
      "cell_type": "code",
      "source": [
        "## check if a person is eligible to vote or not\n",
        "\n",
        "age=int(input(\"Enter your age: \"))\n",
        "\n",
        "if age>=18:\n",
        "  print(\"Congratulations You are eligible to vote!!\")\n",
        "\n",
        "else:\n",
        "  print(\"Opps You are not eligible to vote!!\")"
      ],
      "metadata": {
        "colab": {
          "base_uri": "https://localhost:8080/"
        },
        "id": "htHH9TGMfpQK",
        "outputId": "48396e76-626d-4cca-8919-7a2c705d5f05"
      },
      "execution_count": null,
      "outputs": [
        {
          "output_type": "stream",
          "name": "stdout",
          "text": [
            "Enter your age: 18\n",
            "Congratulations You are eligible to vote!!\n"
          ]
        }
      ]
    },
    {
      "cell_type": "code",
      "source": [
        "## check if a given entered number is even or odd\n",
        "\n",
        "num=int(input(\"Enter the number: \"))\n",
        "\n",
        "if num%2==0:\n",
        "  print(f\"{num},is a even number.\")\n",
        "else:\n",
        "  print(f\"{num}, is an odd number.\")"
      ],
      "metadata": {
        "colab": {
          "base_uri": "https://localhost:8080/"
        },
        "id": "fzej4AQG3Ok2",
        "outputId": "a1fdc4a5-239e-441d-83c0-5c547856c308"
      },
      "execution_count": null,
      "outputs": [
        {
          "output_type": "stream",
          "name": "stdout",
          "text": [
            "Enter the number: 4\n",
            "4,is a even number.\n"
          ]
        }
      ]
    },
    {
      "cell_type": "code",
      "source": [
        "a=int(input(\"Enter the number: \"))\n",
        "\n",
        "if a%2==0:\n",
        "  print(f\"{a},is even number.\")\n",
        "else:\n",
        "  print(f\"{a}, is an odd number.\")"
      ],
      "metadata": {
        "colab": {
          "base_uri": "https://localhost:8080/"
        },
        "id": "9ABlRe2dTmoO",
        "outputId": "e2a50a48-b4ff-400b-cc38-7e0050da61ea"
      },
      "execution_count": null,
      "outputs": [
        {
          "output_type": "stream",
          "name": "stdout",
          "text": [
            "Enter the number: 25\n",
            "25, is an odd number.\n"
          ]
        }
      ]
    },
    {
      "cell_type": "code",
      "source": [
        "## write a program \"HELLO\" if a number entered is a multiple of 5 then print \"BYE\"\n",
        "\n",
        "num1=int(input(\"Enter the number: \"))\n",
        "\n",
        "if num1%5==0:\n",
        "  print(\"Hello\")\n",
        "\n",
        "else:\n",
        "  print(\"Bye!!\")"
      ],
      "metadata": {
        "colab": {
          "base_uri": "https://localhost:8080/"
        },
        "id": "kBRB-s5O3Od3",
        "outputId": "33a6904e-da24-4288-b105-724d50af47e3"
      },
      "execution_count": null,
      "outputs": [
        {
          "output_type": "stream",
          "name": "stdout",
          "text": [
            "Enter the number: 56\n",
            "Bye!!\n"
          ]
        }
      ]
    },
    {
      "cell_type": "code",
      "source": [
        "## check if a number is divisible by 7 or not if yes then return a \"Jai shree Ram\" else say\"stop\".\n",
        "\n",
        "number=int(input(\"Enter the number: \"))\n",
        "\n",
        "if number%7==0:\n",
        "  print(f\"{number},is divisible by 7 and Jai shree RAM \" )\n",
        "\n",
        "else:\n",
        "  print(f\"{number}, is not divisible by 7 and STOP\")"
      ],
      "metadata": {
        "id": "wJD_sfZM3OSB",
        "colab": {
          "base_uri": "https://localhost:8080/"
        },
        "outputId": "9a05e026-13e5-4486-df1e-1d72b4b17227"
      },
      "execution_count": null,
      "outputs": [
        {
          "output_type": "stream",
          "name": "stdout",
          "text": [
            "Enter the number: 56\n",
            "56,is divisible by 7 and Jai shree RAM \n"
          ]
        }
      ]
    },
    {
      "cell_type": "code",
      "source": [],
      "metadata": {
        "id": "7BVOE9jYK3v0"
      },
      "execution_count": null,
      "outputs": []
    },
    {
      "cell_type": "markdown",
      "source": [
        "### 2. **elif statements**:- if the programmer wants to evaluate more than one condition he will use elif statement."
      ],
      "metadata": {
        "id": "eSXS-pDvf5H1"
      }
    },
    {
      "cell_type": "code",
      "source": [
        "## check if a given number is negative, zero, positve.\n",
        "\n",
        "num=int(input(\"Enter the number: \"))\n",
        "\n",
        "if num<0:\n",
        "  print(f\"{num}, is a negative number\")\n",
        "\n",
        "elif num==0:\n",
        "  print(\"It is a zero!!\")\n",
        "\n",
        "else:\n",
        "  print(f\"{num}, is a positive number.\")"
      ],
      "metadata": {
        "colab": {
          "base_uri": "https://localhost:8080/"
        },
        "id": "nClJAFEYf4vm",
        "outputId": "035ef0fd-e044-4359-cc5d-ee5114e3a187"
      },
      "execution_count": null,
      "outputs": [
        {
          "output_type": "stream",
          "name": "stdout",
          "text": [
            "Enter the number: 34\n",
            "34, is a positive number.\n"
          ]
        }
      ]
    },
    {
      "cell_type": "code",
      "source": [
        "##  electricity bill\n",
        "\n",
        "unit = int(input(\"Enter the unit consumed: \"))\n",
        "\n",
        "if unit<=100:\n",
        "  amt=0\n",
        "\n",
        "elif unit>100 and unit<=200:\n",
        "  amt=(unit-100)*2\n",
        "\n",
        "else:\n",
        "  amt=400+(unit-300)*5\n",
        "\n",
        "print(\"The total amount is \",amt)"
      ],
      "metadata": {
        "colab": {
          "base_uri": "https://localhost:8080/"
        },
        "id": "bPNgS7lFg3Zw",
        "outputId": "237688ae-4634-4bee-a593-73a544fb3b82"
      },
      "execution_count": null,
      "outputs": [
        {
          "output_type": "stream",
          "name": "stdout",
          "text": [
            "Enter the unit consumed: 250\n",
            "The total amount is  150\n"
          ]
        }
      ]
    },
    {
      "cell_type": "code",
      "source": [
        "## library rates\n",
        "\n",
        "number_of_days=int(input(\"Enter the number of days: \"))\n",
        "\n",
        "if number_of_days<=5:\n",
        "  total_amount=number_of_days*2\n",
        "\n",
        "elif number_of_days>6 and number_of_days<=10:\n",
        "  total_amount=number_of_days*3\n",
        "\n",
        "elif number_of_days>11 and number_of_days<=15:\n",
        "  total_amount=number_of_days*4\n",
        "else:\n",
        "  total_amount=number_of_days*5\n",
        "\n",
        "print(\"Total amount to be paid is \",total_amount)"
      ],
      "metadata": {
        "colab": {
          "base_uri": "https://localhost:8080/"
        },
        "id": "2wTD0oRX_H2Q",
        "outputId": "13af6960-1bfd-44d0-b9ce-8614139f6a78"
      },
      "execution_count": null,
      "outputs": [
        {
          "output_type": "stream",
          "name": "stdout",
          "text": [
            "Enter the number of days: 12\n",
            "Total amount to be paid is  48\n"
          ]
        }
      ]
    },
    {
      "cell_type": "code",
      "source": [
        "## km covers and their rates\n",
        "\n",
        "km_covered=int(input(\"Enter the kilometers covered: \"))\n",
        "\n",
        "if km_covered==10:\n",
        "  total_amount=km_covered*10\n",
        "\n",
        "elif km_covered>=10 and km_covered<=90:\n",
        "  total_amount=km_covered*10\n",
        "\n",
        "else:\n",
        "  total_amount=km_covered*9\n",
        "\n",
        "print(\"Total amount to be paid to the driver is \",total_amount)"
      ],
      "metadata": {
        "colab": {
          "base_uri": "https://localhost:8080/"
        },
        "id": "RF_7p0plBm3B",
        "outputId": "bc8a6ea6-ca12-43e2-9c1b-ee901ecf2c6d"
      },
      "execution_count": null,
      "outputs": [
        {
          "output_type": "stream",
          "name": "stdout",
          "text": [
            "Enter the kilometers covered: 67\n",
            "Total amount to be paid to the driver is  670\n"
          ]
        }
      ]
    },
    {
      "cell_type": "markdown",
      "source": [
        "### 3. **Nested if else**:- We can use if, if-else, elif statements inside other if statements as well.\n"
      ],
      "metadata": {
        "id": "6TQfWcsFu8_G"
      }
    },
    {
      "cell_type": "code",
      "source": [
        "num = int(input(\"Enter the number: \"))\n",
        "if (num < 0):\n",
        "    print(\"Number is negative.\")\n",
        "elif (num > 0):\n",
        "    if (num <= 10):\n",
        "        print(\"Number is between 1-10\")\n",
        "    elif (num > 10 and num <= 20):\n",
        "        print(\"Number is between 11-20\")\n",
        "    else:\n",
        "        print(\"Number is greater than 20\")\n",
        "else:\n",
        "    print(\"Number is zero\")"
      ],
      "metadata": {
        "colab": {
          "base_uri": "https://localhost:8080/"
        },
        "id": "N0mZCDGIvTQP",
        "outputId": "96ef498f-f1ee-43d6-994a-67e316ecb5fa"
      },
      "execution_count": null,
      "outputs": [
        {
          "output_type": "stream",
          "name": "stdout",
          "text": [
            "Enter the number: 34\n",
            "Number is greater than 20\n"
          ]
        }
      ]
    },
    {
      "cell_type": "code",
      "source": [
        "age=int(input(\"Enter the age: \"))\n",
        "height = float(input(\"Enter the height: \"))\n",
        "\n",
        "if height>=120:\n",
        "  print(\"You can ride the roller coaster!!\")\n",
        "\n",
        "  if age<=18:\n",
        "    print(\"Please pay 7$\")\n",
        "  else:\n",
        "    print(\"Please pay 12$\")\n",
        "\n",
        "else:\n",
        "  print(\"Sorry you can't ride the roolercoaster!!\")"
      ],
      "metadata": {
        "colab": {
          "base_uri": "https://localhost:8080/"
        },
        "id": "IRWk_pYjygNt",
        "outputId": "26bd83f9-3822-47ee-85d9-ceb06a3d6b1b"
      },
      "execution_count": null,
      "outputs": [
        {
          "output_type": "stream",
          "name": "stdout",
          "text": [
            "Enter the age: 34\n",
            "Enter the height: 165\n",
            "You can ride the roller coaster!!\n",
            "Please pay 12$\n"
          ]
        }
      ]
    },
    {
      "cell_type": "code",
      "source": [
        "import time\n",
        "timestamp=time.strftime(\"%H:%M:%S\")\n",
        "print(timestamp)"
      ],
      "metadata": {
        "colab": {
          "base_uri": "https://localhost:8080/"
        },
        "id": "baL3uOKRxDje",
        "outputId": "839b1593-01ab-4592-bb3c-6f6f15e69a92"
      },
      "execution_count": null,
      "outputs": [
        {
          "output_type": "stream",
          "name": "stdout",
          "text": [
            "14:03:55\n"
          ]
        }
      ]
    },
    {
      "cell_type": "code",
      "source": [
        "## check a given year is leap year or not.\n",
        "\n",
        "year=int(input(\"Enter a year: \"))\n",
        "\n",
        "if year%4==0:\n",
        "  print(year,\"is a leap Year\")\n",
        "\n",
        "  if year%100==0 and year%400!=0:\n",
        "    print(year,\"is not a leap year\")\n",
        "  if year%4==0 and year%400!=0 or year%400!=0:\n",
        "    print(year,\"is a leap year!\")\n",
        "else:\n",
        "  print(year,\"is not a leap year\")\n"
      ],
      "metadata": {
        "colab": {
          "base_uri": "https://localhost:8080/"
        },
        "id": "y3DcpwWUx26p",
        "outputId": "ad0f9d7a-a0dd-4380-8bb6-f7e84db86809"
      },
      "execution_count": null,
      "outputs": [
        {
          "output_type": "stream",
          "name": "stdout",
          "text": [
            "Enter a year: 2030\n",
            "2030 is not a leap year\n"
          ]
        }
      ]
    },
    {
      "cell_type": "markdown",
      "source": [
        "### **Day 10:-** Match Case"
      ],
      "metadata": {
        "id": "tTITq8v618mR"
      }
    },
    {
      "cell_type": "markdown",
      "source": [
        "### **Day 11:-** **Loops in Python**\n",
        "They are used to repeate the instructions.\n",
        "\n",
        "(a) **For Loops:**- for loops can iterate over the sequence of the iterable objects (that is either a list, a tuple, a dictionary, a set, or a string) in python.\n",
        "\n",
        "(b) **While Loops**:-"
      ],
      "metadata": {
        "id": "__ywRImA2LI-"
      }
    },
    {
      "cell_type": "markdown",
      "source": [
        "### For loops:-"
      ],
      "metadata": {
        "id": "xsOR6kPvVtkv"
      }
    },
    {
      "cell_type": "code",
      "source": [
        "name=\"Diggaj\"\n",
        "\n",
        "for x in name:\n",
        "  print(x)"
      ],
      "metadata": {
        "colab": {
          "base_uri": "https://localhost:8080/"
        },
        "id": "K5S5geUV1H0h",
        "outputId": "fe48bdbb-37f8-4e50-dd8d-98609f09fc01"
      },
      "execution_count": null,
      "outputs": [
        {
          "output_type": "stream",
          "name": "stdout",
          "text": [
            "D\n",
            "i\n",
            "g\n",
            "g\n",
            "a\n",
            "j\n"
          ]
        }
      ]
    },
    {
      "cell_type": "code",
      "source": [
        "for a in \"banana\":\n",
        "  print(a)"
      ],
      "metadata": {
        "colab": {
          "base_uri": "https://localhost:8080/"
        },
        "id": "rb1WUCE62crt",
        "outputId": "d2172342-f26b-4188-b157-4b70a3292273"
      },
      "execution_count": null,
      "outputs": [
        {
          "output_type": "stream",
          "name": "stdout",
          "text": [
            "b\n",
            "a\n",
            "n\n",
            "a\n",
            "n\n",
            "a\n"
          ]
        }
      ]
    },
    {
      "cell_type": "code",
      "source": [
        "colors=[\"Red\",\"blue\",\"orange\",\"black\"]\n",
        "\n",
        "for i in colors:\n",
        "  print(i)\n",
        "\n",
        "  for x in i:\n",
        "    print(x)"
      ],
      "metadata": {
        "colab": {
          "base_uri": "https://localhost:8080/"
        },
        "id": "mkLpsJAhzhsd",
        "outputId": "1f987b2b-edfe-4038-cbe7-3534d50bcfc9"
      },
      "execution_count": null,
      "outputs": [
        {
          "output_type": "stream",
          "name": "stdout",
          "text": [
            "Red\n",
            "R\n",
            "e\n",
            "d\n",
            "blue\n",
            "b\n",
            "l\n",
            "u\n",
            "e\n",
            "orange\n",
            "o\n",
            "r\n",
            "a\n",
            "n\n",
            "g\n",
            "e\n",
            "black\n",
            "b\n",
            "l\n",
            "a\n",
            "c\n",
            "k\n"
          ]
        }
      ]
    },
    {
      "cell_type": "code",
      "source": [
        "## Range:- To loop through a set of code a specified number of times, we can use the range() function.\n",
        "# range function always starts from zero.\n",
        "\n",
        "for x in range(6):\n",
        "  print(x)     ## it will print upto 0-5."
      ],
      "metadata": {
        "colab": {
          "base_uri": "https://localhost:8080/"
        },
        "id": "0cfPWoGK1jVs",
        "outputId": "a3dc3e81-caeb-4e27-b61e-4eeeb857d08a"
      },
      "execution_count": null,
      "outputs": [
        {
          "output_type": "stream",
          "name": "stdout",
          "text": [
            "0\n",
            "1\n",
            "2\n",
            "3\n",
            "4\n",
            "5\n"
          ]
        }
      ]
    },
    {
      "cell_type": "code",
      "source": [
        "for x in range (6):\n",
        "  print(x+1)      ## it will print upto  1-6."
      ],
      "metadata": {
        "colab": {
          "base_uri": "https://localhost:8080/"
        },
        "id": "q74zmK7m294N",
        "outputId": "25aa7a61-0fda-499e-a1e7-44c3f89441a9"
      },
      "execution_count": null,
      "outputs": [
        {
          "output_type": "stream",
          "name": "stdout",
          "text": [
            "1\n",
            "2\n",
            "3\n",
            "4\n",
            "5\n",
            "6\n"
          ]
        }
      ]
    },
    {
      "cell_type": "code",
      "source": [
        "## print upto 100 with the common difference is of 2.\n",
        "\n",
        "for x in range(0,100,2):     ## here the bracket is defined as(start, stop, step) step means omit the numbers in between the start and stop.\n",
        "  print(x)"
      ],
      "metadata": {
        "colab": {
          "base_uri": "https://localhost:8080/"
        },
        "id": "dWTJnC6u4Adt",
        "outputId": "3def5918-a9cc-4149-88b2-153b28724284"
      },
      "execution_count": null,
      "outputs": [
        {
          "output_type": "stream",
          "name": "stdout",
          "text": [
            "0\n",
            "2\n",
            "4\n",
            "6\n",
            "8\n",
            "10\n",
            "12\n",
            "14\n",
            "16\n",
            "18\n",
            "20\n",
            "22\n",
            "24\n",
            "26\n",
            "28\n",
            "30\n",
            "32\n",
            "34\n",
            "36\n",
            "38\n",
            "40\n",
            "42\n",
            "44\n",
            "46\n",
            "48\n",
            "50\n",
            "52\n",
            "54\n",
            "56\n",
            "58\n",
            "60\n",
            "62\n",
            "64\n",
            "66\n",
            "68\n",
            "70\n",
            "72\n",
            "74\n",
            "76\n",
            "78\n",
            "80\n",
            "82\n",
            "84\n",
            "86\n",
            "88\n",
            "90\n",
            "92\n",
            "94\n",
            "96\n",
            "98\n"
          ]
        }
      ]
    },
    {
      "cell_type": "code",
      "source": [
        "## print first 10 natural nos using for loop.\n",
        "\n",
        "for x in range(1,11):\n",
        "  print(x)"
      ],
      "metadata": {
        "colab": {
          "base_uri": "https://localhost:8080/"
        },
        "id": "FAwRr4kI4auD",
        "outputId": "197b6ff4-2399-4aaa-8ca1-eb38f9d88b34"
      },
      "execution_count": null,
      "outputs": [
        {
          "output_type": "stream",
          "name": "stdout",
          "text": [
            "1\n",
            "2\n",
            "3\n",
            "4\n",
            "5\n",
            "6\n",
            "7\n",
            "8\n",
            "9\n",
            "10\n"
          ]
        }
      ]
    },
    {
      "cell_type": "code",
      "source": [
        "# Python program to print all the even numbers within the given range.\n",
        "\n",
        "for x in range(10):\n",
        "    if x % 2 == 0:\n",
        "      print(x)"
      ],
      "metadata": {
        "colab": {
          "base_uri": "https://localhost:8080/"
        },
        "id": "88ul5fgg5yQs",
        "outputId": "03103ffe-6438-4c27-8d49-7fd099b77e3d"
      },
      "execution_count": null,
      "outputs": [
        {
          "output_type": "stream",
          "name": "stdout",
          "text": [
            "0\n",
            "2\n",
            "4\n",
            "6\n",
            "8\n"
          ]
        }
      ]
    },
    {
      "cell_type": "code",
      "source": [
        "# program to calculate the sum of all numbers from 1 to 20.\n",
        "\n",
        "given_number=21\n",
        "\n",
        "sum=0\n",
        "\n",
        "for x in range(1,given_number):\n",
        "    sum+=x\n",
        "print(sum)"
      ],
      "metadata": {
        "colab": {
          "base_uri": "https://localhost:8080/"
        },
        "id": "K2b0BTE76XXv",
        "outputId": "941d7423-19d7-4e9a-a119-39f7c85cb771"
      },
      "execution_count": null,
      "outputs": [
        {
          "output_type": "stream",
          "name": "stdout",
          "text": [
            "210\n"
          ]
        }
      ]
    },
    {
      "cell_type": "code",
      "source": [
        "## Python program to calculate the sum of all the odd numbers within the given range.\n",
        "\n",
        "given_number=11\n",
        "\n",
        "sum=0\n",
        "\n",
        "for k in range(1,given_number):\n",
        "  if k%2!=0:\n",
        "    sum+=k\n",
        "print(sum)"
      ],
      "metadata": {
        "colab": {
          "base_uri": "https://localhost:8080/"
        },
        "id": "X694Sm0d8kot",
        "outputId": "ebf8b907-deb4-477b-fcb6-b5ea3b814df0"
      },
      "execution_count": null,
      "outputs": [
        {
          "output_type": "stream",
          "name": "stdout",
          "text": [
            "25\n"
          ]
        }
      ]
    },
    {
      "cell_type": "code",
      "source": [
        "# Python program that accepts a word from the user and reverses it.\n",
        "\n",
        "given_string=input(\"Enter the word: \")\n",
        "\n",
        "reverse_string=\" \"\n",
        "\n",
        "for i in given_string:\n",
        "  reverse_string=i+reverse_string\n",
        "\n",
        "print(reverse_string)"
      ],
      "metadata": {
        "colab": {
          "base_uri": "https://localhost:8080/"
        },
        "id": "CljFCiuv-9ID",
        "outputId": "e99b6c99-7276-487e-edbf-8fcad63e1100"
      },
      "execution_count": null,
      "outputs": [
        {
          "output_type": "stream",
          "name": "stdout",
          "text": [
            "Enter the word: Diggaj\n",
            "jaggiD \n"
          ]
        }
      ]
    },
    {
      "cell_type": "code",
      "source": [
        "input_string=input(\"Enter the name: \")\n",
        "\n",
        "reverse_string=input_string[::-1]\n",
        "\n",
        "print(reverse_string)"
      ],
      "metadata": {
        "colab": {
          "base_uri": "https://localhost:8080/"
        },
        "id": "f0txMQGrQXVq",
        "outputId": "cb2be96b-19ea-4aea-a8e6-6edb0c7bbb97"
      },
      "execution_count": null,
      "outputs": [
        {
          "output_type": "stream",
          "name": "stdout",
          "text": [
            "Enter the name: Diggaj Bishnoi\n",
            "ionhsiB jaggiD\n"
          ]
        }
      ]
    },
    {
      "cell_type": "code",
      "source": [
        "import calendar\n",
        "\n",
        "print(\"Welcome to calendar!\")\n",
        "\n",
        "month=int(input(\"Enter the month: \"))\n",
        "year=int(input(\"Enter the year: \"))\n",
        "\n",
        "print(calendar.month(year,month))"
      ],
      "metadata": {
        "id": "K4tI0uQ8AvWi",
        "colab": {
          "base_uri": "https://localhost:8080/"
        },
        "outputId": "4f3bf81d-fd49-4aae-c160-f5d5b3d0bf48"
      },
      "execution_count": null,
      "outputs": [
        {
          "output_type": "stream",
          "name": "stdout",
          "text": [
            "Welcome to calendar!\n",
            "Enter the month: 5\n",
            "Enter the year: 2024\n",
            "      May 2024\n",
            "Mo Tu We Th Fr Sa Su\n",
            "       1  2  3  4  5\n",
            " 6  7  8  9 10 11 12\n",
            "13 14 15 16 17 18 19\n",
            "20 21 22 23 24 25 26\n",
            "27 28 29 30 31\n",
            "\n"
          ]
        }
      ]
    },
    {
      "cell_type": "markdown",
      "source": [
        "## **Loops**:- they are used to repeate the instructions.\n",
        "\n",
        "Types:- (a) While Loop\n",
        "        (b) For Loop\n",
        "        "
      ],
      "metadata": {
        "id": "K0GhIKZ2WgET"
      }
    },
    {
      "cell_type": "markdown",
      "source": [
        "### While Loop:-  while *Condition*:      \n",
        "\n",
        "(jab tak Vo condition True rehti h tab tak some work hota rhega.)"
      ],
      "metadata": {
        "id": "veZ3KXaACRyd"
      }
    },
    {
      "cell_type": "code",
      "source": [
        "## while Loop:-\n",
        "\n",
        "count=1\n",
        "while count<=5:\n",
        "  print(\"Hello!\")\n",
        "  count+=1\n"
      ],
      "metadata": {
        "colab": {
          "base_uri": "https://localhost:8080/"
        },
        "id": "o_dgBILHZEqe",
        "outputId": "bdd2b7d1-6648-489b-d55e-b3e95ff35d11"
      },
      "execution_count": null,
      "outputs": [
        {
          "output_type": "stream",
          "name": "stdout",
          "text": [
            "Hello!\n",
            "Hello!\n",
            "Hello!\n",
            "Hello!\n",
            "Hello!\n"
          ]
        }
      ]
    },
    {
      "cell_type": "code",
      "source": [
        "## while Loop:-\n",
        "\n",
        "i=1\n",
        "while i<=7:\n",
        "  print(\"Diggaj!\")\n",
        "  i+=1\n",
        "print(count)"
      ],
      "metadata": {
        "colab": {
          "base_uri": "https://localhost:8080/"
        },
        "id": "e-HiMOhSZ-Gf",
        "outputId": "7def1f9c-41ea-4a24-ed1d-339b715fffc3"
      },
      "execution_count": null,
      "outputs": [
        {
          "output_type": "stream",
          "name": "stdout",
          "text": [
            "Diggaj!\n",
            "Diggaj!\n",
            "Diggaj!\n",
            "Diggaj!\n",
            "Diggaj!\n",
            "Diggaj!\n",
            "Diggaj!\n",
            "6\n"
          ]
        }
      ]
    },
    {
      "cell_type": "code",
      "source": [
        "## Print numbers from 1 to 15 using while loop:-\n",
        "\n",
        "num=1\n",
        "while num<=15:\n",
        "  print(num)\n",
        "  num+=1\n",
        "\n",
        "print(\"Loop Ended!\")"
      ],
      "metadata": {
        "colab": {
          "base_uri": "https://localhost:8080/"
        },
        "id": "95ax7YWJbJFw",
        "outputId": "56eeab59-c5b8-4980-98f6-f6f6b1ad223f"
      },
      "execution_count": null,
      "outputs": [
        {
          "output_type": "stream",
          "name": "stdout",
          "text": [
            "1\n",
            "2\n",
            "3\n",
            "4\n",
            "5\n",
            "6\n",
            "7\n",
            "8\n",
            "9\n",
            "10\n",
            "11\n",
            "12\n",
            "13\n",
            "14\n",
            "15\n",
            "Loop Ended!\n"
          ]
        }
      ]
    },
    {
      "cell_type": "code",
      "source": [
        "## Print the numbers from 1 to 10 in descending order:-\n",
        "\n",
        "i=10\n",
        "\n",
        "while i>=1:\n",
        "  print(i)\n",
        "  i=i-1            ## it could also be written as i-=1"
      ],
      "metadata": {
        "colab": {
          "base_uri": "https://localhost:8080/"
        },
        "id": "cU6uVi7qblxT",
        "outputId": "65a04bdf-3583-4abe-da92-bf243fd547d9"
      },
      "execution_count": null,
      "outputs": [
        {
          "output_type": "stream",
          "name": "stdout",
          "text": [
            "10\n",
            "9\n",
            "8\n",
            "7\n",
            "6\n",
            "5\n",
            "4\n",
            "3\n",
            "2\n",
            "1\n"
          ]
        }
      ]
    },
    {
      "cell_type": "code",
      "source": [
        "## Print numbers from 1 to 100:\n",
        "\n",
        "i=1\n",
        "while i<=100:\n",
        "  print(i)\n",
        "  i+=1"
      ],
      "metadata": {
        "colab": {
          "base_uri": "https://localhost:8080/"
        },
        "id": "qc6m2m5EcI0p",
        "outputId": "d5ccc71e-7ce3-4f74-c435-b7184f8a79a8"
      },
      "execution_count": null,
      "outputs": [
        {
          "output_type": "stream",
          "name": "stdout",
          "text": [
            "1\n",
            "2\n",
            "3\n",
            "4\n",
            "5\n",
            "6\n",
            "7\n",
            "8\n",
            "9\n",
            "10\n",
            "11\n",
            "12\n",
            "13\n",
            "14\n",
            "15\n",
            "16\n",
            "17\n",
            "18\n",
            "19\n",
            "20\n",
            "21\n",
            "22\n",
            "23\n",
            "24\n",
            "25\n",
            "26\n",
            "27\n",
            "28\n",
            "29\n",
            "30\n",
            "31\n",
            "32\n",
            "33\n",
            "34\n",
            "35\n",
            "36\n",
            "37\n",
            "38\n",
            "39\n",
            "40\n",
            "41\n",
            "42\n",
            "43\n",
            "44\n",
            "45\n",
            "46\n",
            "47\n",
            "48\n",
            "49\n",
            "50\n",
            "51\n",
            "52\n",
            "53\n",
            "54\n",
            "55\n",
            "56\n",
            "57\n",
            "58\n",
            "59\n",
            "60\n",
            "61\n",
            "62\n",
            "63\n",
            "64\n",
            "65\n",
            "66\n",
            "67\n",
            "68\n",
            "69\n",
            "70\n",
            "71\n",
            "72\n",
            "73\n",
            "74\n",
            "75\n",
            "76\n",
            "77\n",
            "78\n",
            "79\n",
            "80\n",
            "81\n",
            "82\n",
            "83\n",
            "84\n",
            "85\n",
            "86\n",
            "87\n",
            "88\n",
            "89\n",
            "90\n",
            "91\n",
            "92\n",
            "93\n",
            "94\n",
            "95\n",
            "96\n",
            "97\n",
            "98\n",
            "99\n",
            "100\n"
          ]
        }
      ]
    },
    {
      "cell_type": "code",
      "source": [
        "## Print numbers from 100 to 1:\n",
        "\n",
        "i=100\n",
        "while i>=1:      ## stopping condition\n",
        "  print(i)\n",
        "  i-=1"
      ],
      "metadata": {
        "colab": {
          "base_uri": "https://localhost:8080/"
        },
        "id": "-S9Yapiwc_dT",
        "outputId": "e0159bfc-79a0-4f9b-cddc-ccd92d66ea4d"
      },
      "execution_count": null,
      "outputs": [
        {
          "output_type": "stream",
          "name": "stdout",
          "text": [
            "100\n",
            "99\n",
            "98\n",
            "97\n",
            "96\n",
            "95\n",
            "94\n",
            "93\n",
            "92\n",
            "91\n",
            "90\n",
            "89\n",
            "88\n",
            "87\n",
            "86\n",
            "85\n",
            "84\n",
            "83\n",
            "82\n",
            "81\n",
            "80\n",
            "79\n",
            "78\n",
            "77\n",
            "76\n",
            "75\n",
            "74\n",
            "73\n",
            "72\n",
            "71\n",
            "70\n",
            "69\n",
            "68\n",
            "67\n",
            "66\n",
            "65\n",
            "64\n",
            "63\n",
            "62\n",
            "61\n",
            "60\n",
            "59\n",
            "58\n",
            "57\n",
            "56\n",
            "55\n",
            "54\n",
            "53\n",
            "52\n",
            "51\n",
            "50\n",
            "49\n",
            "48\n",
            "47\n",
            "46\n",
            "45\n",
            "44\n",
            "43\n",
            "42\n",
            "41\n",
            "40\n",
            "39\n",
            "38\n",
            "37\n",
            "36\n",
            "35\n",
            "34\n",
            "33\n",
            "32\n",
            "31\n",
            "30\n",
            "29\n",
            "28\n",
            "27\n",
            "26\n",
            "25\n",
            "24\n",
            "23\n",
            "22\n",
            "21\n",
            "20\n",
            "19\n",
            "18\n",
            "17\n",
            "16\n",
            "15\n",
            "14\n",
            "13\n",
            "12\n",
            "11\n",
            "10\n",
            "9\n",
            "8\n",
            "7\n",
            "6\n",
            "5\n",
            "4\n",
            "3\n",
            "2\n",
            "1\n"
          ]
        }
      ]
    },
    {
      "cell_type": "code",
      "source": [
        "## Print the multiplication table of a 5 :-\n",
        "\n",
        "i=1\n",
        "while i<=10:\n",
        "  print(5*i)\n",
        "  i+=1"
      ],
      "metadata": {
        "colab": {
          "base_uri": "https://localhost:8080/"
        },
        "id": "ZYlRqRs_dLa7",
        "outputId": "850ef684-1eff-4483-fd80-1de8a12c3b3c"
      },
      "execution_count": null,
      "outputs": [
        {
          "output_type": "stream",
          "name": "stdout",
          "text": [
            "5\n",
            "10\n",
            "15\n",
            "20\n",
            "25\n",
            "30\n",
            "35\n",
            "40\n",
            "45\n",
            "50\n"
          ]
        }
      ]
    },
    {
      "cell_type": "code",
      "source": [
        "## Print the multiplication table of any number taken as input :-\n",
        "\n",
        "n=int(input(\"Enter the number: \"))\n",
        "\n",
        "i=1\n",
        "while i<=10:\n",
        "  print(n*i)\n",
        "  i=i+1\n"
      ],
      "metadata": {
        "colab": {
          "base_uri": "https://localhost:8080/"
        },
        "id": "HgHaJ8X3hX5r",
        "outputId": "8d8e2ecc-75ca-42cf-8821-0879bc267d00"
      },
      "execution_count": null,
      "outputs": [
        {
          "output_type": "stream",
          "name": "stdout",
          "text": [
            "Enter the number: 15\n",
            "15\n",
            "30\n",
            "45\n",
            "60\n",
            "75\n",
            "90\n",
            "105\n",
            "120\n",
            "135\n",
            "150\n"
          ]
        }
      ]
    },
    {
      "cell_type": "code",
      "source": [
        "## Print the tuple [1,4,9,16,25,36,49,64,81,100]\n",
        "\n",
        "nums=[1,49,16,25,36,49,64,81,100]\n",
        "idx=0\n",
        "while idx<len(nums):\n",
        "  print(nums)\n",
        "  idx+=1"
      ],
      "metadata": {
        "colab": {
          "base_uri": "https://localhost:8080/"
        },
        "id": "m3u0uGyQd7uM",
        "outputId": "0ff5ed04-5bcb-4c15-a10a-b1e1d130c846"
      },
      "execution_count": null,
      "outputs": [
        {
          "output_type": "stream",
          "name": "stdout",
          "text": [
            "[1, 49, 16, 25, 36, 49, 64, 81, 100]\n",
            "[1, 49, 16, 25, 36, 49, 64, 81, 100]\n",
            "[1, 49, 16, 25, 36, 49, 64, 81, 100]\n",
            "[1, 49, 16, 25, 36, 49, 64, 81, 100]\n",
            "[1, 49, 16, 25, 36, 49, 64, 81, 100]\n",
            "[1, 49, 16, 25, 36, 49, 64, 81, 100]\n",
            "[1, 49, 16, 25, 36, 49, 64, 81, 100]\n",
            "[1, 49, 16, 25, 36, 49, 64, 81, 100]\n",
            "[1, 49, 16, 25, 36, 49, 64, 81, 100]\n"
          ]
        }
      ]
    },
    {
      "cell_type": "code",
      "source": [
        "# Print the following tuple:-   [\"Batman\",\"superman\",\"ironman\",\"thor\",\"aquaman\"]\n",
        "\n",
        "heros=[\"Batman\",\"superman\",\"ironman\",\"thor\",\"aquaman\"]\n",
        "i=0\n",
        "\n",
        "while i<len(heros):\n",
        "  print(heros)\n",
        "  i=i+1"
      ],
      "metadata": {
        "colab": {
          "base_uri": "https://localhost:8080/"
        },
        "id": "QXwuiFXtpuQG",
        "outputId": "18fa3827-cd04-41c4-81d3-139481f1f869"
      },
      "execution_count": null,
      "outputs": [
        {
          "output_type": "stream",
          "name": "stdout",
          "text": [
            "['Batman', 'superman', 'ironman', 'thor', 'aquaman']\n",
            "['Batman', 'superman', 'ironman', 'thor', 'aquaman']\n",
            "['Batman', 'superman', 'ironman', 'thor', 'aquaman']\n",
            "['Batman', 'superman', 'ironman', 'thor', 'aquaman']\n",
            "['Batman', 'superman', 'ironman', 'thor', 'aquaman']\n"
          ]
        }
      ]
    },
    {
      "cell_type": "code",
      "source": [
        "## Print the following number :- 1,4,9,16,25,36,49,64,81,100\n",
        "\n",
        "i=1\n",
        "while i<=10:\n",
        "  print(i*i)\n",
        "  i=i+1"
      ],
      "metadata": {
        "colab": {
          "base_uri": "https://localhost:8080/"
        },
        "id": "1556MD-Hdfjs",
        "outputId": "0d0b9251-f0bb-4ead-9f31-81c90501ebe9"
      },
      "execution_count": null,
      "outputs": [
        {
          "output_type": "stream",
          "name": "stdout",
          "text": [
            "1\n",
            "4\n",
            "9\n",
            "16\n",
            "25\n",
            "36\n",
            "49\n",
            "64\n",
            "81\n",
            "100\n"
          ]
        }
      ]
    },
    {
      "cell_type": "markdown",
      "source": [
        "## Break and Continue:-\n",
        "\n",
        "1. **Break**:- it is used to terminate the loop when encountered. **It exits the loop**\n",
        "\n",
        "2. **Continue**:- terminates the execution of the current iteration and continues execution of the loop with the next iteration.\n",
        "      **It acts as a skip button**.\n"
      ],
      "metadata": {
        "id": "WzadtiyG0vbR"
      }
    },
    {
      "cell_type": "code",
      "source": [
        "# Continue\n",
        "\n",
        "i=0\n",
        "while i<=5:\n",
        "  if(i==3):\n",
        "    i+=1\n",
        "    continue      ## acts as skip that part.\n",
        "  print(i)\n",
        "  i+=1"
      ],
      "metadata": {
        "colab": {
          "base_uri": "https://localhost:8080/"
        },
        "id": "1HkA4TiWE7ov",
        "outputId": "7a445d02-375d-4a62-eb00-b739756995ad"
      },
      "execution_count": null,
      "outputs": [
        {
          "output_type": "stream",
          "name": "stdout",
          "text": [
            "0\n",
            "1\n",
            "2\n",
            "4\n",
            "5\n"
          ]
        }
      ]
    },
    {
      "cell_type": "code",
      "source": [
        "# Print only odd numbers fro 1 to 10\n",
        "i=0\n",
        "while i<=10:\n",
        "    if (i%2==0):\n",
        "        i=i+1\n",
        "        continue         ## always act as skip that part.\n",
        "    print(i)\n",
        "    i=i+1"
      ],
      "metadata": {
        "colab": {
          "base_uri": "https://localhost:8080/"
        },
        "id": "X5UrcuWE5Mgb",
        "outputId": "9795d8b0-6865-4e22-cd01-81a6b1bdb534"
      },
      "execution_count": null,
      "outputs": [
        {
          "output_type": "stream",
          "name": "stdout",
          "text": [
            "1\n",
            "3\n",
            "5\n",
            "7\n",
            "9\n"
          ]
        }
      ]
    },
    {
      "cell_type": "code",
      "source": [
        "## print only even numbers from 1 to 10\n",
        "\n",
        "i=0\n",
        "while i<=10:\n",
        "    if (i%2!=0):\n",
        "        i=i+1\n",
        "        continue        ## always act as skip that part.\n",
        "    print(i)\n",
        "    i=i+1"
      ],
      "metadata": {
        "colab": {
          "base_uri": "https://localhost:8080/"
        },
        "id": "_zFIh4CR5WIo",
        "outputId": "cc51a7d9-6963-40cf-a6e0-f659f309c76f"
      },
      "execution_count": null,
      "outputs": [
        {
          "output_type": "stream",
          "name": "stdout",
          "text": [
            "0\n",
            "2\n",
            "4\n",
            "6\n",
            "8\n",
            "10\n"
          ]
        }
      ]
    },
    {
      "cell_type": "code",
      "source": [
        "## Break\n",
        "\n",
        "x=0\n",
        "while x<=10:\n",
        "  if x==5:\n",
        "      break          ## it will exit the loop.\n",
        "  print(x)\n",
        "  x=x+1\n"
      ],
      "metadata": {
        "colab": {
          "base_uri": "https://localhost:8080/"
        },
        "id": "g5kLEhhm6jQN",
        "outputId": "8c4e11da-7485-4bf2-d99d-c9937a5a4844"
      },
      "execution_count": null,
      "outputs": [
        {
          "output_type": "stream",
          "name": "stdout",
          "text": [
            "0\n",
            "1\n",
            "2\n",
            "3\n",
            "4\n"
          ]
        }
      ]
    },
    {
      "cell_type": "code",
      "source": [],
      "metadata": {
        "id": "fKFGwNUFCv56"
      },
      "execution_count": null,
      "outputs": []
    },
    {
      "cell_type": "markdown",
      "source": [
        "### For Loop:- They are used in the sequential traversals.  "
      ],
      "metadata": {
        "id": "ffvVk56mCXyP"
      }
    },
    {
      "cell_type": "code",
      "source": [
        "## For loop:\n",
        "\n",
        "list=[1,2,3,4,6]\n",
        "\n",
        "for num in list:\n",
        "  print(num)"
      ],
      "metadata": {
        "colab": {
          "base_uri": "https://localhost:8080/"
        },
        "id": "5Qg1rIA5D4Ty",
        "outputId": "576b75c3-7866-439e-eae3-d8a1eb63d449"
      },
      "execution_count": null,
      "outputs": [
        {
          "output_type": "stream",
          "name": "stdout",
          "text": [
            "1\n",
            "2\n",
            "3\n",
            "4\n",
            "6\n"
          ]
        }
      ]
    },
    {
      "cell_type": "code",
      "source": [
        "# for loop\n",
        "\n",
        "veggies=[\"Potato\",\"Brinjal\",\"Ladyfinger\",\"cucumber\"]\n",
        "\n",
        "for x in veggies:\n",
        "  print(x)"
      ],
      "metadata": {
        "colab": {
          "base_uri": "https://localhost:8080/"
        },
        "id": "q8UahGXND_2C",
        "outputId": "c3f0af72-a842-4843-f485-169cd8d25950"
      },
      "execution_count": null,
      "outputs": [
        {
          "output_type": "stream",
          "name": "stdout",
          "text": [
            "Potato\n",
            "Brinjal\n",
            "Ladyfinger\n",
            "cucumber\n"
          ]
        }
      ]
    },
    {
      "cell_type": "code",
      "source": [
        "## for loop in tuple:-\n",
        "\n",
        "tup=(1,3,4,6,78,66)\n",
        "\n",
        "for num in tup:\n",
        "  print(num)"
      ],
      "metadata": {
        "colab": {
          "base_uri": "https://localhost:8080/"
        },
        "id": "EkpkVPNQE6QV",
        "outputId": "aac350b2-f0a5-4d3a-cb89-4f56f8ef3523"
      },
      "execution_count": null,
      "outputs": [
        {
          "output_type": "stream",
          "name": "stdout",
          "text": [
            "1\n",
            "3\n",
            "4\n",
            "6\n",
            "78\n",
            "66\n"
          ]
        }
      ]
    },
    {
      "cell_type": "code",
      "source": [
        "## For loop in a string:-\n",
        "\n",
        "str=\"Apnadiggajbishnoi\"\n",
        "for char in str:\n",
        "  print(char)"
      ],
      "metadata": {
        "colab": {
          "base_uri": "https://localhost:8080/"
        },
        "id": "_4wDZ0eGFE-D",
        "outputId": "080bc555-2ee7-461b-fdcc-482227bf3a92"
      },
      "execution_count": null,
      "outputs": [
        {
          "output_type": "stream",
          "name": "stdout",
          "text": [
            "A\n",
            "p\n",
            "n\n",
            "a\n",
            "d\n",
            "i\n",
            "g\n",
            "g\n",
            "a\n",
            "j\n",
            "b\n",
            "i\n",
            "s\n",
            "h\n",
            "n\n",
            "o\n",
            "i\n"
          ]
        }
      ]
    },
    {
      "cell_type": "code",
      "source": [
        "## For Loop with else:-\n",
        "\n",
        "\n",
        "for x in range(10):\n",
        "  print(x)\n",
        "\n",
        "else:                 ## here the else function will be executed after the loop is completely traversed.\n",
        "  print(\"THE END!!\")"
      ],
      "metadata": {
        "colab": {
          "base_uri": "https://localhost:8080/"
        },
        "id": "JPjoBqxhSkXC",
        "outputId": "e03e2bbd-9d78-4af6-d1ea-47d33966e830"
      },
      "execution_count": null,
      "outputs": [
        {
          "output_type": "stream",
          "name": "stdout",
          "text": [
            "0\n",
            "1\n",
            "2\n",
            "3\n",
            "4\n",
            "5\n",
            "6\n",
            "7\n",
            "8\n",
            "9\n",
            "THE END!!\n"
          ]
        }
      ]
    },
    {
      "cell_type": "code",
      "source": [
        "str=\"apnacollege\"\n",
        "\n",
        "for char in str:\n",
        "  if (char==\"o\"):\n",
        "    print(\"O FOUND!!\")\n",
        "    break\n",
        "  print(char)"
      ],
      "metadata": {
        "colab": {
          "base_uri": "https://localhost:8080/"
        },
        "id": "GvRFPFZpS7Kh",
        "outputId": "2db5b880-b58b-46cb-d932-0ec081eb535b"
      },
      "execution_count": null,
      "outputs": [
        {
          "output_type": "stream",
          "name": "stdout",
          "text": [
            "a\n",
            "p\n",
            "n\n",
            "a\n",
            "c\n",
            "O FOUND!!\n"
          ]
        }
      ]
    },
    {
      "cell_type": "code",
      "source": [
        "## Print the following list:-\n",
        "\n",
        "nums=[1,4,9,16,25,36,49,64,81,100]\n",
        "\n",
        "for el in nums:\n",
        "  print(el)"
      ],
      "metadata": {
        "colab": {
          "base_uri": "https://localhost:8080/"
        },
        "id": "dzVwYhtJUKOC",
        "outputId": "18929f55-3e43-44ce-8097-5004e56a2d02"
      },
      "execution_count": null,
      "outputs": [
        {
          "output_type": "stream",
          "name": "stdout",
          "text": [
            "1\n",
            "4\n",
            "9\n",
            "16\n",
            "25\n",
            "36\n",
            "49\n",
            "64\n",
            "81\n",
            "100\n"
          ]
        }
      ]
    },
    {
      "cell_type": "code",
      "source": [
        "## Search a number x in the given above tuple:-\n",
        "\n",
        "nums=(1,4,9,16,25,36,49,64,81,100,49)\n",
        "x=49\n",
        "\n",
        "for el in nums:\n",
        "  if el==x:\n",
        "    print(\"FOUND!!!\")\n",
        "    continue\n",
        "  print(el)"
      ],
      "metadata": {
        "colab": {
          "base_uri": "https://localhost:8080/"
        },
        "id": "9916ls49U_SY",
        "outputId": "112dd36a-c7d6-43de-d19a-1804307e420e"
      },
      "execution_count": null,
      "outputs": [
        {
          "output_type": "stream",
          "name": "stdout",
          "text": [
            "1\n",
            "4\n",
            "9\n",
            "16\n",
            "25\n",
            "36\n",
            "FOUND!!!\n",
            "64\n",
            "81\n",
            "100\n",
            "FOUND!!!\n"
          ]
        }
      ]
    },
    {
      "cell_type": "code",
      "source": [
        "## RANGE FUNCTION:- Range function return a sequence of numbers, starting from 0 by default with an increment by 1, and stops before a specified number.\n",
        "\n",
        "for x in range(5):\n",
        "  print(x)\n"
      ],
      "metadata": {
        "colab": {
          "base_uri": "https://localhost:8080/"
        },
        "id": "3D2o9owFViUY",
        "outputId": "f8a14824-2ac3-457b-fb30-1d2545939d06"
      },
      "execution_count": null,
      "outputs": [
        {
          "output_type": "stream",
          "name": "stdout",
          "text": [
            "0\n",
            "1\n",
            "2\n",
            "3\n",
            "4\n"
          ]
        }
      ]
    },
    {
      "cell_type": "code",
      "source": [
        "for i in range(10):             ##range(stop)\n",
        "  print(i)"
      ],
      "metadata": {
        "colab": {
          "base_uri": "https://localhost:8080/"
        },
        "id": "PwKGfBxwM4yP",
        "outputId": "6272a230-54a9-4aef-d25f-7ec53f276bb7"
      },
      "execution_count": null,
      "outputs": [
        {
          "output_type": "stream",
          "name": "stdout",
          "text": [
            "0\n",
            "1\n",
            "2\n",
            "3\n",
            "4\n",
            "5\n",
            "6\n",
            "7\n",
            "8\n",
            "9\n"
          ]
        }
      ]
    },
    {
      "cell_type": "code",
      "source": [
        "for i in range(1,10):         ## range(start,stop)\n",
        "\n",
        "  print(i)"
      ],
      "metadata": {
        "colab": {
          "base_uri": "https://localhost:8080/"
        },
        "id": "UNHgP9INLIO4",
        "outputId": "2f7d110f-2f57-497b-8dcd-54a070a39b51"
      },
      "execution_count": null,
      "outputs": [
        {
          "output_type": "stream",
          "name": "stdout",
          "text": [
            "1\n",
            "2\n",
            "3\n",
            "4\n",
            "5\n",
            "6\n",
            "7\n",
            "8\n",
            "9\n"
          ]
        }
      ]
    },
    {
      "cell_type": "code",
      "source": [
        "for x in range (0,10,2):        ##range(start,stop,step)\n",
        "  print(x)"
      ],
      "metadata": {
        "colab": {
          "base_uri": "https://localhost:8080/"
        },
        "id": "q_YLFSvBMZGt",
        "outputId": "f4c7c46f-114d-4775-b424-83c7c13a582a"
      },
      "execution_count": null,
      "outputs": [
        {
          "output_type": "stream",
          "name": "stdout",
          "text": [
            "0\n",
            "2\n",
            "4\n",
            "6\n",
            "8\n"
          ]
        }
      ]
    },
    {
      "cell_type": "code",
      "source": [
        "## Print the even numbers from 2 to 100 using for loop:-\n",
        "\n",
        "for i in range(2,101,2):\n",
        "  print(i)"
      ],
      "metadata": {
        "colab": {
          "base_uri": "https://localhost:8080/"
        },
        "id": "poB5_GwbMgLd",
        "outputId": "42395799-6e6d-499a-cdd6-ceb1192b0cdb"
      },
      "execution_count": null,
      "outputs": [
        {
          "output_type": "stream",
          "name": "stdout",
          "text": [
            "2\n",
            "4\n",
            "6\n",
            "8\n",
            "10\n",
            "12\n",
            "14\n",
            "16\n",
            "18\n",
            "20\n",
            "22\n",
            "24\n",
            "26\n",
            "28\n",
            "30\n",
            "32\n",
            "34\n",
            "36\n",
            "38\n",
            "40\n",
            "42\n",
            "44\n",
            "46\n",
            "48\n",
            "50\n",
            "52\n",
            "54\n",
            "56\n",
            "58\n",
            "60\n",
            "62\n",
            "64\n",
            "66\n",
            "68\n",
            "70\n",
            "72\n",
            "74\n",
            "76\n",
            "78\n",
            "80\n",
            "82\n",
            "84\n",
            "86\n",
            "88\n",
            "90\n",
            "92\n",
            "94\n",
            "96\n",
            "98\n",
            "100\n"
          ]
        }
      ]
    },
    {
      "cell_type": "code",
      "source": [
        "## Print the odd numbers from 2 to 100 using for loop:-\n",
        "\n",
        "for x in range(3,101,2):\n",
        "  print(x)\n"
      ],
      "metadata": {
        "colab": {
          "base_uri": "https://localhost:8080/"
        },
        "id": "YusTtcpcNLWC",
        "outputId": "9a72dc43-dfea-413e-8405-9e319b57a587"
      },
      "execution_count": null,
      "outputs": [
        {
          "output_type": "stream",
          "name": "stdout",
          "text": [
            "3\n",
            "5\n",
            "7\n",
            "9\n",
            "11\n",
            "13\n",
            "15\n",
            "17\n",
            "19\n",
            "21\n",
            "23\n",
            "25\n",
            "27\n",
            "29\n",
            "31\n",
            "33\n",
            "35\n",
            "37\n",
            "39\n",
            "41\n",
            "43\n",
            "45\n",
            "47\n",
            "49\n",
            "51\n",
            "53\n",
            "55\n",
            "57\n",
            "59\n",
            "61\n",
            "63\n",
            "65\n",
            "67\n",
            "69\n",
            "71\n",
            "73\n",
            "75\n",
            "77\n",
            "79\n",
            "81\n",
            "83\n",
            "85\n",
            "87\n",
            "89\n",
            "91\n",
            "93\n",
            "95\n",
            "97\n",
            "99\n"
          ]
        }
      ]
    },
    {
      "cell_type": "code",
      "source": [
        "## Print numbers from 1 to 100 using for loop:-\n",
        "\n",
        "for i in range(1,101):\n",
        "  print(i)"
      ],
      "metadata": {
        "colab": {
          "base_uri": "https://localhost:8080/"
        },
        "id": "8OcEHWkYNhSj",
        "outputId": "f42ffa73-6352-4ac4-949a-3ea9a1b3405a"
      },
      "execution_count": null,
      "outputs": [
        {
          "output_type": "stream",
          "name": "stdout",
          "text": [
            "1\n",
            "2\n",
            "3\n",
            "4\n",
            "5\n",
            "6\n",
            "7\n",
            "8\n",
            "9\n",
            "10\n",
            "11\n",
            "12\n",
            "13\n",
            "14\n",
            "15\n",
            "16\n",
            "17\n",
            "18\n",
            "19\n",
            "20\n",
            "21\n",
            "22\n",
            "23\n",
            "24\n",
            "25\n",
            "26\n",
            "27\n",
            "28\n",
            "29\n",
            "30\n",
            "31\n",
            "32\n",
            "33\n",
            "34\n",
            "35\n",
            "36\n",
            "37\n",
            "38\n",
            "39\n",
            "40\n",
            "41\n",
            "42\n",
            "43\n",
            "44\n",
            "45\n",
            "46\n",
            "47\n",
            "48\n",
            "49\n",
            "50\n",
            "51\n",
            "52\n",
            "53\n",
            "54\n",
            "55\n",
            "56\n",
            "57\n",
            "58\n",
            "59\n",
            "60\n",
            "61\n",
            "62\n",
            "63\n",
            "64\n",
            "65\n",
            "66\n",
            "67\n",
            "68\n",
            "69\n",
            "70\n",
            "71\n",
            "72\n",
            "73\n",
            "74\n",
            "75\n",
            "76\n",
            "77\n",
            "78\n",
            "79\n",
            "80\n",
            "81\n",
            "82\n",
            "83\n",
            "84\n",
            "85\n",
            "86\n",
            "87\n",
            "88\n",
            "89\n",
            "90\n",
            "91\n",
            "92\n",
            "93\n",
            "94\n",
            "95\n",
            "96\n",
            "97\n",
            "98\n",
            "99\n",
            "100\n"
          ]
        }
      ]
    },
    {
      "cell_type": "code",
      "source": [
        "## Print numbers from 100 to 1 using for loop:-\n",
        "\n",
        "for i in range(100,0,-1):                   ## -1 at step means decrease the number by 1 at each step.\n",
        "  print(i)"
      ],
      "metadata": {
        "colab": {
          "base_uri": "https://localhost:8080/"
        },
        "id": "fibFlwQDOGJy",
        "outputId": "21c7672d-f588-4d09-f48c-54b95470d4bf"
      },
      "execution_count": null,
      "outputs": [
        {
          "output_type": "stream",
          "name": "stdout",
          "text": [
            "100\n",
            "99\n",
            "98\n",
            "97\n",
            "96\n",
            "95\n",
            "94\n",
            "93\n",
            "92\n",
            "91\n",
            "90\n",
            "89\n",
            "88\n",
            "87\n",
            "86\n",
            "85\n",
            "84\n",
            "83\n",
            "82\n",
            "81\n",
            "80\n",
            "79\n",
            "78\n",
            "77\n",
            "76\n",
            "75\n",
            "74\n",
            "73\n",
            "72\n",
            "71\n",
            "70\n",
            "69\n",
            "68\n",
            "67\n",
            "66\n",
            "65\n",
            "64\n",
            "63\n",
            "62\n",
            "61\n",
            "60\n",
            "59\n",
            "58\n",
            "57\n",
            "56\n",
            "55\n",
            "54\n",
            "53\n",
            "52\n",
            "51\n",
            "50\n",
            "49\n",
            "48\n",
            "47\n",
            "46\n",
            "45\n",
            "44\n",
            "43\n",
            "42\n",
            "41\n",
            "40\n",
            "39\n",
            "38\n",
            "37\n",
            "36\n",
            "35\n",
            "34\n",
            "33\n",
            "32\n",
            "31\n",
            "30\n",
            "29\n",
            "28\n",
            "27\n",
            "26\n",
            "25\n",
            "24\n",
            "23\n",
            "22\n",
            "21\n",
            "20\n",
            "19\n",
            "18\n",
            "17\n",
            "16\n",
            "15\n",
            "14\n",
            "13\n",
            "12\n",
            "11\n",
            "10\n",
            "9\n",
            "8\n",
            "7\n",
            "6\n",
            "5\n",
            "4\n",
            "3\n",
            "2\n",
            "1\n"
          ]
        }
      ]
    },
    {
      "cell_type": "code",
      "source": [
        "## Print the multiplicaion table of a number n using for loop:-\n",
        "\n",
        "n=int(input(\"Enter the number: \"))\n",
        "\n",
        "for i in range(1,11):\n",
        "  print(n*i)"
      ],
      "metadata": {
        "colab": {
          "base_uri": "https://localhost:8080/"
        },
        "id": "3aCsDvnKOYdr",
        "outputId": "86684336-2d4d-43aa-eec8-9e007bd85995"
      },
      "execution_count": null,
      "outputs": [
        {
          "output_type": "stream",
          "name": "stdout",
          "text": [
            "Enter the number: 5\n",
            "5\n",
            "10\n",
            "15\n",
            "20\n",
            "25\n",
            "30\n",
            "35\n",
            "40\n",
            "45\n",
            "50\n"
          ]
        }
      ]
    },
    {
      "cell_type": "code",
      "source": [
        "## Pass Statement:- pass is a null statement thst does nothing.\n",
        "\n",
        "for i in range(5):\n",
        "  pass\n",
        "\n",
        "print(\"Diggaj\")"
      ],
      "metadata": {
        "colab": {
          "base_uri": "https://localhost:8080/"
        },
        "id": "mPNVw675QYLk",
        "outputId": "dd60734d-f671-433b-93eb-9d154b0226e5"
      },
      "execution_count": null,
      "outputs": [
        {
          "output_type": "stream",
          "name": "stdout",
          "text": [
            "Diggaj\n"
          ]
        }
      ]
    },
    {
      "cell_type": "code",
      "source": [
        "n=5\n",
        "fact=1\n",
        "\n",
        "for i in range(1, n+1):\n",
        "\n",
        "  fact=fact*i\n",
        "\n",
        "print(\"Factorial= \",fact)"
      ],
      "metadata": {
        "colab": {
          "base_uri": "https://localhost:8080/"
        },
        "id": "jSm4fWvEVagu",
        "outputId": "c8812fe6-27d0-4aea-88a7-2b5ec45d5812"
      },
      "execution_count": null,
      "outputs": [
        {
          "output_type": "stream",
          "name": "stdout",
          "text": [
            "Factorial=  120\n"
          ]
        }
      ]
    },
    {
      "cell_type": "code",
      "source": [],
      "metadata": {
        "id": "syf_WTAVWEwm"
      },
      "execution_count": null,
      "outputs": []
    },
    {
      "cell_type": "markdown",
      "source": [
        "## Functions and Recursions:-"
      ],
      "metadata": {
        "id": "7pQ2t4J-b1Bl"
      }
    },
    {
      "cell_type": "markdown",
      "source": [
        "### **Functions**:- A block of statements that performs specified task.\n",
        "\n",
        "1. In functions the fist step is creating a function.\n",
        "2. The 2nd step is calling a function."
      ],
      "metadata": {
        "id": "QvGf1qNQcMhI"
      }
    },
    {
      "cell_type": "code",
      "source": [
        "## Creating a function:-\n",
        "\n",
        "def my_function():\n",
        "  return(\"Diggaj Bishnoi is a good guy!!\")"
      ],
      "metadata": {
        "id": "-IYJFoUQB3f_"
      },
      "execution_count": null,
      "outputs": []
    },
    {
      "cell_type": "code",
      "source": [
        "## Calling a function:-\n",
        "\n",
        "a=input(\"Enter the name: \")\n",
        "b=input(\"Enter the other one: \")\n",
        "\n",
        "my_function()"
      ],
      "metadata": {
        "colab": {
          "base_uri": "https://localhost:8080/",
          "height": 69
        },
        "id": "m9mmM80FFl2R",
        "outputId": "e49deaf4-8a1f-4684-fc1e-f1ef822a844a"
      },
      "execution_count": null,
      "outputs": [
        {
          "name": "stdout",
          "output_type": "stream",
          "text": [
            "Enter the name: Diggaj \n",
            "Enter the other one: bishnoi\n"
          ]
        },
        {
          "output_type": "execute_result",
          "data": {
            "text/plain": [
              "'Diggaj Bishnoi is a good guy!!'"
            ],
            "application/vnd.google.colaboratory.intrinsic+json": {
              "type": "string"
            }
          },
          "metadata": {},
          "execution_count": 20
        }
      ]
    },
    {
      "cell_type": "code",
      "source": [
        "## 1st step:- Creating a function:-\n",
        "\n",
        "def calc_sum(a, b):                    ## here a,b are known as parameters.\n",
        "  sum=a + b\n",
        "  print(sum)\n",
        "## 2nd step:- Calling a function:-\n",
        "\n",
        "calc_sum(5,10)                         ## function call; and the nos in the bracket are called Arguments.\n",
        "\n",
        "calc_sum(55,100)\n",
        "\n",
        "calc_sum(2,5)\n",
        "\n",
        "calc_sum(6,9)"
      ],
      "metadata": {
        "colab": {
          "base_uri": "https://localhost:8080/"
        },
        "id": "Oej23yeacK9g",
        "outputId": "87079048-4f1d-4070-8231-db76717a0fb6"
      },
      "execution_count": null,
      "outputs": [
        {
          "output_type": "stream",
          "name": "stdout",
          "text": [
            "15\n",
            "155\n",
            "7\n",
            "15\n"
          ]
        }
      ]
    },
    {
      "cell_type": "code",
      "source": [
        "def d_diff(a,b):\n",
        "  diff=a-b\n",
        "  print(diff)\n",
        "\n",
        "d_diff(19,9)"
      ],
      "metadata": {
        "colab": {
          "base_uri": "https://localhost:8080/"
        },
        "id": "6fNB-yNNoJsh",
        "outputId": "5f0c2283-517e-4828-e376-c1334cabef15"
      },
      "execution_count": null,
      "outputs": [
        {
          "output_type": "stream",
          "name": "stdout",
          "text": [
            "10\n"
          ]
        }
      ]
    },
    {
      "cell_type": "code",
      "source": [
        "## addition of nos using functions.\n",
        "\n",
        "def cal_sum(a,b):\n",
        "  print(a+b)          ## instead of print we can also write return (a+b)\n",
        "\n",
        "\n",
        "cal_sum(5,9)\n",
        "cal_sum(9,10)"
      ],
      "metadata": {
        "colab": {
          "base_uri": "https://localhost:8080/"
        },
        "id": "pfyZ7aSOBm9c",
        "outputId": "d2c9f123-badf-4005-fd17-09dde7b66bbf"
      },
      "execution_count": null,
      "outputs": [
        {
          "output_type": "stream",
          "name": "stdout",
          "text": [
            "14\n",
            "19\n"
          ]
        }
      ]
    },
    {
      "cell_type": "code",
      "source": [
        "def cal_sum(a,b):\n",
        "  return(a+b)\n",
        "\n",
        "cal_sum(9,55)"
      ],
      "metadata": {
        "colab": {
          "base_uri": "https://localhost:8080/"
        },
        "id": "oRXWrHs7Y20w",
        "outputId": "c6fba2f7-4cfd-4301-e209-bf0f88a6c6d6"
      },
      "execution_count": null,
      "outputs": [
        {
          "output_type": "execute_result",
          "data": {
            "text/plain": [
              "64"
            ]
          },
          "metadata": {},
          "execution_count": 14
        }
      ]
    },
    {
      "cell_type": "code",
      "source": [
        "## Subtracting two nos. using function:-\n",
        "\n",
        "def c_dif(a,b):\n",
        "  return(a-b)\n",
        "\n",
        "\n",
        "difference=c_dif(100,45)      ## or we can just write c_diff(100,45) it will return the same.\n",
        "print(difference)\n",
        "\n",
        "c_dif(1000,2221)"
      ],
      "metadata": {
        "colab": {
          "base_uri": "https://localhost:8080/"
        },
        "id": "olsu6SGcZPik",
        "outputId": "4093c0a0-e88a-460a-feb8-ad1144462dbe"
      },
      "execution_count": null,
      "outputs": [
        {
          "output_type": "stream",
          "name": "stdout",
          "text": [
            "55\n"
          ]
        },
        {
          "output_type": "execute_result",
          "data": {
            "text/plain": [
              "-1221"
            ]
          },
          "metadata": {},
          "execution_count": 5
        }
      ]
    },
    {
      "cell_type": "code",
      "source": [
        "## Multiplying two nos:-\n",
        "\n",
        "def mul(a,b):\n",
        "  return a*b\n",
        "\n",
        "\n",
        "mul(25,6)"
      ],
      "metadata": {
        "colab": {
          "base_uri": "https://localhost:8080/"
        },
        "id": "VZ2a5CqrZbv-",
        "outputId": "83b35ebd-a153-48c6-8a0f-1cca5e96e293"
      },
      "execution_count": null,
      "outputs": [
        {
          "output_type": "execute_result",
          "data": {
            "text/plain": [
              "150"
            ]
          },
          "metadata": {},
          "execution_count": 22
        }
      ]
    },
    {
      "cell_type": "code",
      "source": [
        "## dividing of two nos:-\n",
        "\n",
        "def div(a,b):\n",
        "  print(a//b)\n",
        "\n",
        "\n",
        "div(16,4)"
      ],
      "metadata": {
        "colab": {
          "base_uri": "https://localhost:8080/"
        },
        "id": "QEASr6XXfGOP",
        "outputId": "5832329b-15cc-4575-9995-778ad8f82337"
      },
      "execution_count": null,
      "outputs": [
        {
          "output_type": "stream",
          "name": "stdout",
          "text": [
            "4\n"
          ]
        }
      ]
    },
    {
      "cell_type": "code",
      "source": [
        "## make a function which returns Hello Diggaj!!\n",
        "\n",
        "def fun():\n",
        "  print(\"Hello Diggaj!!\")\n",
        "\n",
        "\n",
        "\n",
        "fun()"
      ],
      "metadata": {
        "colab": {
          "base_uri": "https://localhost:8080/"
        },
        "id": "2YpVvdPGaWa9",
        "outputId": "769e721b-9b09-4bf9-a429-e6c0201fbc6e"
      },
      "execution_count": null,
      "outputs": [
        {
          "output_type": "stream",
          "name": "stdout",
          "text": [
            "Hello Diggaj!!\n"
          ]
        }
      ]
    },
    {
      "cell_type": "code",
      "source": [
        "## take input of two nos add them using a function name c_sum:-\n",
        "\n",
        "a=int(input(\"Enter the number: \"))\n",
        "b=int(input(\"Enter the number: \"))\n",
        "\n",
        "def c_sum(a,b):\n",
        "  print(a+b)\n",
        "\n",
        "c_sum(a,b)"
      ],
      "metadata": {
        "colab": {
          "base_uri": "https://localhost:8080/"
        },
        "id": "rvwE84fubq5n",
        "outputId": "3173ec91-f4cf-4459-b794-966db5268e52"
      },
      "execution_count": null,
      "outputs": [
        {
          "output_type": "stream",
          "name": "stdout",
          "text": [
            "Enter the number: 45\n",
            "Enter the number: 55\n",
            "100\n"
          ]
        }
      ]
    },
    {
      "cell_type": "code",
      "source": [
        "## Multiplication of thw two numbers by taking the input from user.\n",
        "\n",
        "c=int(input(\"Enter the number: \"))\n",
        "d=int(input(\"Enter the number: \"))\n",
        "\n",
        "def c_mul(c,d):\n",
        "  print(\"the multiplication if the number is\",c*d)\n",
        "\n",
        "c_mul(c,d)"
      ],
      "metadata": {
        "colab": {
          "base_uri": "https://localhost:8080/"
        },
        "id": "nJRw8tjOZqx8",
        "outputId": "be05699e-22e3-4418-ed8c-201453c6aecf"
      },
      "execution_count": null,
      "outputs": [
        {
          "output_type": "stream",
          "name": "stdout",
          "text": [
            "Enter the number: 25\n",
            "Enter the number: 45\n",
            "the multiplication if the number is 1125\n"
          ]
        }
      ]
    },
    {
      "cell_type": "code",
      "source": [
        "## average of 3 nos.\n",
        "\n",
        "def avg(a,b,c):\n",
        "  print((a+b+c)/3)\n",
        "\n",
        "avg(4,2,3)\n",
        "avg(1,2,3)"
      ],
      "metadata": {
        "colab": {
          "base_uri": "https://localhost:8080/"
        },
        "id": "U2_GaPyDcR1f",
        "outputId": "e3e227f9-a18f-4b25-bbd5-65f7603d480f"
      },
      "execution_count": null,
      "outputs": [
        {
          "output_type": "stream",
          "name": "stdout",
          "text": [
            "3.0\n",
            "2.0\n"
          ]
        }
      ]
    },
    {
      "cell_type": "code",
      "source": [
        "## average of two nos.\n",
        "\n",
        "def avg(a,b):\n",
        "  print((a+b)/2)\n",
        "\n",
        "avg(6,2)"
      ],
      "metadata": {
        "id": "7i0H8uIRmRms",
        "colab": {
          "base_uri": "https://localhost:8080/"
        },
        "outputId": "29e23de2-0104-4b11-c770-d2312ac4af72"
      },
      "execution_count": null,
      "outputs": [
        {
          "output_type": "stream",
          "name": "stdout",
          "text": [
            "4.0\n"
          ]
        }
      ]
    },
    {
      "cell_type": "code",
      "source": [
        "## Default Parameters:-\n",
        "\n",
        "def cal_prod(a=5,b=4):   ## in this we create the function with default parameters by assigning the values and then, while calling the function wedidn't assign the value.\n",
        "  print(a*b)\n",
        "\n",
        "\n",
        "cal_prod()        ## here we didn't assign the value and see that the function will pickup the value from the default parameters."
      ],
      "metadata": {
        "colab": {
          "base_uri": "https://localhost:8080/"
        },
        "id": "vxB-tASoaj5v",
        "outputId": "e1a4481b-33d8-4319-a4bd-2f74d6fc3862"
      },
      "execution_count": null,
      "outputs": [
        {
          "output_type": "stream",
          "name": "stdout",
          "text": [
            "20\n"
          ]
        }
      ]
    },
    {
      "cell_type": "code",
      "source": [
        "## WAF to print a length of a list:-\n",
        "\n",
        "cities=[\"delhi\",\"gurgaon\",\"noida\",\"pune\",\"mumbai\",\"chennai\"]\n",
        "states=[\"rajasthan\",\"punjab\",\"haryana\",\"UP\",\"jammu & kashmir\"]\n",
        "countries=[\"india\",\"pakisthan\",\"china\",\"australia\",\"canada\",\"america\",\"mexico\",\"fiji\",\"mauritius\"]\n",
        "\n",
        "\n",
        "def print_len(list):\n",
        "  print(len(list))\n",
        "\n",
        "\n",
        "print_len(states)\n",
        "print_len(cities)\n",
        "print_len(countries)\n"
      ],
      "metadata": {
        "colab": {
          "base_uri": "https://localhost:8080/"
        },
        "id": "rMp-ADBodseb",
        "outputId": "500d7b3f-22d6-49bb-81ba-ac637b541c15"
      },
      "execution_count": null,
      "outputs": [
        {
          "output_type": "stream",
          "name": "stdout",
          "text": [
            "5\n",
            "6\n",
            "9\n"
          ]
        }
      ]
    },
    {
      "cell_type": "code",
      "source": [
        "## WAF to print the list in a single line:-\n",
        "\n",
        "countries=[\"india\",\"pakistan\",\"china\",\"australia\",\"canada\",\"america\",\"mexico\",\"fiji\",\"mauritius\"]\n",
        "\n",
        "# print(countries[0],end=\" \")\n",
        "# print(countries[1],end=\" \")\n",
        "\n",
        "def l_single(list):\n",
        "  for i in list:\n",
        "    print(i,end=\" \")\n",
        "\n",
        "\n",
        "l_single(countries)\n",
        "\n"
      ],
      "metadata": {
        "colab": {
          "base_uri": "https://localhost:8080/"
        },
        "id": "CBO0b0zhgd4K",
        "outputId": "64da8f8f-a95a-476a-a035-0cfb67a4aec5"
      },
      "execution_count": null,
      "outputs": [
        {
          "output_type": "stream",
          "name": "stdout",
          "text": [
            "india pakistan china australia canada america mexico fiji mauritius "
          ]
        }
      ]
    },
    {
      "cell_type": "code",
      "source": [
        "## WAF to print the factorial of a number.\n",
        "\n",
        "n=5\n",
        "\n",
        "def cal_fact(n):\n",
        "  fact=1\n",
        "  for i in range(1,n+1):\n",
        "    fact=fact*i\n",
        "  print(fact)\n",
        "\n",
        "\n",
        "cal_fact(6)"
      ],
      "metadata": {
        "colab": {
          "base_uri": "https://localhost:8080/"
        },
        "id": "IiO8MzoaiLFp",
        "outputId": "80562c79-92c4-4edd-fcc8-7941ba7fbce0"
      },
      "execution_count": null,
      "outputs": [
        {
          "output_type": "stream",
          "name": "stdout",
          "text": [
            "720\n"
          ]
        }
      ]
    },
    {
      "cell_type": "code",
      "source": [
        "## WAF to convert USD to INR.\n",
        "\n",
        "def converter(usd_val):\n",
        "  inr_val=usd_val*83\n",
        "  print(usd_val,\"USD=\",inr_val,\"INR\")\n",
        "\n",
        "\n",
        "converter(29)\n",
        "converter(73)"
      ],
      "metadata": {
        "colab": {
          "base_uri": "https://localhost:8080/"
        },
        "id": "dyGjunGtoRKq",
        "outputId": "c82f9cba-71fb-452d-e9e8-b1fa7a3b4bc8"
      },
      "execution_count": null,
      "outputs": [
        {
          "output_type": "stream",
          "name": "stdout",
          "text": [
            "29 USD= 2407 INR\n",
            "73 USD= 6059 INR\n"
          ]
        }
      ]
    },
    {
      "cell_type": "code",
      "source": [
        "## Take the input n of a number and make a function which tells wheter the number n is EVEN or ODD!!\n",
        "\n",
        "n=int(input(\"Enter the number: \"))\n",
        "\n",
        "def odd_even(n):\n",
        "  if n%2==0:\n",
        "    print(f\"{n},is EVEN!!\")\n",
        "  else:\n",
        "    print(f\"{n},is ODD!!\")\n",
        "\n",
        "\n",
        "odd_even(n)\n"
      ],
      "metadata": {
        "colab": {
          "base_uri": "https://localhost:8080/"
        },
        "id": "1t7yU3OHpouu",
        "outputId": "767ae25f-341f-4c7d-c8bc-8b92201be4ef"
      },
      "execution_count": null,
      "outputs": [
        {
          "output_type": "stream",
          "name": "stdout",
          "text": [
            "Enter the number: 55\n",
            "55,is ODD!!\n"
          ]
        }
      ]
    },
    {
      "cell_type": "code",
      "source": [],
      "metadata": {
        "id": "PzaehqZOvVyc"
      },
      "execution_count": null,
      "outputs": []
    },
    {
      "cell_type": "markdown",
      "source": [
        "### **File Input/Output in Python**:-"
      ],
      "metadata": {
        "id": "Q8ulkWZs6Chm"
      }
    },
    {
      "cell_type": "code",
      "source": [
        "## create a file :-\n",
        "\n",
        "f=open(\"california_housing_train.txt\",\"r+\")\n",
        "f.write(\"Diggaj Bishnoi is a good guy, He studied in Rajasthn Technical University, Kota\")\n",
        "f.close()"
      ],
      "metadata": {
        "id": "8APzNhKjfyQD"
      },
      "execution_count": null,
      "outputs": []
    },
    {
      "cell_type": "code",
      "source": [
        "f=open(\"california_housing_train.txt\",\"r\")\n",
        "print(f.read())"
      ],
      "metadata": {
        "id": "InHC5ggpgAWF",
        "colab": {
          "base_uri": "https://localhost:8080/"
        },
        "outputId": "caf26cda-d156-49a7-f446-86096f63fcb8"
      },
      "execution_count": null,
      "outputs": [
        {
          "output_type": "stream",
          "name": "stdout",
          "text": [
            "Diggaj Bishnoi is a good guy, He studied in Rajasthn Technical University, Kota\n"
          ]
        }
      ]
    },
    {
      "cell_type": "code",
      "source": [
        "##1. Create a file \"practic.text\" using Python . Add following data  :-\n",
        "#    Hi everyone\n",
        "#    we are learning File I/O\n",
        "#    using Python.\n",
        "#    I like prograaming in Python.\n",
        "#    I am studying in Rajasthan Technical University, Kota\n",
        "\n",
        "\n",
        "with open(\"practice.txt\",\"w\") as f:\n",
        "  f.write(\"HI Everyone\\nWe are learning File I/O\\n\")\n",
        "  f.write(\"using Python.\\nI like programming in Python\\n\")\n",
        "  f.write(\"My name is Diggaj Bishnoi\\nI am form Sri Ganganagar!!\\n\")\n",
        "  f.write(\"I am studying in Rajasthan Technical University, Kota\")"
      ],
      "metadata": {
        "id": "NhwUMMtsVTbq"
      },
      "execution_count": null,
      "outputs": []
    },
    {
      "cell_type": "code",
      "source": [
        "## chek if the word is present in the file or not:-\n",
        "\n",
        "word=\"learning\"\n",
        "with open(\"practice.txt\",\"r\") as f:\n",
        "  data=f.read()\n",
        "  if(data.find(word)!=-1):\n",
        "    print(\"FOUND!!\")\n",
        "  else:\n",
        "    print(\"NOT FOUND!!\")"
      ],
      "metadata": {
        "colab": {
          "base_uri": "https://localhost:8080/"
        },
        "id": "zVIkIxNOZeTg",
        "outputId": "d47eb34e-c558-4236-8336-0d443f5556d8"
      },
      "execution_count": null,
      "outputs": [
        {
          "output_type": "stream",
          "name": "stdout",
          "text": [
            "FOUND!!\n"
          ]
        }
      ]
    },
    {
      "cell_type": "code",
      "source": [
        "## make a function to check_word is in the file or not:-\n",
        "def check_word():\n",
        "  word=\"clllearning\"\n",
        "  with open(\"practice.txt\",\"r\") as f:\n",
        "    data=f.read()\n",
        "    if(data.find(word)!=-1):\n",
        "      print(\"FOUND\")\n",
        "    else:\n",
        "      print(\"NOT FOUND!!\")\n",
        "\n",
        "\n",
        "check_word()"
      ],
      "metadata": {
        "colab": {
          "base_uri": "https://localhost:8080/"
        },
        "id": "1IPTYvUfiDZe",
        "outputId": "01f93565-3fdc-4eb5-864c-fe709c7eaa22"
      },
      "execution_count": null,
      "outputs": [
        {
          "output_type": "stream",
          "name": "stdout",
          "text": [
            "NOT FOUND!!\n"
          ]
        }
      ]
    },
    {
      "cell_type": "code",
      "source": [],
      "metadata": {
        "id": "94j9y8EriVVI"
      },
      "execution_count": null,
      "outputs": []
    },
    {
      "cell_type": "markdown",
      "source": [
        "###**Lists**:- A built in data type that stores set of values.It can store elements of different types (integer, float, string, etc.)\n",
        "\n",
        "**Lists are mutuable in python whereas string are immutable in nature.**\n"
      ],
      "metadata": {
        "id": "Wxhp-JHbjURj"
      }
    },
    {
      "cell_type": "code",
      "source": [
        "## print a list:-\n",
        "\n",
        "marks=[66.4,77,25,88,76,55,90]\n",
        "print(marks)\n",
        "\n",
        "\n",
        "print(type(marks))\n",
        "\n"
      ],
      "metadata": {
        "id": "WvIHr-mZjcWO",
        "colab": {
          "base_uri": "https://localhost:8080/"
        },
        "outputId": "bfcff15f-2d0b-4c92-9d91-f455b394f1dc"
      },
      "execution_count": null,
      "outputs": [
        {
          "output_type": "stream",
          "name": "stdout",
          "text": [
            "[66.4, 77, 25, 88, 76, 55, 90]\n",
            "<class 'list'>\n"
          ]
        },
        {
          "output_type": "execute_result",
          "data": {
            "text/plain": [
              "[66.4, 77, 25, 88]"
            ]
          },
          "metadata": {},
          "execution_count": 8
        }
      ]
    },
    {
      "cell_type": "code",
      "source": [
        "## indexing in list:-        indexing will always start from 0 to n-1 elements.\n",
        "\n",
        "marks=[66.4,77,25,88,76,55,90]\n",
        "\n",
        "print(marks[0])       ## it will return the first element.\n",
        "print(marks[4])       ## it will return the fourth element."
      ],
      "metadata": {
        "colab": {
          "base_uri": "https://localhost:8080/"
        },
        "id": "xiw3Lvf8r7e7",
        "outputId": "5182b926-bbb4-4a84-f67f-9e84aac4f1da"
      },
      "execution_count": null,
      "outputs": [
        {
          "output_type": "stream",
          "name": "stdout",
          "text": [
            "66.4\n",
            "76\n"
          ]
        }
      ]
    },
    {
      "cell_type": "code",
      "source": [
        "## different datatype in a single list:-\n",
        "\n",
        "student=[\"diggaj\",90,\"delhi\",\"chandigarh\",5.11]\n",
        "\n",
        "print(student)\n",
        "\n",
        "print(len(student))"
      ],
      "metadata": {
        "colab": {
          "base_uri": "https://localhost:8080/"
        },
        "id": "WsVuRqS7tXjZ",
        "outputId": "e131d167-ee00-4d79-e62a-393367951bfc"
      },
      "execution_count": null,
      "outputs": [
        {
          "output_type": "stream",
          "name": "stdout",
          "text": [
            "['diggaj', 90, 'delhi', 'chandigarh', 5.11]\n",
            "5\n"
          ]
        }
      ]
    },
    {
      "cell_type": "code",
      "source": [
        "## lists are mutable in nature:-\n",
        "\n",
        "student=[\"Karan\",\"Chandigarh\",\"delhi\",89]\n",
        "student[0]=\"Arjan\"                        # here the new name is added on the place of the given index.\n",
        "student[3]=96                           # here the new marks are added on the place of the given index.\n",
        "\n",
        "print(student)"
      ],
      "metadata": {
        "colab": {
          "base_uri": "https://localhost:8080/"
        },
        "id": "9KOUIzcVuFQi",
        "outputId": "a466bf05-f338-4434-a67b-3af0ddaaeb40"
      },
      "execution_count": null,
      "outputs": [
        {
          "output_type": "stream",
          "name": "stdout",
          "text": [
            "['Arjan', 'Chandigarh', 'delhi', 96]\n"
          ]
        }
      ]
    },
    {
      "cell_type": "code",
      "source": [
        "## list slicing:-\n",
        "\n",
        "marks=[60,89,55,90,43,33,98,99,22]\n",
        "\n",
        "print(marks[2:5])      ## print the second element to the fourth element.\n",
        "print(marks[1:])       ## print the first element to the las one.\n",
        "print(marks[-1])       ## -(minus) sign indicates the printing of the elements from the end.\n",
        "print(marks[-5:-3])      ## 9-5=4:9-3=6"
      ],
      "metadata": {
        "colab": {
          "base_uri": "https://localhost:8080/"
        },
        "id": "x1pbOgC8vnOc",
        "outputId": "b10d3450-f487-439e-8f76-1594a9d77387"
      },
      "execution_count": null,
      "outputs": [
        {
          "output_type": "stream",
          "name": "stdout",
          "text": [
            "[55, 90, 43]\n",
            "[89, 55, 90, 43, 33, 98, 99, 22]\n",
            "22\n",
            "[43, 33]\n"
          ]
        }
      ]
    },
    {
      "cell_type": "markdown",
      "source": [
        "### List Methodes:-\n",
        "1. append():- adds one element at the end.\n",
        "2. sort():- sorts in ascending order.\n",
        "3. sort(reverse=True):- sorts in descending order.\n",
        "4. reverse():- Reverse the list.\n",
        "5. insert(index,element):- insert element at index.\n",
        "6. remove():- removes the first occurence of element.\n",
        "7. pop(index):- removes the element via index.\n"
      ],
      "metadata": {
        "id": "WTEDj1aV9fnP"
      }
    },
    {
      "cell_type": "code",
      "source": [
        "## append():-   adds new element at the end.\n",
        "\n",
        "list=[3,5,6]\n",
        "list.append(8)     ## adds the new element at the end of the list.\n",
        "\n",
        "print(list)"
      ],
      "metadata": {
        "colab": {
          "base_uri": "https://localhost:8080/"
        },
        "id": "gb_NdH9U9VKv",
        "outputId": "3cf41e5b-222a-4d12-b421-7ed9860afb15"
      },
      "execution_count": null,
      "outputs": [
        {
          "output_type": "stream",
          "name": "stdout",
          "text": [
            "[3, 5, 6, 8]\n"
          ]
        }
      ]
    },
    {
      "cell_type": "code",
      "source": [
        "## sort():- arrange the list in the ascending order.\n",
        "\n",
        "a=[45,556,32,12,235,56,7.9,6.03,89]\n",
        "\n",
        "a.sort()              ## arrange the list in ascending order.\n",
        "print(a)\n",
        "\n",
        "\n",
        "b=[45,556,32,12,235,56,7.9,6.03,89]\n",
        "\n",
        "b.sort(reverse=True)    ## arrange the list in descending order.\n",
        "print(b)"
      ],
      "metadata": {
        "colab": {
          "base_uri": "https://localhost:8080/"
        },
        "id": "N1at_rwt-Q5Y",
        "outputId": "43f26fc8-d483-4c5e-bcbf-d0a4b3dc2d8f"
      },
      "execution_count": null,
      "outputs": [
        {
          "output_type": "stream",
          "name": "stdout",
          "text": [
            "[6.03, 7.9, 12, 32, 45, 56, 89, 235, 556]\n",
            "[556, 235, 89, 56, 45, 32, 12, 7.9, 6.03]\n"
          ]
        }
      ]
    },
    {
      "cell_type": "code",
      "source": [
        "## reverse():- reverse the list.\n",
        "\n",
        "a=[45,556,32,12,235,56,7.9,6.03,89]\n",
        "a.reverse()                            ## completely reverse the list.\n",
        "print(a)"
      ],
      "metadata": {
        "colab": {
          "base_uri": "https://localhost:8080/"
        },
        "id": "tKvB1IBe--xb",
        "outputId": "98259f4b-f458-4ca6-f4a2-17212d62b7f7"
      },
      "execution_count": null,
      "outputs": [
        {
          "output_type": "stream",
          "name": "stdout",
          "text": [
            "[89, 6.03, 7.9, 56, 235, 12, 32, 556, 45]\n"
          ]
        }
      ]
    },
    {
      "cell_type": "code",
      "source": [
        "## insert(index,element):-\n",
        "\n",
        "num=[2,78,56,45,34,4,5,1,6]\n",
        "num.insert(4,66)               ## insert 66 at the index 4th of the list.\n",
        "print(num)\n"
      ],
      "metadata": {
        "colab": {
          "base_uri": "https://localhost:8080/"
        },
        "id": "-dxJwxucAGsJ",
        "outputId": "e6b4dd50-3268-4fa1-bf4b-89dd012dd719"
      },
      "execution_count": null,
      "outputs": [
        {
          "output_type": "stream",
          "name": "stdout",
          "text": [
            "[2, 78, 56, 45, 66, 34, 4, 5, 1, 6]\n"
          ]
        }
      ]
    },
    {
      "cell_type": "code",
      "source": [
        "## remove():-\n",
        "\n",
        "marks=[2,1,4,5,1]\n",
        "\n",
        "marks.remove(1)     ## it checks the first occurence of the number given and then remove it. it will not go further after removing a particular number.\n",
        "print(marks)"
      ],
      "metadata": {
        "colab": {
          "base_uri": "https://localhost:8080/"
        },
        "id": "Fz0ppvn15jun",
        "outputId": "8f35f283-7a9c-48af-a3e8-8c3646e3e598"
      },
      "execution_count": null,
      "outputs": [
        {
          "output_type": "stream",
          "name": "stdout",
          "text": [
            "[2, 4, 5, 1]\n"
          ]
        }
      ]
    },
    {
      "cell_type": "code",
      "source": [
        "## pop(index):\n",
        "\n",
        "marks=[14,56,76,22,34]\n",
        "\n",
        "marks.pop(3)      ## removes the element via its index.\n",
        "print(marks)"
      ],
      "metadata": {
        "colab": {
          "base_uri": "https://localhost:8080/"
        },
        "id": "aDrCI6xk6L9w",
        "outputId": "2502eeb9-642b-4b3d-af59-c1b100442f08"
      },
      "execution_count": null,
      "outputs": [
        {
          "output_type": "stream",
          "name": "stdout",
          "text": [
            "[14, 56, 76, 34]\n"
          ]
        }
      ]
    },
    {
      "cell_type": "code",
      "source": [
        "# insertion of objects in lists:-\n",
        "\n",
        "marks=[34,45,55,33]\n",
        "marks[0]=77\n",
        "print(marks)"
      ],
      "metadata": {
        "colab": {
          "base_uri": "https://localhost:8080/"
        },
        "id": "Agpz_P_Y9b7n",
        "outputId": "b898d7ae-4ede-44fc-e746-f22085bc67c2"
      },
      "execution_count": null,
      "outputs": [
        {
          "output_type": "stream",
          "name": "stdout",
          "text": [
            "[77, 45, 55, 33]\n"
          ]
        }
      ]
    },
    {
      "cell_type": "code",
      "source": [
        "## example:-\n",
        "\n",
        "fruits=[\"banana\",\"litchi\",\"apple\"]\n",
        "\n",
        "\n",
        "fruits.append(\"mango\")\n",
        "print(fruits)\n",
        "\n",
        "fruits.sort()\n",
        "print(fruits)\n"
      ],
      "metadata": {
        "colab": {
          "base_uri": "https://localhost:8080/"
        },
        "id": "OkmR9rRhAi9Z",
        "outputId": "ab1998f9-d561-4b90-9eb8-ab409b774eb4"
      },
      "execution_count": null,
      "outputs": [
        {
          "output_type": "stream",
          "name": "stdout",
          "text": [
            "['banana', 'litchi', 'apple', 'mango']\n",
            "['apple', 'banana', 'litchi', 'mango']\n"
          ]
        }
      ]
    },
    {
      "cell_type": "code",
      "source": [
        "## example:-\n",
        "\n",
        "letter=[\"a\",\"d\",\"e\",\"x\",\"g\"]\n",
        "\n",
        "letter.sort()\n",
        "print(letter)\n",
        "\n",
        "letter.sort(reverse=True)\n",
        "print(letter)"
      ],
      "metadata": {
        "colab": {
          "base_uri": "https://localhost:8080/"
        },
        "id": "LRrtJOUrBA8Y",
        "outputId": "88bbe8b9-e31a-4959-eac2-4ca8eb00e166"
      },
      "execution_count": null,
      "outputs": [
        {
          "output_type": "stream",
          "name": "stdout",
          "text": [
            "['a', 'd', 'e', 'g', 'x']\n",
            "['x', 'g', 'e', 'd', 'a']\n"
          ]
        }
      ]
    },
    {
      "cell_type": "code",
      "source": [],
      "metadata": {
        "id": "1Ad2so7DxpFO"
      },
      "execution_count": null,
      "outputs": []
    },
    {
      "cell_type": "markdown",
      "source": [
        "### **Tuple**:- A built-in datatype that used to store multiple items in a single variable.\n",
        "\n",
        "**They are immutable in nature.**"
      ],
      "metadata": {
        "id": "7YtN4SXK8GTW"
      }
    },
    {
      "cell_type": "code",
      "source": [
        "## tuple creation:-\n",
        "\n",
        "tup=(2,4,5,67,77)\n",
        "\n",
        "print(tup)          ## prints the tuple\n",
        "print(tup[0])       ## print the element at index 0.\n",
        "print(tup[2])       ## print the element at index 2.\n",
        "\n",
        "print(type(tup))     ## print class."
      ],
      "metadata": {
        "colab": {
          "base_uri": "https://localhost:8080/"
        },
        "id": "iEX-7bOp80fE",
        "outputId": "1665d90d-bd97-4652-c165-bcd6e7fbe5f4"
      },
      "execution_count": null,
      "outputs": [
        {
          "output_type": "stream",
          "name": "stdout",
          "text": [
            "(2, 4, 5, 67, 77)\n",
            "2\n",
            "5\n",
            "<class 'tuple'>\n"
          ]
        }
      ]
    },
    {
      "cell_type": "code",
      "source": [
        "## tuple slicing:-\n",
        "\n",
        "tup=(1,2,3,4,6,8,10)\n",
        "print(tup[1:3])"
      ],
      "metadata": {
        "colab": {
          "base_uri": "https://localhost:8080/"
        },
        "id": "DyKLbyad8_j7",
        "outputId": "e513ad05-699d-4fff-cc88-703b73a73706"
      },
      "execution_count": null,
      "outputs": [
        {
          "output_type": "stream",
          "name": "stdout",
          "text": [
            "(2, 3)\n"
          ]
        }
      ]
    },
    {
      "cell_type": "code",
      "source": [
        "## Tuple Methods:-\n",
        "tup=(1,3,4,2,5,1,3,6,1)\n",
        "print(tup.count(1))          ## count(elment) it counts the no of times the element is occuring."
      ],
      "metadata": {
        "colab": {
          "base_uri": "https://localhost:8080/"
        },
        "id": "c_iBxA2K-nA4",
        "outputId": "cb54ab0e-1fd0-4d69-8dad-51db7ab0207e"
      },
      "execution_count": null,
      "outputs": [
        {
          "output_type": "stream",
          "name": "stdout",
          "text": [
            "3\n"
          ]
        }
      ]
    },
    {
      "cell_type": "code",
      "source": [
        "## index(element):-\n",
        "\n",
        "tup=(1,3,2,5,6,3,4,6)\n",
        "print(tup.index(6))        ## index(element) it shows the index of the the given element."
      ],
      "metadata": {
        "colab": {
          "base_uri": "https://localhost:8080/"
        },
        "id": "JNjXKOsHDoKe",
        "outputId": "3bff377c-bca1-4099-d8a0-3c9e2c141859"
      },
      "execution_count": null,
      "outputs": [
        {
          "output_type": "stream",
          "name": "stdout",
          "text": [
            "4\n"
          ]
        }
      ]
    },
    {
      "cell_type": "code",
      "source": [
        "## WAP to ask the user to enter names of their 3 favorite movies & store them in a list:-\n",
        "\n",
        "movies=[]\n",
        "\n",
        "mov1=input(\"Enter the movie: \")\n",
        "mov2=input(\"Enter the movie: \")\n",
        "mov3=input(\"Enter the movie: \")\n",
        "\n",
        "movies.append(mov1)\n",
        "movies.append(mov2)\n",
        "movies.append(mov3)\n",
        "\n",
        "print(movies)"
      ],
      "metadata": {
        "colab": {
          "base_uri": "https://localhost:8080/"
        },
        "id": "0IQx7gXjF8_4",
        "outputId": "882b6909-75b7-43a1-c37b-7bc7a74fe4c6"
      },
      "execution_count": null,
      "outputs": [
        {
          "output_type": "stream",
          "name": "stdout",
          "text": [
            "Enter the movie: Iron man\n",
            "Enter the movie: 3 idiots\n",
            "Enter the movie: god father\n",
            "['Iron man', '3 idiots', 'god father']\n"
          ]
        }
      ]
    },
    {
      "cell_type": "code",
      "source": [
        "## WAP to check if a list contains a palindrome of elements. (Hint: use copy( ) method) :- [1, 2, 3, 2, 1] [1,“abc”,“abc”, 1]\n",
        "\n",
        "list1=[\"m\",\"o\",\"m\"]\n",
        "\n",
        "copy_list1=list1.copy()\n",
        "copy_list1.reverse()\n",
        "\n",
        "if copy_list1==list1:\n",
        "  print(\"They are Palindrome!!\")\n",
        "\n",
        "else:\n",
        "  print(\"They are not Palindrome!!\")"
      ],
      "metadata": {
        "colab": {
          "base_uri": "https://localhost:8080/"
        },
        "id": "I8yKLCiDI2zB",
        "outputId": "1123a83f-9f0c-47b5-9410-96e4e02b9a9c"
      },
      "execution_count": null,
      "outputs": [
        {
          "output_type": "stream",
          "name": "stdout",
          "text": [
            "They are Palindrome!!\n"
          ]
        }
      ]
    },
    {
      "cell_type": "code",
      "source": [
        "## WAP to count the number of students with the “A” grade in the following tuple:- [”C”,“D”,“A”,“A”,“B”,“B”,“A”]\n",
        "\n",
        "grade=(\"C\",\"D\",\"A\",\"A\",\"B\",\"B\",\"A\")\n",
        "\n",
        "print(grade.count(\"A\"))"
      ],
      "metadata": {
        "colab": {
          "base_uri": "https://localhost:8080/"
        },
        "id": "S8mTl4OIKKR1",
        "outputId": "ca184736-b51c-4e83-a821-f4cfb9cd8c2d"
      },
      "execution_count": null,
      "outputs": [
        {
          "output_type": "stream",
          "name": "stdout",
          "text": [
            "3\n"
          ]
        }
      ]
    },
    {
      "cell_type": "code",
      "source": [
        "## Store the above values in a list & sort them from “A” to “D”\n",
        "\n",
        "grade=[\"C\",\"D\",\"A\",\"A\",\"B\",\"B\",\"A\"]\n",
        "\n",
        "grade.sort()\n",
        "print(grade)"
      ],
      "metadata": {
        "colab": {
          "base_uri": "https://localhost:8080/"
        },
        "id": "mX756sH7L8lk",
        "outputId": "7b07eef5-0cfe-401a-d31f-69de1cda8891"
      },
      "execution_count": null,
      "outputs": [
        {
          "output_type": "stream",
          "name": "stdout",
          "text": [
            "['A', 'A', 'A', 'B', 'B', 'C', 'D']\n"
          ]
        }
      ]
    },
    {
      "cell_type": "code",
      "source": [],
      "metadata": {
        "id": "UAEHbmX7MYWJ"
      },
      "execution_count": null,
      "outputs": []
    },
    {
      "cell_type": "markdown",
      "source": [
        "### Dictionary :- They are used to store data in key:value pair.\n",
        "they are unordered,mutable and don't allow duplicate keys.\n",
        "\n",
        "1. dict.keys():- return all the keys.\n",
        "2. dict.values():- return all the values.\n",
        "3. dict.items():- return all key value pair as tuples.\n",
        "4. dict.get[\"key\"]:- return the key according to value.\n",
        "5. dict.update(newdict):- inserts the specified items to the dictionary"
      ],
      "metadata": {
        "id": "RguTT7VSMowG"
      }
    },
    {
      "cell_type": "code",
      "source": [
        "dict={\n",
        "    \"name\":\"Diggaj\",\n",
        "    \"city\":\"Vancouver\",\n",
        "    \"country\":\"Canada\"\n",
        "}\n",
        "\n",
        "print(dict)"
      ],
      "metadata": {
        "id": "ACvmVRROMuxw",
        "colab": {
          "base_uri": "https://localhost:8080/"
        },
        "outputId": "90f42519-c9f8-42ae-b709-4be417a77cb7"
      },
      "execution_count": null,
      "outputs": [
        {
          "output_type": "stream",
          "name": "stdout",
          "text": [
            "{'name': 'Diggaj', 'city': 'Vancouver', 'country': 'Canada'}\n"
          ]
        }
      ]
    },
    {
      "cell_type": "code",
      "source": [
        "info={\n",
        "    \"name\":\"Diggaj\",\n",
        "    \"age\":21,\n",
        "    \"is_adult\":\"Yes\",\n",
        "    \"has_license\":\"Yes\",\n",
        "    \"marks\":96\n",
        "    }\n",
        "\n",
        "print(info)"
      ],
      "metadata": {
        "colab": {
          "base_uri": "https://localhost:8080/"
        },
        "id": "u-ZhC1SGvRRf",
        "outputId": "4dce5961-412d-4438-8dc4-528319450ee3"
      },
      "execution_count": null,
      "outputs": [
        {
          "output_type": "stream",
          "name": "stdout",
          "text": [
            "{'name': 'Diggaj', 'age': 21, 'is_adult': 'Yes', 'has_license': 'Yes', 'marks': 96}\n"
          ]
        }
      ]
    },
    {
      "cell_type": "code",
      "source": [
        "## Make a dictionary which includes lists,tuples,Boolean.\n",
        "\n",
        "info={\n",
        "    \"name\":\"diggaj\",\n",
        "    \"subjects\":[\"python\",\"C language\",\"Java\"],\n",
        "    \"topics\":(\"sets\",\"dict\"),\n",
        "    \"age\":\"20\",\n",
        "    \"marks\":88,\n",
        "    \"is:adult\":True,\n",
        "    12.9:76\n",
        "}\n",
        "print(info)"
      ],
      "metadata": {
        "colab": {
          "base_uri": "https://localhost:8080/"
        },
        "id": "tCEStnuWvpks",
        "outputId": "efe7e6e9-c1ba-4e9a-e998-121ce812e17e"
      },
      "execution_count": null,
      "outputs": [
        {
          "output_type": "stream",
          "name": "stdout",
          "text": [
            "{'name': 'diggaj', 'subjects': ['python', 'C language', 'Java'], 'topics': ('sets', 'dict'), 'age': '20', 'marks': 88, 'is:adult': True, 12.9: 76}\n"
          ]
        }
      ]
    },
    {
      "cell_type": "code",
      "source": [
        "print(type(info))"
      ],
      "metadata": {
        "id": "IiWJxAyUxDlu",
        "colab": {
          "base_uri": "https://localhost:8080/"
        },
        "outputId": "094c1301-a3a7-4bc0-f1f2-b0b8f49dfa4e"
      },
      "execution_count": null,
      "outputs": [
        {
          "output_type": "stream",
          "name": "stdout",
          "text": [
            "<class 'dict'>\n"
          ]
        }
      ]
    },
    {
      "cell_type": "code",
      "source": [
        " ## acess the key named:- subjects,topics,marks from the above info:\n",
        "\n",
        "print(info[\"subjects\"])\n",
        "print(info[\"topics\"])\n",
        "print(info[\"marks\"])"
      ],
      "metadata": {
        "colab": {
          "base_uri": "https://localhost:8080/"
        },
        "id": "VsdDzryR62lI",
        "outputId": "fe85dbbf-5b2b-4998-bad0-4bca6a33c682"
      },
      "execution_count": null,
      "outputs": [
        {
          "output_type": "stream",
          "name": "stdout",
          "text": [
            "['python', 'C language', 'Java']\n",
            "('sets', 'dict')\n",
            "88\n"
          ]
        }
      ]
    },
    {
      "cell_type": "code",
      "source": [
        "## dictionaries are mutable:\n",
        "\n",
        "thisdict={\n",
        "    \"brand\":\"ford\",\n",
        "    \"name\":\"Mustang\",\n",
        "    \"year\":1988,\n",
        "    \"year\":2020,\n",
        "    \"name\":\"F-150\"\n",
        "}\n",
        "\n",
        "print(thisdict)"
      ],
      "metadata": {
        "colab": {
          "base_uri": "https://localhost:8080/"
        },
        "id": "pNmeqlb68RWJ",
        "outputId": "79e83466-6c10-40d6-b69b-bbc7eadbac9e"
      },
      "execution_count": null,
      "outputs": [
        {
          "output_type": "stream",
          "name": "stdout",
          "text": [
            "{'brand': 'ford', 'name': 'F-150', 'year': 2020}\n"
          ]
        }
      ]
    },
    {
      "cell_type": "code",
      "source": [
        " ## Nested dictionaries:-  dictionary within a dictionary.\n",
        "\n",
        "student={\n",
        "    \"name\":\"Rahul\",\n",
        "    \"class\":12,\n",
        "    \"city\":\"Delhi\",\n",
        "    \"subjects\":{\n",
        "        \"physics\":88,\n",
        "        \"Maths\":90,\n",
        "        \"Chemistry\":89\n",
        "    }\n",
        "}\n",
        "\n",
        "print(student)\n",
        "print(student[\"class\"])\n",
        "print(student[\"subjects\"])\n",
        "print(student[\"subjects\"][\"Maths\"])   ## this will print the marks of maths."
      ],
      "metadata": {
        "colab": {
          "base_uri": "https://localhost:8080/"
        },
        "id": "-x4SdLnp88XL",
        "outputId": "0489e9a2-87e4-4c74-cf77-71780d293d57"
      },
      "execution_count": null,
      "outputs": [
        {
          "output_type": "stream",
          "name": "stdout",
          "text": [
            "{'name': 'Rahul', 'class': 12, 'city': 'Delhi', 'subjects': {'physics': 88, 'Maths': 90, 'Chemistry': 89}}\n",
            "12\n",
            "{'physics': 88, 'Maths': 90, 'Chemistry': 89}\n",
            "90\n"
          ]
        }
      ]
    },
    {
      "cell_type": "code",
      "source": [
        "## dict.keys():-\n",
        "\n",
        "student={\n",
        "    \"name\":\"Rahul\",\n",
        "    \"class\":12,\n",
        "    \"city\":\"Delhi\",\n",
        "    \"subjects\":{\n",
        "        \"physics\":88,\n",
        "        \"Maths\":90,\n",
        "        \"Chemistry\":89\n",
        "    }\n",
        "}\n",
        "\n",
        "print(student.keys())"
      ],
      "metadata": {
        "colab": {
          "base_uri": "https://localhost:8080/"
        },
        "id": "IRIFfTlL-70Y",
        "outputId": "39910d20-a1f1-4144-b322-20504a296292"
      },
      "execution_count": null,
      "outputs": [
        {
          "output_type": "stream",
          "name": "stdout",
          "text": [
            "dict_keys(['name', 'class', 'city', 'subjects'])\n"
          ]
        }
      ]
    },
    {
      "cell_type": "code",
      "source": [
        "## dict.values():-\n",
        "\n",
        "student={\n",
        "    \"name\":\"Rahul\",\n",
        "    \"class\":12,\n",
        "    \"city\":\"Delhi\",\n",
        "    \"subjects\":{\n",
        "        \"physics\":88,\n",
        "        \"Maths\":90,\n",
        "        \"Chemistry\":89\n",
        "    }\n",
        "}\n",
        "\n",
        "print(student.values())"
      ],
      "metadata": {
        "colab": {
          "base_uri": "https://localhost:8080/"
        },
        "id": "gQR98lMW-EqP",
        "outputId": "4dea88a0-8f43-47ea-bc18-6b4530e422fd"
      },
      "execution_count": null,
      "outputs": [
        {
          "output_type": "stream",
          "name": "stdout",
          "text": [
            "dict_values(['Rahul', 12, 'Delhi', {'physics': 88, 'Maths': 90, 'Chemistry': 89}])\n"
          ]
        }
      ]
    },
    {
      "cell_type": "code",
      "source": [
        "## dict.items()-\n",
        "\n",
        "student={\n",
        "    \"name\":\"Rahul\",\n",
        "    \"class\":12,\n",
        "    \"city\":\"Delhi\",\n",
        "    \"subjects\":{\n",
        "        \"physics\":88,\n",
        "        \"Maths\":90,\n",
        "        \"Chemistry\":89\n",
        "    }\n",
        "}\n",
        "\n",
        "print(student.items())"
      ],
      "metadata": {
        "colab": {
          "base_uri": "https://localhost:8080/"
        },
        "id": "qa3G4c_H-V9r",
        "outputId": "03960915-2d4e-4ee1-8af3-9a9c4cd18fc9"
      },
      "execution_count": null,
      "outputs": [
        {
          "output_type": "stream",
          "name": "stdout",
          "text": [
            "dict_items([('name', 'Rahul'), ('class', 12), ('city', 'Delhi'), ('subjects', {'physics': 88, 'Maths': 90, 'Chemistry': 89})])\n"
          ]
        }
      ]
    },
    {
      "cell_type": "code",
      "source": [
        "## dict.get[\"keys\"]:-\n",
        "\n",
        "student={\n",
        "    \"name\":\"Rahul\",\n",
        "    \"class\":12,\n",
        "    \"city\":\"Delhi\",\n",
        "    \"subjects\":{\n",
        "        \"physics\":88,\n",
        "        \"Maths\":90,\n",
        "        \"Chemistry\":89\n",
        "    }\n",
        "}\n",
        "\n",
        "print(student[\"name\"])\n",
        "print(student.get(\"name\"))"
      ],
      "metadata": {
        "colab": {
          "base_uri": "https://localhost:8080/"
        },
        "id": "inJsBhC9-kbX",
        "outputId": "4b783b9a-7edd-49ff-e39d-2afcf8be4209"
      },
      "execution_count": null,
      "outputs": [
        {
          "output_type": "stream",
          "name": "stdout",
          "text": [
            "Rahul\n",
            "Rahul\n"
          ]
        }
      ]
    },
    {
      "cell_type": "code",
      "source": [
        "## dict.update({\"Key\":\"Value\"})\n",
        "\n",
        "student={\n",
        "    \"name\":\"Rahul\",\n",
        "    \"class\":12,\n",
        "    \"city\":\"Delhi\",\n",
        "    \"subjects\":{\n",
        "        \"physics\":88,\n",
        "        \"Maths\":90,\n",
        "        \"Chemistry\":89\n",
        "    }\n",
        "}\n",
        "\n",
        "student.update({\"school\":\"DAV\"})\n",
        "print(student)"
      ],
      "metadata": {
        "colab": {
          "base_uri": "https://localhost:8080/"
        },
        "id": "aVRc--zHbjLC",
        "outputId": "4fa2e656-1257-46d0-ab72-cc9e16e2c730"
      },
      "execution_count": null,
      "outputs": [
        {
          "output_type": "stream",
          "name": "stdout",
          "text": [
            "{'name': 'Rahul', 'class': 12, 'city': 'Delhi', 'subjects': {'physics': 88, 'Maths': 90, 'Chemistry': 89}, 'school': 'DAV'}\n"
          ]
        }
      ]
    },
    {
      "cell_type": "code",
      "source": [
        "## Store following word meanings in a python dictionary :\n",
        "#table : “a piece of furniture”,“list of facts & figures”\n",
        "#cat : “a small animal”\n",
        "\n",
        "dictionary={\n",
        "    \"cat\":\"a small animal\",\n",
        "    \"table\":[\"a piece of furniture\",\"list of facts and figures\"]\n",
        "}\n",
        "\n",
        "print(dictionary)"
      ],
      "metadata": {
        "colab": {
          "base_uri": "https://localhost:8080/"
        },
        "id": "R5xlJ_BYAsmI",
        "outputId": "3b578a06-adde-4481-dcff-89b87cd01bff"
      },
      "execution_count": null,
      "outputs": [
        {
          "output_type": "stream",
          "name": "stdout",
          "text": [
            "{'cat': 'a small animal', 'table': ['a piece of furniture', 'list of facts and figures']}\n"
          ]
        }
      ]
    },
    {
      "cell_type": "code",
      "source": [
        "#WAP to enter marks of 3 subjects from the user and store them in a dictionary. Start with an empty dictionary & add one by one. Use subject name as key & marks as value.\n",
        "\n",
        "marks={}\n",
        "\n",
        "x=int(input(\"Enter phy marks: \"))\n",
        "marks.update({\"phy\":x})\n",
        "\n",
        "x=int(input(\"Enter the maths marks: \"))\n",
        "marks.update({\"maths\":x})\n",
        "\n",
        "x=int(input(\"Enter chem marks: \"))\n",
        "marks.update({\"chem\":x})\n",
        "\n",
        "print(marks)"
      ],
      "metadata": {
        "colab": {
          "base_uri": "https://localhost:8080/"
        },
        "id": "GoABY0gICede",
        "outputId": "37febee7-40d3-47a7-af0b-d900c4872eb8"
      },
      "execution_count": null,
      "outputs": [
        {
          "output_type": "stream",
          "name": "stdout",
          "text": [
            "Enter phy marks: 80\n",
            "Enter the maths marks: 87\n",
            "Enter chem marks: 70\n",
            "{'phy': 80, 'maths': 87, 'chem': 70}\n"
          ]
        }
      ]
    },
    {
      "cell_type": "markdown",
      "source": [
        "### Sets:- It is the collection of unordered tems.\n",
        "\n",
        "Each element in sets must be unique and immutable.\n",
        "\n",
        "duplicate items are not allowed in sets.\n",
        "\n",
        "1. set.add(el):- adds the element.\n",
        "2. set.remove(el):- removes the element.\n",
        "3. set.clear():- empties the set.\n",
        "4. set.pop():- removes the random value."
      ],
      "metadata": {
        "id": "-HiAgqlq4wY3"
      }
    },
    {
      "cell_type": "code",
      "source": [
        "collection={1,3,5,6,\"hello world\",\"hi\",\"hi\"}\n",
        "\n",
        "print(collection)\n",
        "print(type(collection))\n",
        "print(len(collection))"
      ],
      "metadata": {
        "colab": {
          "base_uri": "https://localhost:8080/"
        },
        "id": "Sb5SvX8GbqC8",
        "outputId": "a7bf9a1a-2378-48e7-9aba-60ebb4446036"
      },
      "execution_count": null,
      "outputs": [
        {
          "output_type": "stream",
          "name": "stdout",
          "text": [
            "{1, 3, 5, 'hi', 6, 'hello world'}\n",
            "<class 'set'>\n",
            "6\n"
          ]
        }
      ]
    },
    {
      "cell_type": "code",
      "source": [
        "## empty set:-\n",
        "\n",
        "collection=set()   ## empty set syntax\n",
        "\n",
        "print(type(collection))"
      ],
      "metadata": {
        "colab": {
          "base_uri": "https://localhost:8080/"
        },
        "id": "7vxdnUUy6mUg",
        "outputId": "05db227b-c130-436a-ed4f-5b598f001b7c"
      },
      "execution_count": null,
      "outputs": [
        {
          "output_type": "stream",
          "name": "stdout",
          "text": [
            "<class 'set'>\n"
          ]
        }
      ]
    },
    {
      "cell_type": "code",
      "source": [
        "## set.add(el):-\n",
        "\n",
        "collection=set()\n",
        "\n",
        "collection.add(1)\n",
        "collection.add(2)\n",
        "\n",
        "print(collection)"
      ],
      "metadata": {
        "colab": {
          "base_uri": "https://localhost:8080/"
        },
        "id": "8qfOTjTS8Fnb",
        "outputId": "b89ecdd0-036d-43b6-8647-1c085592d494"
      },
      "execution_count": null,
      "outputs": [
        {
          "output_type": "stream",
          "name": "stdout",
          "text": [
            "{1, 2}\n"
          ]
        }
      ]
    },
    {
      "cell_type": "code",
      "source": [
        "## set.remove(el)\n",
        "\n",
        "collection=set()\n",
        "\n",
        "collection.add(1)\n",
        "collection.add(4)\n",
        "collection.add(8)\n",
        "collection.remove(1)\n",
        "\n",
        "print(collection)"
      ],
      "metadata": {
        "colab": {
          "base_uri": "https://localhost:8080/"
        },
        "id": "AOfuQYLN9HSh",
        "outputId": "dab00f32-40f9-49a2-f056-582435e3f92c"
      },
      "execution_count": null,
      "outputs": [
        {
          "output_type": "stream",
          "name": "stdout",
          "text": [
            "{8, 4}\n"
          ]
        }
      ]
    },
    {
      "cell_type": "code",
      "source": [
        "## set.pop():-\n",
        "\n",
        "a={3,4,\"fruit\",\"diggaj\"}\n",
        "\n",
        "print(a.pop())"
      ],
      "metadata": {
        "colab": {
          "base_uri": "https://localhost:8080/"
        },
        "id": "nbOCt-Li9XvL",
        "outputId": "9b4101ad-1b97-40d7-b5e0-c9b787b4d430"
      },
      "execution_count": null,
      "outputs": [
        {
          "output_type": "stream",
          "name": "stdout",
          "text": [
            "fruit\n"
          ]
        }
      ]
    },
    {
      "cell_type": "code",
      "source": [
        "## set.union():-      ## combines both set values\n",
        "\n",
        "set1={1,3,4,5,6,7}\n",
        "set2={8,7,9,10}\n",
        "\n",
        "print(set1.union(set2))\n",
        "\n",
        "\n",
        "set3={\"Diggaj\",\"is\",\"a\",\"good\"}\n",
        "set4={\"good\",\"guy\"}\n",
        "\n",
        "print(set3.union(set4))"
      ],
      "metadata": {
        "colab": {
          "base_uri": "https://localhost:8080/"
        },
        "id": "GweI79iM-DBd",
        "outputId": "2fe442ba-a0a5-4928-9ce4-71e59769499d"
      },
      "execution_count": null,
      "outputs": [
        {
          "output_type": "stream",
          "name": "stdout",
          "text": [
            "{1, 3, 4, 5, 6, 7, 8, 9, 10}\n",
            "{'good', 'guy', 'Diggaj', 'is', 'a'}\n"
          ]
        }
      ]
    },
    {
      "cell_type": "code",
      "source": [
        "## set.intersection():-  ## combines the common values and return new\n",
        "\n",
        "set1={1,3,4,5,6,7}\n",
        "set2={8,7,9,10}\n",
        "\n",
        "print(set1.intersection(set2))\n",
        "\n",
        "\n",
        "set3={\"Diggaj\",\"is\",\"a\",\"good\"}\n",
        "set4={\"good\",\"guy\"}\n",
        "\n",
        "print(set3.intersection(set4))"
      ],
      "metadata": {
        "colab": {
          "base_uri": "https://localhost:8080/"
        },
        "id": "Ylb-OlM__uj0",
        "outputId": "a742ca0b-af47-440d-c9f7-b2f891465e9f"
      },
      "execution_count": null,
      "outputs": [
        {
          "output_type": "stream",
          "name": "stdout",
          "text": [
            "{7}\n",
            "{'good'}\n"
          ]
        }
      ]
    },
    {
      "cell_type": "code",
      "source": [
        "set1={\"python\",\"java\",\"C++\",\"javascript\",\"java\",\"python\",\"java\",\"C++\",\"C\"}\n",
        "\n",
        "print(len(set1))"
      ],
      "metadata": {
        "colab": {
          "base_uri": "https://localhost:8080/"
        },
        "id": "VWkh3SoNAKy9",
        "outputId": "fb743c7d-b56c-4f9c-8ed4-463ab1d999c1"
      },
      "execution_count": null,
      "outputs": [
        {
          "output_type": "stream",
          "name": "stdout",
          "text": [
            "5\n"
          ]
        }
      ]
    },
    {
      "cell_type": "code",
      "source": [],
      "metadata": {
        "id": "7KlO7-N8CDym"
      },
      "execution_count": null,
      "outputs": []
    },
    {
      "cell_type": "markdown",
      "source": [
        "### OOPS in Python:-"
      ],
      "metadata": {
        "id": "vC9_3ixLDu67"
      }
    },
    {
      "cell_type": "code",
      "source": [],
      "metadata": {
        "id": "9t38QXbkDzhO"
      },
      "execution_count": null,
      "outputs": []
    }
  ]
}