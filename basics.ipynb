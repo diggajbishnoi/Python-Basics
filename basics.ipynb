{
 "cells": [
  {
   "attachments": {},
   "cell_type": "markdown",
   "id": "ffe969a8",
   "metadata": {},
   "source": [
    "# python questions"
   ]
  },
  {
   "attachments": {},
   "cell_type": "markdown",
   "id": "a6788de4",
   "metadata": {},
   "source": [
    "# write a program to print a digit of a given no. \n"
   ]
  },
  {
   "cell_type": "code",
   "execution_count": 4,
   "id": "26659b25",
   "metadata": {},
   "outputs": [
    {
     "name": "stdout",
     "output_type": "stream",
     "text": [
      "enter the no. \n",
      "9876543210\n",
      "0\n",
      "1\n",
      "2\n",
      "3\n",
      "4\n",
      "5\n",
      "6\n",
      "7\n",
      "8\n",
      "9\n",
      "the no. of digit of a no. is=  10\n"
     ]
    }
   ],
   "source": [
    "n=int(input(\"enter the no. \\n\"))\n",
    "c=0\n",
    "while(n!=0):\n",
    "    print(n%10)\n",
    "    n=n//10\n",
    "    c=c+1\n",
    "print(\"the no. of digit of a no. is= \",c)\n",
    "\n",
    " "
   ]
  },
  {
   "attachments": {},
   "cell_type": "markdown",
   "id": "8032a094",
   "metadata": {},
   "source": [
    "##  write a program to print the sum of digit of  a given no."
   ]
  },
  {
   "cell_type": "code",
   "execution_count": 1,
   "id": "dbbe308e",
   "metadata": {},
   "outputs": [
    {
     "name": "stdout",
     "output_type": "stream",
     "text": [
      "enter the no.\n",
      "987654321\n",
      "1\n",
      "2\n",
      "3\n",
      "4\n",
      "5\n",
      "6\n",
      "7\n",
      "8\n",
      "9\n",
      "the sum of the digit of a no. is=  45\n",
      "the no. of digit of a no. is = 9\n"
     ]
    }
   ],
   "source": [
    "n=int(input(\"enter the no.\\n\"))\n",
    "s=0\n",
    "c=0\n",
    "while(n!=0):\n",
    "    a=n%10\n",
    "    print(a)\n",
    "    \n",
    "    s=s+a\n",
    "    n=n//10\n",
    "    c=c+1\n",
    "print(\"the sum of the digit of a no. is= \",s)\n",
    "print(\"the no. of digit of a no. is =\",c)\n"
   ]
  },
  {
   "attachments": {},
   "cell_type": "markdown",
   "id": "ef6fb0e0",
   "metadata": {},
   "source": [
    "# write a program to print the greatest no. with in a no.\n"
   ]
  },
  {
   "cell_type": "code",
   "execution_count": 8,
   "id": "a6f8d1db",
   "metadata": {},
   "outputs": [
    {
     "name": "stdout",
     "output_type": "stream",
     "text": [
      "enter a number \n",
      "258\n",
      "the maximum of a given no. is = 8\n"
     ]
    }
   ],
   "source": [
    "n=int(input(\"enter a number \\n\"))\n",
    "max=n%10\n",
    "while(n!=0):\n",
    "    a=n%10\n",
    "    n=n//10\n",
    "    if(max>a):\n",
    "        max=max\n",
    "    else:\n",
    "    \n",
    "        max=a\n",
    "print(\"the maximum of a given no. is =\",max)  \n"
   ]
  },
  {
   "attachments": {},
   "cell_type": "markdown",
   "id": "3ae70019",
   "metadata": {},
   "source": [
    "# wap to print the greatest and counting of greater no."
   ]
  },
  {
   "cell_type": "code",
   "execution_count": 17,
   "id": "bfa468bf",
   "metadata": {},
   "outputs": [
    {
     "name": "stdout",
     "output_type": "stream",
     "text": [
      "enter a number \n",
      "12333210\n",
      "the maximum of a given no. is= 3\n",
      "the maximum of counting is = 3\n"
     ]
    }
   ],
   "source": [
    "n=int(input(\"enter a number \\n\"))\n",
    "b=n\n",
    "max=n%10\n",
    "c=0\n",
    "while(n!=0):\n",
    "    a=n%10\n",
    "    n=n//10\n",
    "    if(max>a):\n",
    "        max=max\n",
    "    else:\n",
    "        max=a\n",
    "\n",
    "\n",
    "print(\"the maximum of a given no. is=\",max)\n",
    "n=b\n",
    "while(n!=0):\n",
    "    a=n%10\n",
    "    n=n//10\n",
    "    if(max==a):\n",
    "        c=c+1\n",
    "    else:\n",
    "        pass\n",
    "print(\"the maximum of counting is =\",c)"
   ]
  },
  {
   "attachments": {},
   "cell_type": "markdown",
   "id": "542da22b",
   "metadata": {},
   "source": [
    "# again "
   ]
  },
  {
   "cell_type": "code",
   "execution_count": 37,
   "id": "25e2d463",
   "metadata": {},
   "outputs": [
    {
     "name": "stdout",
     "output_type": "stream",
     "text": [
      "enter a number \n",
      "898989898989899999999\n",
      "the maximum of a given no. is= 9\n",
      "the maximum of the digit is = 14\n"
     ]
    }
   ],
   "source": [
    "n=int(input(\"enter a number \\n\"))\n",
    "\n",
    "max=n%10\n",
    "c=0\n",
    "while(n!=0):\n",
    "    a=n%10\n",
    "    n=n//10\n",
    "    if(max>=a):\n",
    "        max=max\n",
    "        if(max==a):\n",
    "            c=c+1\n",
    "    else:\n",
    "        max=a\n",
    "        c=1\n",
    "\n",
    "\n",
    "print(\"the maximum of a given no. is=\",max)\n",
    "print(\"the maximum of the digit is =\",c)"
   ]
  },
  {
   "attachments": {},
   "cell_type": "markdown",
   "id": "a79bfc3f",
   "metadata": {},
   "source": [
    "# wap to print 10 no. sum,avg,max,min"
   ]
  },
  {
   "cell_type": "code",
   "execution_count": 7,
   "id": "f842294e",
   "metadata": {},
   "outputs": [
    {
     "name": "stdout",
     "output_type": "stream",
     "text": [
      "enter the no9\n",
      "enter the no 9\n",
      "enter the no 8\n",
      "enter the no 7\n",
      "enter the no 6\n",
      "enter the no 5\n",
      "enter the no 4\n",
      "enter the no 3\n",
      "enter the no 2\n",
      "enter the no 0\n",
      "the sum is = 44\n",
      "the max is  9\n",
      "the avg is  4.888888888888889\n",
      "the min is  0\n"
     ]
    }
   ],
   "source": [
    "n=int(input(\"enter the no\"))\n",
    "i=0\n",
    "s=0\n",
    "c=0\n",
    "while(i<n):\n",
    "    a=int(input(\"enter the no \"))\n",
    "    if(c==0):\n",
    "        max=a\n",
    "        min=a\n",
    "    s=s+a   \n",
    "    if(max>=a):\n",
    "        max=max\n",
    "    else:\n",
    "        max=a\n",
    "    if(min<=a):\n",
    "        min=min\n",
    "    else:\n",
    "        min=a\n",
    "        \n",
    "    c=c+1\n",
    "    i=i+1\n",
    "avg=s/n    \n",
    "print(\"the sum is =\",s)\n",
    "print(\"the max is \",  max)\n",
    "print(\"the avg is \", avg)\n",
    "print(\"the min is \" , min)\n",
    "\n",
    "    \n",
    "    \n",
    "    \n",
    "\n"
   ]
  },
  {
   "attachments": {},
   "cell_type": "markdown",
   "id": "e5a2aaad",
   "metadata": {},
   "source": [
    "## wap to print the patter \n",
    " ### **1\n",
    " ### *22\n",
    " ### 333"
   ]
  },
  {
   "cell_type": "code",
   "execution_count": 28,
   "id": "8cd69f5d",
   "metadata": {},
   "outputs": [
    {
     "name": "stdout",
     "output_type": "stream",
     "text": [
      "    1 \n",
      "  2 2 \n",
      "3 3 3 \n"
     ]
    }
   ],
   "source": [
    "for outer in range(1,4):\n",
    "    for space in range(1,4-outer):\n",
    "        print(\" \",end=\" \")\n",
    "    for inner in range(1,outer +1):\n",
    "        print(outer,end=\" \")\n",
    "    print(\"\")\n"
   ]
  },
  {
   "attachments": {},
   "cell_type": "markdown",
   "id": "12a24b89",
   "metadata": {},
   "source": [
    "# wap to print the fibanoic series"
   ]
  },
  {
   "cell_type": "code",
   "execution_count": 21,
   "id": "61c33577",
   "metadata": {},
   "outputs": [
    {
     "name": "stdout",
     "output_type": "stream",
     "text": [
      "enter the no. you want to print 5\n",
      "0 1\n",
      "1\n",
      "2\n",
      "3\n",
      "5\n",
      "8\n"
     ]
    }
   ],
   "source": [
    "n=int(input(\"enter the no. you want to print \"))\n",
    "a=0\n",
    "b=1\n",
    "print(a,b)\n",
    "while(n!=0):\n",
    "    c=a+b\n",
    "    a=b\n",
    "    b=c\n",
    "    print(c)\n",
    "    n=n-1\n",
    "    "
   ]
  },
  {
   "attachments": {},
   "cell_type": "markdown",
   "id": "15aee173",
   "metadata": {},
   "source": [
    "## wap to print the \n",
    "###    1\n",
    "###  1 2 1\n",
    "### 1 2 3 2 1"
   ]
  },
  {
   "cell_type": "code",
   "execution_count": 3,
   "id": "de22e317",
   "metadata": {},
   "outputs": [
    {
     "name": "stdout",
     "output_type": "stream",
     "text": [
      "  1\n",
      " 121\n",
      "12321\n"
     ]
    }
   ],
   "source": [
    "for r in range(1,4):\n",
    "    for space in range(1,4-r):\n",
    "        print(\" \",end=\"\")\n",
    "    for c in range(1,r+1):\n",
    "        print(c,end=\"\")\n",
    "    for d in range(r-1,0,-1):\n",
    "        print(d,end=\"\")\n",
    "    print()\n",
    "       "
   ]
  },
  {
   "cell_type": "code",
   "execution_count": 10,
   "id": "718c067f",
   "metadata": {},
   "outputs": [
    {
     "name": "stdout",
     "output_type": "stream",
     "text": [
      "0 0 0 9\n",
      "0 0 1 8\n",
      "0 0 2 7\n",
      "0 0 3 6\n",
      "0 0 4 5\n",
      "0 0 5 4\n",
      "0 0 6 3\n",
      "0 0 7 2\n",
      "0 0 8 1\n",
      "0 0 9 0\n",
      "0 1 0 8\n",
      "0 1 1 7\n",
      "0 1 2 6\n",
      "0 1 3 5\n",
      "0 1 4 4\n",
      "0 1 5 3\n",
      "0 1 6 2\n",
      "0 1 7 1\n",
      "0 1 8 0\n",
      "0 2 0 7\n",
      "0 2 1 6\n",
      "0 2 2 5\n",
      "0 2 3 4\n",
      "0 2 4 3\n",
      "0 2 5 2\n",
      "0 2 6 1\n",
      "0 2 7 0\n",
      "0 3 0 6\n",
      "0 3 1 5\n",
      "0 3 2 4\n",
      "0 3 3 3\n",
      "0 3 4 2\n",
      "0 3 5 1\n",
      "0 3 6 0\n",
      "0 4 0 5\n",
      "0 4 1 4\n",
      "0 4 2 3\n",
      "0 4 3 2\n",
      "0 4 4 1\n",
      "0 4 5 0\n",
      "0 5 0 4\n",
      "0 5 1 3\n",
      "0 5 2 2\n",
      "0 5 3 1\n",
      "0 5 4 0\n",
      "0 6 0 3\n",
      "0 6 1 2\n",
      "0 6 2 1\n",
      "0 6 3 0\n",
      "0 7 0 2\n",
      "0 7 1 1\n",
      "0 7 2 0\n",
      "0 8 0 1\n",
      "0 8 1 0\n",
      "0 9 0 0\n",
      "1 0 0 8\n",
      "1 0 1 7\n",
      "1 0 2 6\n",
      "1 0 3 5\n",
      "1 0 4 4\n",
      "1 0 5 3\n",
      "1 0 6 2\n",
      "1 0 7 1\n",
      "1 0 8 0\n",
      "1 1 0 7\n",
      "1 1 1 6\n",
      "1 1 2 5\n",
      "1 1 3 4\n",
      "1 1 4 3\n",
      "1 1 5 2\n",
      "1 1 6 1\n",
      "1 1 7 0\n",
      "1 2 0 6\n",
      "1 2 1 5\n",
      "1 2 2 4\n",
      "1 2 3 3\n",
      "1 2 4 2\n",
      "1 2 5 1\n",
      "1 2 6 0\n",
      "1 3 0 5\n",
      "1 3 1 4\n",
      "1 3 2 3\n",
      "1 3 3 2\n",
      "1 3 4 1\n",
      "1 3 5 0\n",
      "1 4 0 4\n",
      "1 4 1 3\n",
      "1 4 2 2\n",
      "1 4 3 1\n",
      "1 4 4 0\n",
      "1 5 0 3\n",
      "1 5 1 2\n",
      "1 5 2 1\n",
      "1 5 3 0\n",
      "1 6 0 2\n",
      "1 6 1 1\n",
      "1 6 2 0\n",
      "1 7 0 1\n",
      "1 7 1 0\n",
      "1 8 0 0\n",
      "2 0 0 7\n",
      "2 0 1 6\n",
      "2 0 2 5\n",
      "2 0 3 4\n",
      "2 0 4 3\n",
      "2 0 5 2\n",
      "2 0 6 1\n",
      "2 0 7 0\n",
      "2 1 0 6\n",
      "2 1 1 5\n",
      "2 1 2 4\n",
      "2 1 3 3\n",
      "2 1 4 2\n",
      "2 1 5 1\n",
      "2 1 6 0\n",
      "2 2 0 5\n",
      "2 2 1 4\n",
      "2 2 2 3\n",
      "2 2 3 2\n",
      "2 2 4 1\n",
      "2 2 5 0\n",
      "2 3 0 4\n",
      "2 3 1 3\n",
      "2 3 2 2\n",
      "2 3 3 1\n",
      "2 3 4 0\n",
      "2 4 0 3\n",
      "2 4 1 2\n",
      "2 4 2 1\n",
      "2 4 3 0\n",
      "2 5 0 2\n",
      "2 5 1 1\n",
      "2 5 2 0\n",
      "2 6 0 1\n",
      "2 6 1 0\n",
      "2 7 0 0\n",
      "3 0 0 6\n",
      "3 0 1 5\n",
      "3 0 2 4\n",
      "3 0 3 3\n",
      "3 0 4 2\n",
      "3 0 5 1\n",
      "3 0 6 0\n",
      "3 1 0 5\n",
      "3 1 1 4\n",
      "3 1 2 3\n",
      "3 1 3 2\n",
      "3 1 4 1\n",
      "3 1 5 0\n",
      "3 2 0 4\n",
      "3 2 1 3\n",
      "3 2 2 2\n",
      "3 2 3 1\n",
      "3 2 4 0\n",
      "3 3 0 3\n",
      "3 3 1 2\n",
      "3 3 2 1\n",
      "3 3 3 0\n",
      "3 4 0 2\n",
      "3 4 1 1\n",
      "3 4 2 0\n",
      "3 5 0 1\n",
      "3 5 1 0\n",
      "3 6 0 0\n",
      "4 0 0 5\n",
      "4 0 1 4\n",
      "4 0 2 3\n",
      "4 0 3 2\n",
      "4 0 4 1\n",
      "4 0 5 0\n",
      "4 1 0 4\n",
      "4 1 1 3\n",
      "4 1 2 2\n",
      "4 1 3 1\n",
      "4 1 4 0\n",
      "4 2 0 3\n",
      "4 2 1 2\n",
      "4 2 2 1\n",
      "4 2 3 0\n",
      "4 3 0 2\n",
      "4 3 1 1\n",
      "4 3 2 0\n",
      "4 4 0 1\n",
      "4 4 1 0\n",
      "4 5 0 0\n",
      "5 0 0 4\n",
      "5 0 1 3\n",
      "5 0 2 2\n",
      "5 0 3 1\n",
      "5 0 4 0\n",
      "5 1 0 3\n",
      "5 1 1 2\n",
      "5 1 2 1\n",
      "5 1 3 0\n",
      "5 2 0 2\n",
      "5 2 1 1\n",
      "5 2 2 0\n",
      "5 3 0 1\n",
      "5 3 1 0\n",
      "5 4 0 0\n",
      "6 0 0 3\n",
      "6 0 1 2\n",
      "6 0 2 1\n",
      "6 0 3 0\n",
      "6 1 0 2\n",
      "6 1 1 1\n",
      "6 1 2 0\n",
      "6 2 0 1\n",
      "6 2 1 0\n",
      "6 3 0 0\n",
      "7 0 0 2\n",
      "7 0 1 1\n",
      "7 0 2 0\n",
      "7 1 0 1\n",
      "7 1 1 0\n",
      "7 2 0 0\n",
      "8 0 0 1\n",
      "8 0 1 0\n",
      "8 1 0 0\n",
      "9 0 0 0\n",
      "220\n"
     ]
    }
   ],
   "source": [
    "m=0\n",
    "for r in range(0,10):\n",
    "    for c in range(0,10):\n",
    "        for l in range(0,10):\n",
    "            for k in range(0,10):\n",
    "                s=r+c+l+k\n",
    "                if(s==9):\n",
    "                    m=m+1\n",
    "                    print(r,c,l,k)\n",
    "                    \n",
    "print(m)                   \n",
    "                    "
   ]
  },
  {
   "attachments": {},
   "cell_type": "markdown",
   "id": "fb1e6d9b",
   "metadata": {},
   "source": [
    "### wap ato find those numbers which are divisible by 7 and multiples of 5, between 1500 and 2700"
   ]
  },
  {
   "cell_type": "code",
   "execution_count": 3,
   "id": "3dc275d0",
   "metadata": {},
   "outputs": [
    {
     "name": "stdout",
     "output_type": "stream",
     "text": [
      "1505\n",
      "1512\n",
      "1519\n",
      "1526\n",
      "1533\n",
      "1540\n",
      "1547\n",
      "1554\n",
      "1561\n",
      "1568\n",
      "1575\n",
      "1582\n",
      "1589\n",
      "1596\n",
      "1603\n",
      "1610\n",
      "1617\n",
      "1624\n",
      "1631\n",
      "1638\n",
      "1645\n",
      "1652\n",
      "1659\n",
      "1666\n",
      "1673\n",
      "1680\n",
      "1687\n",
      "1694\n",
      "1701\n",
      "1708\n",
      "1715\n",
      "1722\n",
      "1729\n",
      "1736\n",
      "1743\n",
      "1750\n",
      "1757\n",
      "1764\n",
      "1771\n",
      "1778\n",
      "1785\n",
      "1792\n",
      "1799\n",
      "1806\n",
      "1813\n",
      "1820\n",
      "1827\n",
      "1834\n",
      "1841\n",
      "1848\n",
      "1855\n",
      "1862\n",
      "1869\n",
      "1876\n",
      "1883\n",
      "1890\n",
      "1897\n",
      "1904\n",
      "1911\n",
      "1918\n",
      "1925\n",
      "1932\n",
      "1939\n",
      "1946\n",
      "1953\n",
      "1960\n",
      "1967\n",
      "1974\n",
      "1981\n",
      "1988\n",
      "1995\n",
      "2002\n",
      "2009\n",
      "2016\n",
      "2023\n",
      "2030\n",
      "2037\n",
      "2044\n",
      "2051\n",
      "2058\n",
      "2065\n",
      "2072\n",
      "2079\n",
      "2086\n",
      "2093\n",
      "2100\n",
      "2107\n",
      "2114\n",
      "2121\n",
      "2128\n",
      "2135\n",
      "2142\n",
      "2149\n",
      "2156\n",
      "2163\n",
      "2170\n",
      "2177\n",
      "2184\n",
      "2191\n",
      "2198\n",
      "2205\n",
      "2212\n",
      "2219\n",
      "2226\n",
      "2233\n",
      "2240\n",
      "2247\n",
      "2254\n",
      "2261\n",
      "2268\n",
      "2275\n",
      "2282\n",
      "2289\n",
      "2296\n",
      "2303\n",
      "2310\n",
      "2317\n",
      "2324\n",
      "2331\n",
      "2338\n",
      "2345\n",
      "2352\n",
      "2359\n",
      "2366\n",
      "2373\n",
      "2380\n",
      "2387\n",
      "2394\n",
      "2401\n",
      "2408\n",
      "2415\n",
      "2422\n",
      "2429\n",
      "2436\n",
      "2443\n",
      "2450\n",
      "2457\n",
      "2464\n",
      "2471\n",
      "2478\n",
      "2485\n",
      "2492\n",
      "2499\n",
      "2506\n",
      "2513\n",
      "2520\n",
      "2527\n",
      "2534\n",
      "2541\n",
      "2548\n",
      "2555\n",
      "2562\n",
      "2569\n",
      "2576\n",
      "2583\n",
      "2590\n",
      "2597\n",
      "2604\n",
      "2611\n",
      "2618\n",
      "2625\n",
      "2632\n",
      "2639\n",
      "2646\n",
      "2653\n",
      "2660\n",
      "2667\n",
      "2674\n",
      "2681\n",
      "2688\n",
      "2695\n"
     ]
    }
   ],
   "source": [
    "for i in range(1500,2701):\n",
    "    if(i%7==0&i%5==0):\n",
    "        print(i)"
   ]
  },
  {
   "attachments": {},
   "cell_type": "markdown",
   "id": "3d45916f",
   "metadata": {},
   "source": [
    "### wap a program to convert temp from or to c to f of f to c"
   ]
  },
  {
   "cell_type": "code",
   "execution_count": 11,
   "id": "5eb8cf64",
   "metadata": {},
   "outputs": [
    {
     "name": "stdout",
     "output_type": "stream",
     "text": [
      "enter the temprature45\n",
      "enter the temprature in which statef\n",
      "7.222222222222222\n"
     ]
    }
   ],
   "source": [
    "n=int(input(\"enter the temprature\"))\n",
    "n1=input(\"enter the temprature in which state\")\n",
    "if(n1==\"c\"):\n",
    "    f=9*((n/5))+(32)\n",
    "    print(f)\n",
    "if(n1==\"f\"):\n",
    "    c=(n-32)*(5/9)\n",
    "    print(c)"
   ]
  },
  {
   "attachments": {},
   "cell_type": "markdown",
   "id": "07b172d7",
   "metadata": {},
   "source": [
    "### wap to guess a no. from  user"
   ]
  },
  {
   "cell_type": "code",
   "execution_count": 14,
   "id": "cdc73b25",
   "metadata": {},
   "outputs": [
    {
     "name": "stdout",
     "output_type": "stream",
     "text": [
      "enter the no. of guess5\n",
      "enter the no. from user6\n",
      "again entr the no. from user9\n",
      "again entr the no. from user7\n",
      "again entr the no. from user4\n",
      "again entr the no. from user5\n",
      "this attempts user guess the no. 5\n"
     ]
    }
   ],
   "source": [
    "n=int(input(\"enter the no. of guess\"))\n",
    "n1=int(input(\"enter the no. from user\"))\n",
    "c=1\n",
    "while(n1!=n):\n",
    "    c=c+1\n",
    "    n1=int(input(\"again entr the no. from user\"))\n",
    "print(\"this attempts user guess the no.\",c)    "
   ]
  },
  {
   "cell_type": "code",
   "execution_count": 16,
   "id": "9b0ee95d",
   "metadata": {},
   "outputs": [
    {
     "name": "stdout",
     "output_type": "stream",
     "text": [
      "enter the no. of guess80\n",
      "entr the no. from user70\n",
      "enter the greater no.\n",
      "enter the no. from user75\n",
      "enter the greater no.\n",
      "enter the no. from user79\n",
      "enter the greater no.\n",
      "enter the no. from user92\n",
      "enter the lower no.\n",
      "enter the no. from user90\n",
      "enter the lower no.\n",
      "enter the no. from user80\n",
      "this attempts user guess the no. 6\n"
     ]
    }
   ],
   "source": [
    "n=int(input(\"enter the no. of guess\"))\n",
    "n1=int(input(\"entr the no. from user\"))\n",
    "c=1\n",
    "while(n1!=n):\n",
    "    c=c+1\n",
    "    if(n1>n):\n",
    "        print(\"enter the lower no.\")\n",
    "    if(n1<n):\n",
    "        print(\"enter the greater no.\")\n",
    "    n1=int(input(\"enter the no. from user\"))\n",
    "print(\"this attempts user guess the no.\",c)    "
   ]
  },
  {
   "attachments": {},
   "cell_type": "markdown",
   "id": "3959d6d6",
   "metadata": {},
   "source": [
    "### wap to print the pattern of stars"
   ]
  },
  {
   "cell_type": "code",
   "execution_count": 15,
   "id": "e7532a7a",
   "metadata": {},
   "outputs": [
    {
     "name": "stdout",
     "output_type": "stream",
     "text": [
      "enter the maximum no. of stars8\n",
      "*  \n",
      "* *  \n",
      "* * *  \n",
      "* * * *  \n",
      "* * * * *  \n",
      "* * * * * *  \n",
      "* * * * * * *  \n",
      "* * * * * * * *  \n",
      "* * * * * * *  \n",
      "* * * * * *  \n",
      "* * * * *  \n",
      "* * * *  \n",
      "* * *  \n",
      "* *  \n",
      "*  \n",
      " \n"
     ]
    }
   ],
   "source": [
    "n=int(input(\"enter the maximum no. of stars\"))\n",
    "for r in range(1,n+1):\n",
    "    for c in range(1,r+1):\n",
    "        print(\"*\",end=\" \")\n",
    "    print(\" \")    \n",
    "for r in range(1,n+1):       \n",
    "    for c in range(1,(n+1)-(r)):\n",
    "        print(\"*\",end=\" \")\n",
    "    print(\" \")        "
   ]
  },
  {
   "attachments": {},
   "cell_type": "markdown",
   "id": "1fa5d492",
   "metadata": {},
   "source": [
    "### wap a program to receive a word from the user and reverse it"
   ]
  },
  {
   "cell_type": "code",
   "execution_count": null,
   "id": "c30f831e",
   "metadata": {},
   "outputs": [],
   "source": [
    "l1=input(\"enter the word from the user\")\n",
    "for i in range(0,len(l1)):\n",
    "    for r in range(len(l1)-1,-1,-1):\n",
    "        r[i]=l1[r]    "
   ]
  },
  {
   "attachments": {},
   "cell_type": "markdown",
   "id": "e5839791",
   "metadata": {},
   "source": [
    "### wap a program to count the no. of even or odd no."
   ]
  },
  {
   "cell_type": "code",
   "execution_count": 10,
   "id": "6c815330",
   "metadata": {},
   "outputs": [
    {
     "name": "stdout",
     "output_type": "stream",
     "text": [
      "the no. of even no. are  4\n",
      "the no. of odd no. are  5\n"
     ]
    }
   ],
   "source": [
    "c=0\n",
    "s=0\n",
    "for i in range(1,10):\n",
    "    if(i%2==0):\n",
    "        c=c+1\n",
    "    else:\n",
    "        s=s+1\n",
    "print(\"the no. of even no. are \",c)\n",
    "print(\"the no. of odd no. are \",s)"
   ]
  },
  {
   "attachments": {},
   "cell_type": "markdown",
   "id": "80de8014",
   "metadata": {},
   "source": [
    "### wap to print all the list elements one by one"
   ]
  },
  {
   "cell_type": "code",
   "execution_count": 11,
   "id": "e204c293",
   "metadata": {},
   "outputs": [
    {
     "name": "stdout",
     "output_type": "stream",
     "text": [
      "1452 <class 'int'>\n",
      "11.23 <class 'float'>\n",
      "(1+2j) <class 'complex'>\n",
      "True <class 'bool'>\n",
      "w3resourse <class 'str'>\n",
      "(0, -1) <class 'tuple'>\n",
      "[5, 12] <class 'list'>\n",
      "{'class': 'v', 'section': 'a'} <class 'dict'>\n"
     ]
    }
   ],
   "source": [
    "datalist=[1452,11.23,1+2j,True,'w3resourse',(0,-1),[5,12],{\"class\":\"v\",\"section\":'a'}]\n",
    "for i in range(0,len(datalist)):\n",
    "    print(datalist[i],type(datalist[i]))"
   ]
  },
  {
   "attachments": {},
   "cell_type": "markdown",
   "id": "3e5ec367",
   "metadata": {},
   "source": [
    "### wap to print all the no. from 0 to 6 except 3 and 6 with countinue"
   ]
  },
  {
   "cell_type": "code",
   "execution_count": 19,
   "id": "d3e7ff91",
   "metadata": {},
   "outputs": [
    {
     "name": "stdout",
     "output_type": "stream",
     "text": [
      "0\n",
      "1\n",
      "2\n",
      "4\n",
      "5\n"
     ]
    }
   ],
   "source": [
    "for i in range(0,7):\n",
    "    if(i==3 or i==6):\n",
    "        continue\n",
    "    print(i)        "
   ]
  },
  {
   "attachments": {},
   "cell_type": "markdown",
   "id": "7c37c530",
   "metadata": {},
   "source": [
    "### wap a program to print the fibbonaci series between 0 and 50"
   ]
  },
  {
   "cell_type": "code",
   "execution_count": 23,
   "id": "b9151002",
   "metadata": {},
   "outputs": [
    {
     "name": "stdout",
     "output_type": "stream",
     "text": [
      "0\n",
      "1\n",
      "1\n",
      "2\n",
      "3\n",
      "5\n",
      "8\n",
      "13\n",
      "21\n",
      "34\n"
     ]
    }
   ],
   "source": [
    "a=0\n",
    "b=1\n",
    "print(a)\n",
    "print(b)\n",
    "for  i in range(1,50):\n",
    "    c=a+b\n",
    "    a=b\n",
    "    b=c\n",
    "    if(c<50):\n",
    "        print(c)"
   ]
  },
  {
   "attachments": {},
   "cell_type": "markdown",
   "id": "4d0ef685",
   "metadata": {},
   "source": [
    "### wap to print fibbonacci series bw 0 upto 50"
   ]
  },
  {
   "cell_type": "code",
   "execution_count": 24,
   "id": "cc75fd9e",
   "metadata": {},
   "outputs": [
    {
     "name": "stdout",
     "output_type": "stream",
     "text": [
      "0\n",
      "1\n",
      "1\n",
      "2\n",
      "3\n",
      "5\n",
      "8\n",
      "13\n",
      "21\n",
      "34\n",
      "55\n",
      "89\n",
      "144\n",
      "233\n",
      "377\n",
      "610\n",
      "987\n",
      "1597\n",
      "2584\n",
      "4181\n",
      "6765\n",
      "10946\n",
      "17711\n",
      "28657\n",
      "46368\n",
      "75025\n",
      "121393\n",
      "196418\n",
      "317811\n",
      "514229\n",
      "832040\n",
      "1346269\n",
      "2178309\n",
      "3524578\n",
      "5702887\n",
      "9227465\n",
      "14930352\n",
      "24157817\n",
      "39088169\n",
      "63245986\n",
      "102334155\n",
      "165580141\n",
      "267914296\n",
      "433494437\n",
      "701408733\n",
      "1134903170\n",
      "1836311903\n",
      "2971215073\n",
      "4807526976\n",
      "7778742049\n",
      "12586269025\n"
     ]
    }
   ],
   "source": [
    "a=0\n",
    "b=1\n",
    "print(a)\n",
    "print(b)\n",
    "for  i in range(1,50):\n",
    "    c=a+b\n",
    "    a=b\n",
    "    b=c\n",
    "    print(c)"
   ]
  },
  {
   "attachments": {},
   "cell_type": "markdown",
   "id": "50a149f7",
   "metadata": {},
   "source": [
    "### wap to print the 0 to 50 mulitples of three print \"fizz\"and five muliples \" buzz\" and five or three print\"fizzbuzz\""
   ]
  },
  {
   "cell_type": "code",
   "execution_count": 42,
   "id": "f06c5278",
   "metadata": {},
   "outputs": [
    {
     "name": "stdout",
     "output_type": "stream",
     "text": [
      "fizzbuzz\n",
      "1\n",
      "2\n",
      "fizz\n",
      "4\n",
      "buzz\n",
      "fizz\n",
      "7\n",
      "8\n",
      "fizz\n",
      "buzz\n",
      "11\n",
      "fizz\n",
      "13\n",
      "14\n",
      "fizzbuzz\n",
      "16\n",
      "17\n",
      "fizz\n",
      "19\n",
      "buzz\n",
      "fizz\n",
      "22\n",
      "23\n",
      "fizz\n",
      "buzz\n",
      "26\n",
      "fizz\n",
      "28\n",
      "29\n",
      "fizzbuzz\n",
      "31\n",
      "32\n",
      "fizz\n",
      "34\n",
      "buzz\n",
      "fizz\n",
      "37\n",
      "38\n",
      "fizz\n",
      "buzz\n",
      "41\n",
      "fizz\n",
      "43\n",
      "44\n",
      "fizzbuzz\n",
      "46\n",
      "47\n",
      "fizz\n",
      "49\n",
      "buzz\n"
     ]
    }
   ],
   "source": [
    "for i in range(0,51):\n",
    "    if(i%3==0 and i%5==0):\n",
    "        print(\"fizzbuzz\")\n",
    "    elif(i%3==0):\n",
    "        print(\"fizz\")\n",
    "    elif(i%5==0):\n",
    "        print(\"buzz\")\n",
    "    else:   \n",
    "        print(i)    "
   ]
  },
  {
   "attachments": {},
   "cell_type": "markdown",
   "id": "79f75785",
   "metadata": {},
   "source": [
    "### swaping the first and last element of the list"
   ]
  },
  {
   "cell_type": "code",
   "execution_count": 1,
   "id": "10a54231",
   "metadata": {},
   "outputs": [
    {
     "name": "stdout",
     "output_type": "stream",
     "text": [
      "[5, 2, 3, 4, 1]\n"
     ]
    }
   ],
   "source": [
    "l1=[1,2,3,4,5]\n",
    "temp=l1[0]\n",
    "l1[0]=l1[4]\n",
    "l1[4]=temp\n",
    "print(l1)"
   ]
  },
  {
   "attachments": {},
   "cell_type": "markdown",
   "id": "4d65db38",
   "metadata": {},
   "source": [
    "### python program to swap any two no. in the list"
   ]
  },
  {
   "cell_type": "code",
   "execution_count": 7,
   "id": "b96cebba",
   "metadata": {},
   "outputs": [
    {
     "name": "stdout",
     "output_type": "stream",
     "text": [
      "enter the no. you want to swap1\n",
      "enter the second no. you want to swap9\n",
      "[9, 2, 3, 4, 5, 6, 7, 8, 1]\n"
     ]
    }
   ],
   "source": [
    "l1=[1,2,3,4,5,6,7,8,9]\n",
    "a=int(input(\"enter the no. you want to swap\"))\n",
    "b=int(input(\"enter the second no. you want to swap\"))\n",
    "for i in range(0,9):\n",
    "    if(a==l1[i]):\n",
    "        a=i\n",
    "    if(b==l1[i]):\n",
    "        b=i\n",
    "temp=l1[a]\n",
    "l1[a]=l1[b]\n",
    "l1[b]=temp\n",
    "print(l1)"
   ]
  },
  {
   "attachments": {},
   "cell_type": "markdown",
   "id": "b3c92281",
   "metadata": {},
   "source": [
    "### swap elements in string list"
   ]
  },
  {
   "cell_type": "code",
   "execution_count": 9,
   "id": "b58a0141",
   "metadata": {},
   "outputs": [
    {
     "name": "stdout",
     "output_type": "stream",
     "text": [
      "enter the string you want to swapreshav\n",
      "enter the second string you want to swapgoyal\n",
      "['a', 'b', 'c', 'd', 'e', 'f', 'g', 'goyal', 'reshav']\n"
     ]
    }
   ],
   "source": [
    "l1=['a','b','c','d','e','f','g','reshav','goyal']\n",
    "a=input(\"enter the string you want to swap\")\n",
    "b=input(\"enter the second string you want to swap\")\n",
    "for i in range(0,len(l1)):\n",
    "    if(a==l1[i]):\n",
    "        a=i\n",
    "    if(b==l1[i]):\n",
    "        b=i\n",
    "temp=l1[a]\n",
    "l1[a]=l1[b]\n",
    "l1[b]=temp\n",
    "print(l1)"
   ]
  },
  {
   "attachments": {},
   "cell_type": "markdown",
   "id": "d739a25f",
   "metadata": {},
   "source": [
    "###  wap to find the length of the string"
   ]
  },
  {
   "cell_type": "code",
   "execution_count": 11,
   "id": "0397c016",
   "metadata": {},
   "outputs": [
    {
     "name": "stdout",
     "output_type": "stream",
     "text": [
      "9\n"
     ]
    }
   ],
   "source": [
    "l1=['a','b','c','d','e','f','g','reshav','goyal']\n",
    "c=0\n",
    "for i in l1:\n",
    "    c=c+1\n",
    "print(c)    "
   ]
  },
  {
   "attachments": {},
   "cell_type": "markdown",
   "id": "969a549a",
   "metadata": {},
   "source": [
    "### wap to print the maximum of two no. bw the python"
   ]
  },
  {
   "cell_type": "code",
   "execution_count": 13,
   "id": "04002d89",
   "metadata": {},
   "outputs": [
    {
     "name": "stdout",
     "output_type": "stream",
     "text": [
      "enter the first no.5\n",
      "entr the second n.6\n",
      "the b is greater\n",
      "the a is lesser\n"
     ]
    }
   ],
   "source": [
    "a=int(input(\"enter the first no.\"))\n",
    "b=int(input(\"entr the second n.\"))\n",
    "if(a>b):\n",
    "    print(\"the a is greater\")\n",
    "    print(\"the b is lesser\")\n",
    "else:\n",
    "    print(\"the b is greater\")\n",
    "    print(\"the a is lesser\")"
   ]
  },
  {
   "attachments": {},
   "cell_type": "markdown",
   "id": "43367139",
   "metadata": {},
   "source": [
    "### wap to check element is exist or not in list"
   ]
  },
  {
   "cell_type": "code",
   "execution_count": 4,
   "id": "91751c3b",
   "metadata": {},
   "outputs": [
    {
     "name": "stdout",
     "output_type": "stream",
     "text": [
      "enter the no.of times you want to check the no. is present or not1\n",
      "enter the element you want to checkd\n",
      "the element a is present at d 3\n"
     ]
    }
   ],
   "source": [
    "l1=['a','b','c','d','e','f','g','reshav','goyal']\n",
    "n=int(input(\"enter the no.of times you want to check the no. is present or not\"))\n",
    "for i in range(0,n):\n",
    "    a=input(\"enter the element you want to check\")\n",
    "    for i in range(0,len(l1)):\n",
    "        if(a==l1[i]):\n",
    "            k=i\n",
    "    print(\"the element a is present at\",a,k)       "
   ]
  },
  {
   "attachments": {},
   "cell_type": "markdown",
   "id": "f1d70025",
   "metadata": {},
   "source": [
    "### wap to clear a list"
   ]
  },
  {
   "cell_type": "code",
   "execution_count": 6,
   "id": "5636b63e",
   "metadata": {},
   "outputs": [
    {
     "name": "stdout",
     "output_type": "stream",
     "text": [
      "[0, 0, 0, 0, 0, 0, 0, 0, 0]\n"
     ]
    }
   ],
   "source": [
    "l1=['a','b','c','d','e','f','g','reshav','goyal']\n",
    "for i in range(0,len(l1)):\n",
    "    l1[i]=0\n",
    "print(l1)    "
   ]
  },
  {
   "attachments": {},
   "cell_type": "markdown",
   "id": "7acb3cf1",
   "metadata": {},
   "source": [
    "### clear a list using del remove or pop"
   ]
  },
  {
   "cell_type": "code",
   "execution_count": 38,
   "id": "a5548e5e",
   "metadata": {},
   "outputs": [
    {
     "name": "stdout",
     "output_type": "stream",
     "text": [
      "[]\n",
      "[]\n"
     ]
    }
   ],
   "source": [
    "l1=['a','b','c','d','e','f','g','reshav','goyal']\n",
    "for i in range(0,len(l1)):\n",
    "    l1.pop()\n",
    "print(l1)\n",
    "l2=['a','b','c','d','e','f','g','reshav','goyal']\n",
    "for i in range(0,len(l2)):\n",
    "    i=0\n",
    "    l2.remove(l2[i])\n",
    "print(l2)    "
   ]
  },
  {
   "attachments": {},
   "cell_type": "markdown",
   "id": "5d63e5bd",
   "metadata": {},
   "source": [
    "# numpy array starting"
   ]
  },
  {
   "attachments": {},
   "cell_type": "markdown",
   "id": "d7888242",
   "metadata": {},
   "source": [
    "# syntax"
   ]
  },
  {
   "cell_type": "code",
   "execution_count": 3,
   "id": "abd85c93",
   "metadata": {},
   "outputs": [
    {
     "name": "stdout",
     "output_type": "stream",
     "text": [
      "[1 2 3 4]\n",
      "[[1 2 3 4]\n",
      " [5 6 7 8]]\n"
     ]
    },
    {
     "data": {
      "text/plain": [
       "array([[1, 2, 3, 4],\n",
       "       [5, 6, 7, 8]])"
      ]
     },
     "execution_count": 3,
     "metadata": {},
     "output_type": "execute_result"
    }
   ],
   "source": [
    "# 1d array\n",
    "import numpy as np\n",
    "a=np.array([1,2,3,4])\n",
    "print(a)# just only give the list of 1,2,3,4\n",
    "a # this part give the list with written array\n",
    "\n",
    "# 2d array\n",
    "b=np.array([[1,2,3,4],[5,6,7,8]])\n",
    "print(b)\n",
    "b\n",
    "\n",
    "# here in this we just creating a numpy array \n"
   ]
  },
  {
   "attachments": {},
   "cell_type": "markdown",
   "id": "4f7f4283",
   "metadata": {},
   "source": [
    "### methods that use in numpy"
   ]
  },
  {
   "cell_type": "code",
   "execution_count": 9,
   "id": "27f65df3",
   "metadata": {},
   "outputs": [
    {
     "name": "stdout",
     "output_type": "stream",
     "text": [
      "shape (2, 4)\n",
      "size 8\n",
      "dim 2\n",
      "type int32\n",
      "8\n"
     ]
    }
   ],
   "source": [
    "\n",
    "b=np.array([[1,2,3,4],[5,6,7,8]])\n",
    "print(\"shape\", b.shape) # it gives rows and coulums\n",
    "print(\"size\", b.size) # no. of elements\n",
    "print(\"dim\",b.ndim) # it gives the dimentions\n",
    "print(\"type\",b.dtype) # type of the numbers\n",
    "print(b[1,3])\n",
    "\n"
   ]
  },
  {
   "attachments": {},
   "cell_type": "markdown",
   "id": "669b11bc",
   "metadata": {},
   "source": [
    "### concept of zeros ones and empty "
   ]
  },
  {
   "cell_type": "code",
   "execution_count": 22,
   "id": "798dd1ff",
   "metadata": {},
   "outputs": [
    {
     "name": "stdout",
     "output_type": "stream",
     "text": [
      "[[0 0 0 0 0]\n",
      " [0 0 0 0 0]]\n",
      "[[1 1 1 1]\n",
      " [1 1 1 1]]\n",
      "[[-2019524080         380           0]\n",
      " [          0           1 -2147483648]]\n"
     ]
    }
   ],
   "source": [
    "zeros=np.zeros((2,5),dtype=np.int16)\n",
    "print(zeros)#it gives the array of the zeros\n",
    "ones=np.ones((2,4),dtype=np.int32)\n",
    "print(ones)#it gives the array of ones\n",
    "empty=np.empty((2,3),dtype=np.int32)\n",
    "print(empty)#it gives the array of random no."
   ]
  },
  {
   "attachments": {},
   "cell_type": "markdown",
   "id": "2b540878",
   "metadata": {},
   "source": [
    "## concept of 1d array \n",
    "##\n",
    "### arange method"
   ]
  },
  {
   "cell_type": "code",
   "execution_count": 52,
   "id": "d724f879",
   "metadata": {},
   "outputs": [
    {
     "name": "stdout",
     "output_type": "stream",
     "text": [
      "[ 0  1  2  3  4  5  6  7  8  9 10 11 12 13 14 15 16 17 18 19 20 21 22 23\n",
      " 24 25 26 27 28 29 30 31 32 33 34 35 36 37 38 39 40 41 42 43 44]\n",
      "<class 'numpy.ndarray'>\n",
      "1\n"
     ]
    }
   ],
   "source": [
    "# when you print an array, NUMPY displays it in a similar way to nested list\n",
    "a=np.arange(45)\n",
    "print(a)\n",
    "print(type(a))\n",
    "print(a.ndim)\n",
    "\n",
    "# it just gives only 1 d array\n",
    "\n",
    "\n",
    "\n"
   ]
  },
  {
   "attachments": {},
   "cell_type": "markdown",
   "id": "91e6fff0",
   "metadata": {},
   "source": [
    "## concept of 2d array with example"
   ]
  },
  {
   "cell_type": "code",
   "execution_count": 1,
   "id": "8e6bf7d4",
   "metadata": {},
   "outputs": [
    {
     "name": "stdout",
     "output_type": "stream",
     "text": [
      "[[ 0  1  2  3  4]\n",
      " [ 5  6  7  8  9]\n",
      " [10 11 12 13 14]\n",
      " [15 16 17 18 19]\n",
      " [20 21 22 23 24]\n",
      " [25 26 27 28 29]\n",
      " [30 31 32 33 34]\n",
      " [35 36 37 38 39]\n",
      " [40 41 42 43 44]]\n"
     ]
    }
   ],
   "source": [
    "import numpy as np\n",
    "b=np.arange(45).reshape(9,5)# this reshape function give the 2 d array with 9 rows and 5 coulumns\n",
    "print(b)\n",
    "\n",
    "# it just give only us that it just only row and column"
   ]
  },
  {
   "attachments": {},
   "cell_type": "markdown",
   "id": "9533127f",
   "metadata": {},
   "source": [
    "## concept of 3d array with example"
   ]
  },
  {
   "cell_type": "code",
   "execution_count": 60,
   "id": "513e712c",
   "metadata": {},
   "outputs": [
    {
     "data": {
      "text/plain": [
       "array([[[0, 1, 2]],\n",
       "\n",
       "       [[3, 4, 5]]])"
      ]
     },
     "execution_count": 60,
     "metadata": {},
     "output_type": "execute_result"
    }
   ],
   "source": [
    "b=np.arange(6).reshape(2,1,3)\n",
    "b"
   ]
  },
  {
   "cell_type": "code",
   "execution_count": null,
   "id": "6003824d",
   "metadata": {},
   "outputs": [],
   "source": [
    "### the concept of 3d reshape says that (a,b,c)\n",
    "### c= how many nno. are in one row contains\n",
    "### b= how many pairs of 1 d in each 2d\n",
    "### a= how many pairs of 2 d in each 3d"
   ]
  },
  {
   "attachments": {},
   "cell_type": "markdown",
   "id": "afa988a2",
   "metadata": {},
   "source": [
    "## concept of 4d  with examples"
   ]
  },
  {
   "cell_type": "code",
   "execution_count": 47,
   "id": "87896cec",
   "metadata": {},
   "outputs": [
    {
     "data": {
      "text/plain": [
       "array([[[[ 0,  1],\n",
       "         [ 2,  3],\n",
       "         [ 4,  5]],\n",
       "\n",
       "        [[ 6,  7],\n",
       "         [ 8,  9],\n",
       "         [10, 11]]]])"
      ]
     },
     "execution_count": 47,
     "metadata": {},
     "output_type": "execute_result"
    }
   ],
   "source": [
    "b=np.arange(12).reshape(1,2,3,2)\n",
    "b"
   ]
  },
  {
   "cell_type": "code",
   "execution_count": 48,
   "id": "012ed348",
   "metadata": {},
   "outputs": [
    {
     "data": {
      "text/plain": [
       "array([[[[ 0,  1]],\n",
       "\n",
       "        [[ 2,  3]],\n",
       "\n",
       "        [[ 4,  5]],\n",
       "\n",
       "        [[ 6,  7]]],\n",
       "\n",
       "\n",
       "       [[[ 8,  9]],\n",
       "\n",
       "        [[10, 11]],\n",
       "\n",
       "        [[12, 13]],\n",
       "\n",
       "        [[14, 15]]]])"
      ]
     },
     "execution_count": 48,
     "metadata": {},
     "output_type": "execute_result"
    }
   ],
   "source": [
    "b=np.arange(16).reshape(2,4,1,2)\n",
    "b"
   ]
  },
  {
   "cell_type": "code",
   "execution_count": 49,
   "id": "58f5de71",
   "metadata": {},
   "outputs": [
    {
     "data": {
      "text/plain": [
       "array([[[[ 0,  1,  2,  3,  4]],\n",
       "\n",
       "        [[ 5,  6,  7,  8,  9]]],\n",
       "\n",
       "\n",
       "       [[[10, 11, 12, 13, 14]],\n",
       "\n",
       "        [[15, 16, 17, 18, 19]]]])"
      ]
     },
     "execution_count": 49,
     "metadata": {},
     "output_type": "execute_result"
    }
   ],
   "source": [
    "b=np.arange(20).reshape(2,2,1,5)\n",
    "b"
   ]
  },
  {
   "cell_type": "code",
   "execution_count": 50,
   "id": "e7b7bb48",
   "metadata": {},
   "outputs": [
    {
     "name": "stdout",
     "output_type": "stream",
     "text": [
      "[[[[ 0  1  2]\n",
      "   [ 3  4  5]]\n",
      "\n",
      "  [[ 6  7  8]\n",
      "   [ 9 10 11]]]\n",
      "\n",
      "\n",
      " [[[12 13 14]\n",
      "   [15 16 17]]\n",
      "\n",
      "  [[18 19 20]\n",
      "   [21 22 23]]]]\n"
     ]
    }
   ],
   "source": [
    "c=np.arange(24).reshape(2,2,2,3)\n",
    "print(c)"
   ]
  },
  {
   "attachments": {},
   "cell_type": "markdown",
   "id": "ce6df559",
   "metadata": {},
   "source": [
    "### the concept of 4d array says that in reshape(a,b,c,d)\n",
    "### d= in one row how many no.  contains\n",
    "### c= c denotes the how many pair of one d array in each 2d array\n",
    "### b= b denotes the how many pair of 2d array in every three d array\n",
    "### a= a denotes the how many pair of 3d array in 4d array"
   ]
  },
  {
   "attachments": {},
   "cell_type": "markdown",
   "id": "d8235992",
   "metadata": {},
   "source": [
    "#### "
   ]
  },
  {
   "attachments": {},
   "cell_type": "markdown",
   "id": "b38809f5",
   "metadata": {},
   "source": [
    "### linespace "
   ]
  },
  {
   "cell_type": "code",
   "execution_count": 62,
   "id": "79ef26e3",
   "metadata": {},
   "outputs": [
    {
     "data": {
      "text/plain": [
       "array([1.        , 1.36363636, 1.72727273, 2.09090909, 2.45454545,\n",
       "       2.81818182, 3.18181818, 3.54545455, 3.90909091, 4.27272727,\n",
       "       4.63636364, 5.        ])"
      ]
     },
     "execution_count": 62,
     "metadata": {},
     "output_type": "execute_result"
    }
   ],
   "source": [
    "linespace=np.linspace(1,5,12)\n",
    "linespace\n",
    "# this will give me a 12 equal distance no. from 1 to 5 "
   ]
  },
  {
   "attachments": {},
   "cell_type": "markdown",
   "id": "572ce86a",
   "metadata": {},
   "source": [
    "### empty"
   ]
  },
  {
   "cell_type": "code",
   "execution_count": 66,
   "id": "05023ccc",
   "metadata": {},
   "outputs": [
    {
     "data": {
      "text/plain": [
       "array([ 8.07482619e-312,  0.00000000e+000, -4.94065646e-324])"
      ]
     },
     "execution_count": 66,
     "metadata": {},
     "output_type": "execute_result"
    }
   ],
   "source": [
    "empty=np.empty((2,3))\n",
    "empty\n",
    "# this will give me a random no. with 2 rows and 3 coulumns\n",
    "empty=np.empty((3,))\n",
    "empty"
   ]
  },
  {
   "attachments": {},
   "cell_type": "markdown",
   "id": "9249208c",
   "metadata": {},
   "source": [
    "### empty like method"
   ]
  },
  {
   "cell_type": "code",
   "execution_count": 68,
   "id": "fb174947",
   "metadata": {},
   "outputs": [
    {
     "data": {
      "text/plain": [
       "array([1.        , 1.36363636, 1.72727273, 2.09090909, 2.45454545,\n",
       "       2.81818182, 3.18181818, 3.54545455, 3.90909091, 4.27272727,\n",
       "       4.63636364, 5.        ])"
      ]
     },
     "execution_count": 68,
     "metadata": {},
     "output_type": "execute_result"
    }
   ],
   "source": [
    "emptylike=np.empty_like(linespace)\n",
    "emptylike\n",
    "# this method give a same nos that is in bracket"
   ]
  },
  {
   "attachments": {},
   "cell_type": "markdown",
   "id": "80b8f85a",
   "metadata": {},
   "source": [
    "### identity"
   ]
  },
  {
   "cell_type": "code",
   "execution_count": 69,
   "id": "4d24b3fc",
   "metadata": {},
   "outputs": [
    {
     "data": {
      "text/plain": [
       "array([[1., 0., 0., 0., 0., 0.],\n",
       "       [0., 1., 0., 0., 0., 0.],\n",
       "       [0., 0., 1., 0., 0., 0.],\n",
       "       [0., 0., 0., 1., 0., 0.],\n",
       "       [0., 0., 0., 0., 1., 0.],\n",
       "       [0., 0., 0., 0., 0., 1.]])"
      ]
     },
     "execution_count": 69,
     "metadata": {},
     "output_type": "execute_result"
    }
   ],
   "source": [
    "identity=np.identity(6)\n",
    "identity\n",
    "# this will give the identiy matrix of n*n"
   ]
  },
  {
   "attachments": {},
   "cell_type": "markdown",
   "id": "0b45f0ef",
   "metadata": {},
   "source": [
    "### ravel"
   ]
  },
  {
   "cell_type": "code",
   "execution_count": 71,
   "id": "e79ac297",
   "metadata": {},
   "outputs": [
    {
     "data": {
      "text/plain": [
       "array([1., 0., 0., 0., 0., 0., 0., 1., 0., 0., 0., 0., 0., 0., 1., 0., 0.,\n",
       "       0., 0., 0., 0., 1., 0., 0., 0., 0., 0., 0., 1., 0., 0., 0., 0., 0.,\n",
       "       0., 1.])"
      ]
     },
     "execution_count": 71,
     "metadata": {},
     "output_type": "execute_result"
    }
   ],
   "source": [
    "identity.ravel()\n",
    "# this is the function or attribute that given the original dim that is 1d array"
   ]
  },
  {
   "attachments": {},
   "cell_type": "markdown",
   "id": "70dfe02f",
   "metadata": {},
   "source": [
    "## various function in python"
   ]
  },
  {
   "cell_type": "code",
   "execution_count": 19,
   "id": "bd5ab747",
   "metadata": {},
   "outputs": [
    {
     "name": "stdout",
     "output_type": "stream",
     "text": [
      "9.0\n",
      "9\n",
      "0.0\n",
      "3\n",
      "3\n",
      "0\n",
      "[[0 1 3 2 4 5]\n",
      " [0 1 2 4 3 5]]\n",
      "[9.  6.9 9. ]\n",
      "[ 6.9 18. ]\n",
      "[[0.  9. ]\n",
      " [2.9 4. ]\n",
      " [4.  5. ]]\n",
      "[1 1 1]\n",
      "[2 0]\n",
      "[[0.         1.70293864 2.        ]\n",
      " [3.         2.         2.23606798]]\n",
      "[[1.00000000e+00 1.81741454e+01 5.45981500e+01]\n",
      " [8.10308393e+03 5.45981500e+01 1.48413159e+02]]\n",
      "[[ 3.   6.9 13. ]\n",
      " [13.  12.  10. ]]\n",
      "(array([0, 0, 1, 1, 1], dtype=int64), array([1, 2, 0, 1, 2], dtype=int64))\n",
      "<class 'tuple'>\n",
      "5\n",
      "(array([0, 0, 1, 1, 1], dtype=int64), array([1, 2, 0, 1, 2], dtype=int64))\n",
      "[[0.  2.9 4. ]\n",
      " [9.  4.  5. ]]\n",
      "[[0.  2.9 4. ]\n",
      " [9.  4.  5. ]]\n",
      "[[0. 1. 1.]\n",
      " [1. 1. 1.]]\n",
      "[[0. 3. 4.]\n",
      " [9. 4. 5.]]\n",
      "(array([[0. , 0.9, 0. ],\n",
      "       [0. , 0. , 0. ]]), array([[0., 2., 4.],\n",
      "       [9., 4., 5.]]))\n",
      "[[False False False]\n",
      " [False False False]]\n",
      "[[False False False]\n",
      " [False False False]]\n"
     ]
    }
   ],
   "source": [
    "import numpy as np\n",
    "a=np.array([[0,2.9,4],[9,4,5]])\n",
    "b=np.array([[3,4,9],[4,8,5]])\n",
    "print(a.max())#this will give the maximum no. in array\n",
    "print(b.max())\n",
    "print(a.min())# this will give the value of min no in array\n",
    "print(b.min())\n",
    "print(a.argmax())# this will give the idex value of max no.\n",
    "print(a.argmin())# this wil give the idex balue of min no.\n",
    "c=np.array([[1,2,4,3,5,6],[7,8,9,11,10,12]])\n",
    "print(c.argsort())# gives the sorted index \n",
    "print(a.sum(axis=0))# this will give the sum of rows\n",
    "print(a.sum(axis=1))# coulums\n",
    "print(a.T)# transposse of matrix\n",
    "print(a.argmax(axis=0))# check the rows and give index\n",
    "print(a.argmax(axis=1))# check coulms\n",
    "\n",
    "#universal functions\n",
    "print(np.sqrt(a))\n",
    "print(np.exp(a))\n",
    "print(np.add(a,b))\n",
    "print(np.where(a>1))# this will give index value where a>1\n",
    "print(type(np.where(a>1)))# this gives the idex in tuple form\n",
    "print(np.count_nonzero(a))# gives the value of non zeros\n",
    "print(np.nonzero(a))\n",
    "print(np.abs(a))# gives the  absoulute value\n",
    "print(np.fabs(a))#gives floating values\n",
    "print(np.sign(a))# gives the singn of a no. 1for postive 0 for zero -1 for negative\n",
    "# a=.9\n",
    "print(np.rint(a))# it gives the round of value\n",
    "print(np.modf(a))# it diff the integerand fraction parts\n",
    "print(np.isnan(a))# it gives the boolean value that indicates the nan\n",
    "print(np.isnan(b))"
   ]
  },
  {
   "attachments": {},
   "cell_type": "markdown",
   "id": "5971abb3",
   "metadata": {},
   "source": [
    "### basic operations"
   ]
  },
  {
   "cell_type": "code",
   "execution_count": 77,
   "id": "2a83f6e8",
   "metadata": {},
   "outputs": [
    {
     "name": "stdout",
     "output_type": "stream",
     "text": [
      "[[ 4  6  9]\n",
      " [ 6  8 10]]\n",
      "[[-2 -2 -1]\n",
      " [ 0  0  0]]\n",
      "[[ 3  8 20]\n",
      " [ 9 16 25]]\n",
      "[[ 1  4 16]\n",
      " [ 9 16 25]]\n",
      "[[ True  True False]\n",
      " [ True False False]]\n",
      "[[18 21 22]\n",
      " [27 32 34]\n",
      " [36 45 49]]\n"
     ]
    }
   ],
   "source": [
    "a=np.array([[1,2,4],[3,4,5]])\n",
    "b=np.array([[3,4,5],[3,4,5]])\n",
    "print(a+b)\n",
    "print(a-b)\n",
    "print(a*b)# this multipication is done in element vise\n",
    "print(a**2)# this will give us the square of every n o in a \n",
    "print(a<4)# this will check all the element conditin is true that true ow false\n",
    "a=np.array([[1,2,3],[2,3,4],[4,5,3]])\n",
    "b=np.array([[3,4,5],[3,4,4],[3,3,3]])\n",
    "print(a.dot(b))# this use matrix multipication"
   ]
  },
  {
   "attachments": {},
   "cell_type": "markdown",
   "id": "a8f038df",
   "metadata": {},
   "source": [
    "## indexing ,slicing,iterating"
   ]
  },
  {
   "cell_type": "code",
   "execution_count": 37,
   "id": "b2a29970",
   "metadata": {},
   "outputs": [
    {
     "name": "stdout",
     "output_type": "stream",
     "text": [
      "[[[ 0  1  2  3  4]\n",
      "  [ 5  6  7  8  9]\n",
      "  [10 11 12 13 14]\n",
      "  [15 16 17 18 19]\n",
      "  [20 21 22 23 24]\n",
      "  [25 26 27 28 29]\n",
      "  [30 31 32 33 34]\n",
      "  [35 36 37 38 39]\n",
      "  [40 41 42 43 44]]\n",
      "\n",
      " [[45 46 47 48 49]\n",
      "  [50 51 52 53 54]\n",
      "  [55 56 57 58 59]\n",
      "  [60 61 62 63 64]\n",
      "  [65 66 67 68 69]\n",
      "  [70 71 72 73 74]\n",
      "  [75 76 77 78 79]\n",
      "  [80 81 82 83 84]\n",
      "  [85 86 87 88 89]]]\n",
      "[[45 46 47 48 49]\n",
      " [50 51 52 53 54]\n",
      " [55 56 57 58 59]\n",
      " [60 61 62 63 64]\n",
      " [65 66 67 68 69]\n",
      " [70 71 72 73 74]\n",
      " [75 76 77 78 79]\n",
      " [80 81 82 83 84]\n",
      " [85 86 87 88 89]]\n",
      "[[10 11 12 13 14]\n",
      " [55 56 57 58 59]]\n",
      "[[53 54]\n",
      " [58 59]]\n",
      "[[53 58]\n",
      " [54 59]]\n"
     ]
    }
   ],
   "source": [
    "a=np.arange(90).reshape(2,9,5)\n",
    "print(a)# this will genrate the 2 parts o or 1\n",
    "print(a[1,...])# this will genrate the 1 part with all values\n",
    "# it denotes the a,b,c\n",
    "#a= this denotes the array which you are used\n",
    "#b=this denotes the row which you are selected\n",
    "#c=this denotes the column of the array\n",
    "print(a[:,2,:])\n",
    "print(a[1,1:3,3:5])\n",
    "print(a[1,1:3,[3,4]])\n",
    "\n",
    "\n"
   ]
  },
  {
   "attachments": {},
   "cell_type": "markdown",
   "id": "30ede8da",
   "metadata": {},
   "source": [
    "## array arithmetic"
   ]
  },
  {
   "cell_type": "code",
   "execution_count": 39,
   "id": "8aac2e34",
   "metadata": {},
   "outputs": [
    {
     "name": "stdout",
     "output_type": "stream",
     "text": [
      "x= [0 1 2 3]\n",
      "sum= [5 6 7 8]\n",
      "sub= [-5 -4 -3 -2]\n",
      "mul= [0 2 4 6]\n",
      "div= [0.  0.5 1.  1.5]\n",
      "x//2= [0 0 1 1]\n",
      "x**2= [0 1 4 9]\n",
      "x%2= [0 1 0 1]\n",
      "x-= [ 0 -1 -2 -3]\n"
     ]
    }
   ],
   "source": [
    "x=np.arange(4)\n",
    "print(\"x=\",x)\n",
    "print(\"sum=\",x+5)\n",
    "print(\"sub=\",x-5)\n",
    "print(\"mul=\",x*2)\n",
    "print(\"div=\",x/2)\n",
    "print(\"x//2=\",x//2)\n",
    "print(\"x**2=\",x**2)\n",
    "print(\"x%2=\",x%2)\n",
    "print(\"x-=\",-x)"
   ]
  },
  {
   "attachments": {},
   "cell_type": "markdown",
   "id": "5f1b05c9",
   "metadata": {},
   "source": [
    "## broadcasting"
   ]
  },
  {
   "cell_type": "code",
   "execution_count": 40,
   "id": "7d6b2da6",
   "metadata": {},
   "outputs": [
    {
     "data": {
      "text/plain": [
       "array([[4, 6, 8],\n",
       "       [3, 5, 7]])"
      ]
     },
     "execution_count": 40,
     "metadata": {},
     "output_type": "execute_result"
    }
   ],
   "source": [
    "a=np.array([[2,3,4],[1,2,3]])\n",
    "b=np.array([2,3,4])\n",
    "a+b"
   ]
  },
  {
   "cell_type": "code",
   "execution_count": 47,
   "id": "7fec2b67",
   "metadata": {},
   "outputs": [
    {
     "data": {
      "text/plain": [
       "array([[ 0,  2,  4,  6],\n",
       "       [ 4,  6,  8, 10],\n",
       "       [ 8, 10, 12, 14],\n",
       "       [12, 14, 16, 18]])"
      ]
     },
     "execution_count": 47,
     "metadata": {},
     "output_type": "execute_result"
    }
   ],
   "source": [
    "a=np.arange(16).reshape(4,4)\n",
    "b=np.arange(4).reshape(1,4)\n",
    "a+b\n",
    "# broadcasting means that the addition is performend whenever the matrix is not mis match but it adds the list only 1 "
   ]
  },
  {
   "attachments": {},
   "cell_type": "markdown",
   "id": "b08f9e6d",
   "metadata": {},
   "source": [
    "### computing using numpy"
   ]
  },
  {
   "cell_type": "code",
   "execution_count": 1,
   "id": "fa3b475b",
   "metadata": {},
   "outputs": [
    {
     "name": "stdout",
     "output_type": "stream",
     "text": [
      "10\n",
      "1.09 µs ± 5.27 ns per loop (mean ± std. dev. of 7 runs, 1,000,000 loops each)\n",
      "4.12 µs ± 589 ns per loop (mean ± std. dev. of 7 runs, 100,000 loops each)\n"
     ]
    }
   ],
   "source": [
    "import numpy as np\n",
    "l=np.array([1,2,3,4])\n",
    "print(sum(l))\n",
    "np.sum(l)\n",
    "%timeit sum(l)\n",
    "%timeit np.sum(l)"
   ]
  },
  {
   "cell_type": "code",
   "execution_count": 19,
   "id": "e6951669",
   "metadata": {},
   "outputs": [
    {
     "name": "stdout",
     "output_type": "stream",
     "text": [
      "10\n",
      "19.4 ns ± 0.121 ns per loop (mean ± std. dev. of 7 runs, 100,000,000 loops each)\n",
      "2.99 µs ± 23.7 ns per loop (mean ± std. dev. of 7 runs, 100,000 loops each)\n"
     ]
    }
   ],
   "source": [
    "# np takes less time to complete there work\n",
    "# bus other function take more time to completer there work\n",
    "import numpy as np\n",
    "sum=0\n",
    "for i in range(1,5):\n",
    "    sum=sum+i\n",
    "print(sum) \n",
    "%timeit sum\n",
    "l=np.array([1,2,3,4])\n",
    "%timeit np.sum(l)# this is the method for calculating the time of the program "
   ]
  },
  {
   "attachments": {},
   "cell_type": "markdown",
   "id": "4f8508c4",
   "metadata": {},
   "source": [
    "##  reading data from csv file"
   ]
  },
  {
   "cell_type": "code",
   "execution_count": 32,
   "id": "50f0bd18",
   "metadata": {},
   "outputs": [
    {
     "name": "stdout",
     "output_type": "stream",
     "text": [
      "(1000, 3) 2\n",
      "[[ 7. 27.  1.]\n",
      " [ 2. 43.  0.]\n",
      " [ 7. 26.  1.]\n",
      " ...\n",
      " [ 3. 39.  0.]\n",
      " [ 7. 25.  1.]\n",
      " [ 5. 37.  0.]]\n"
     ]
    }
   ],
   "source": [
    "import numpy as np\n",
    "a=\"https://raw.githubusercontent.com/sarwansingh/Python/master/ClassExamples/data/student-pass-fail-data.csv\"\n",
    "n1=np.genfromtxt(a,delimiter=\",\",skip_header=1)\n",
    "print(n1.shape,n1.ndim)\n",
    "print(n1)\n"
   ]
  },
  {
   "attachments": {},
   "cell_type": "markdown",
   "id": "faf13042",
   "metadata": {},
   "source": [
    "### writing own images"
   ]
  },
  {
   "cell_type": "code",
   "execution_count": 125,
   "id": "01077b66",
   "metadata": {},
   "outputs": [
    {
     "name": "stdout",
     "output_type": "stream",
     "text": [
      "[[  0   1   2   3   4   5   6   7   8   9]\n",
      " [ 10  11  12  13  14  15  16  17  18  19]\n",
      " [ 20  21  22  23  24  25  26  27  28  29]\n",
      " [ 30  31  32  33  34  35  36  37  38  39]\n",
      " [ 40  41  42  43  44  45  46  47  48  49]\n",
      " [ 50  51  52  53  54  55  56  57  58  59]\n",
      " [ 60  61  62  63  64  65  66  67  68  69]\n",
      " [ 70  71  72  73  74  75  76  77  78  79]\n",
      " [ 80  81  82  83  84  85  86  87  88  89]\n",
      " [ 90  91  92  93  94  95  96  97  98  99]\n",
      " [100 101 102 103 104 105 106 107 108 109]\n",
      " [110 111 112 113 114 115 116 117 118 119]\n",
      " [120 121 122 123 124 125 126 127 128 129]\n",
      " [130 131 132 133 134 135 136 137 138 139]\n",
      " [140 141 142 143 144 145 146 147 148 149]\n",
      " [150 151 152 153 154 155 156 157 158 159]\n",
      " [160 161 162 163 164 165 166 167 168 169]\n",
      " [170 171 172 173 174 175 176 177 178 179]\n",
      " [180 181 182 183 184 185 186 187 188 189]\n",
      " [190 191 192 193 194 195 196 197 198 199]\n",
      " [200 201 202 203 204 205 206 207 208 209]\n",
      " [210 211 212 213 214 215 216 217 218 219]\n",
      " [220 221 222 223 224 225 226 227 228 229]\n",
      " [230 231 232 233 234 235 236 237 238 239]\n",
      " [240 241 242 243 244 245 246 247 248 249]]\n"
     ]
    }
   ],
   "source": [
    "import numpy as np\n",
    "from PIL import Image\n",
    "a=np.arange(0,250,1,np.uint8).reshape(25,10)\n",
    "print(a)\n",
    "img=Image.fromarray(a)\n",
    "img.save(\"image.png\")"
   ]
  }
 ],
 "metadata": {
  "kernelspec": {
   "display_name": "Python 3 (ipykernel)",
   "language": "python",
   "name": "python3"
  },
  "language_info": {
   "codemirror_mode": {
    "name": "ipython",
    "version": 3
   },
   "file_extension": ".py",
   "mimetype": "text/x-python",
   "name": "python",
   "nbconvert_exporter": "python",
   "pygments_lexer": "ipython3",
   "version": "3.10.9"
  }
 },
 "nbformat": 4,
 "nbformat_minor": 5
}
